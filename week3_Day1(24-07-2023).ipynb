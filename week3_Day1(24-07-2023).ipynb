{
 "cells": [
  {
   "cell_type": "markdown",
   "id": "08c3e610",
   "metadata": {},
   "source": [
    "### Modules and packages:\n",
    "- 1. Module:\n",
    "    - It is a collection of functions.\n",
    "    - module is nothing but .py file.\n",
    "    - In module we need to write functions,classes,variables.\n",
    "    - First we need import module.\n",
    "    - syntax:\n",
    "            import module_name(.py file name)\n",
    "            - To access the modules data..\n",
    "                module_name.function_name()\n",
    "                module_name.Variable_name\n",
    "                module_name.class_name"
   ]
  },
  {
   "cell_type": "code",
   "execution_count": 1,
   "id": "ad7f5432",
   "metadata": {},
   "outputs": [],
   "source": [
    "# To import the module file\n",
    "# here demo is the module name.\n",
    "import demo"
   ]
  },
  {
   "cell_type": "code",
   "execution_count": 2,
   "id": "0191d1aa",
   "metadata": {},
   "outputs": [
    {
     "name": "stdout",
     "output_type": "stream",
     "text": [
      "Help on module demo:\n",
      "\n",
      "NAME\n",
      "    demo\n",
      "\n",
      "FUNCTIONS\n",
      "    addition(a, b)\n",
      "    \n",
      "    greetings(name)\n",
      "    \n",
      "    reverse(n)\n",
      "\n",
      "DATA\n",
      "    a = 100\n",
      "\n",
      "FILE\n",
      "    c:\\users\\bhavya\\da-internship-batch2\\week3\\demo.py\n",
      "\n",
      "\n"
     ]
    }
   ],
   "source": [
    "help(demo)"
   ]
  },
  {
   "cell_type": "code",
   "execution_count": 3,
   "id": "abb9af4c",
   "metadata": {},
   "outputs": [
    {
     "data": {
      "text/plain": [
       "30"
      ]
     },
     "execution_count": 3,
     "metadata": {},
     "output_type": "execute_result"
    }
   ],
   "source": [
    "# TO access the module_data\n",
    "demo.addition(10,20)"
   ]
  },
  {
   "cell_type": "code",
   "execution_count": 4,
   "id": "c1df5307",
   "metadata": {},
   "outputs": [
    {
     "name": "stdout",
     "output_type": "stream",
     "text": [
      "Hello : aadyan\n"
     ]
    }
   ],
   "source": [
    "demo.greetings('aadyan')"
   ]
  },
  {
   "cell_type": "code",
   "execution_count": 5,
   "id": "51d7e835",
   "metadata": {},
   "outputs": [
    {
     "data": {
      "text/plain": [
       "100"
      ]
     },
     "execution_count": 5,
     "metadata": {},
     "output_type": "execute_result"
    }
   ],
   "source": [
    "demo.a"
   ]
  },
  {
   "cell_type": "code",
   "execution_count": 6,
   "id": "d8f79e02",
   "metadata": {},
   "outputs": [
    {
     "data": {
      "text/plain": [
       "79"
      ]
     },
     "execution_count": 6,
     "metadata": {},
     "output_type": "execute_result"
    }
   ],
   "source": [
    "# using the alias names ..\n",
    "# procedure-2\n",
    "import demo as d\n",
    "d.addition(23,56)"
   ]
  },
  {
   "cell_type": "code",
   "execution_count": 7,
   "id": "9f7da0c1",
   "metadata": {},
   "outputs": [
    {
     "data": {
      "text/plain": [
       "68"
      ]
     },
     "execution_count": 7,
     "metadata": {},
     "output_type": "execute_result"
    }
   ],
   "source": [
    "# procedure-3\n",
    "# using from method to develop the modules..\n",
    "# syntax: from module_name import function_name\n",
    "from demo import addition\n",
    "addition(23,45)"
   ]
  },
  {
   "cell_type": "code",
   "execution_count": 8,
   "id": "43378da8",
   "metadata": {},
   "outputs": [
    {
     "data": {
      "text/plain": [
       "432"
      ]
     },
     "execution_count": 8,
     "metadata": {},
     "output_type": "execute_result"
    }
   ],
   "source": [
    "from demo import reverse\n",
    "reverse(234)"
   ]
  },
  {
   "cell_type": "code",
   "execution_count": 9,
   "id": "57a44094",
   "metadata": {},
   "outputs": [
    {
     "data": {
      "text/plain": [
       "65432"
      ]
     },
     "execution_count": 9,
     "metadata": {},
     "output_type": "execute_result"
    }
   ],
   "source": [
    "from demo import reverse as r\n",
    "r(23456)"
   ]
  },
  {
   "cell_type": "code",
   "execution_count": 12,
   "id": "98ecacbf",
   "metadata": {},
   "outputs": [
    {
     "name": "stdout",
     "output_type": "stream",
     "text": [
      "100\n",
      "121\n",
      "Hello : narmada\n",
      "8799878\n"
     ]
    }
   ],
   "source": [
    "# procedure-4:\n",
    "# using '*'(all) to access the information from a demo file..\n",
    "from demo import *\n",
    "print(a)\n",
    "print(addition(34,87))\n",
    "greetings('narmada')\n",
    "print(reverse(8789978))"
   ]
  },
  {
   "cell_type": "code",
   "execution_count": 14,
   "id": "9485ff3d",
   "metadata": {},
   "outputs": [
    {
     "data": {
      "text/plain": [
       "321"
      ]
     },
     "execution_count": 14,
     "metadata": {},
     "output_type": "execute_result"
    }
   ],
   "source": [
    "def reverse(n):\n",
    "    rev=0\n",
    "    while(n!=0):\n",
    "        rem=n%10\n",
    "        rev=rev*10+rem\n",
    "        n=n//10\n",
    "    return rev\n",
    "reverse(123)"
   ]
  },
  {
   "cell_type": "code",
   "execution_count": 15,
   "id": "bcbc4d79",
   "metadata": {},
   "outputs": [
    {
     "data": {
      "text/plain": [
       "543"
      ]
     },
     "execution_count": 15,
     "metadata": {},
     "output_type": "execute_result"
    }
   ],
   "source": [
    "from demo import reverse as r\n",
    "r(345)"
   ]
  },
  {
   "cell_type": "markdown",
   "id": "af231167",
   "metadata": {},
   "source": [
    "### packages:\n",
    "- It is collection of modules.\n",
    "- Package is nothing but a directory(folder).\n",
    "- syntax:\n",
    "        import package_name.module_name\n",
    "- To access the packages information..\n",
    "    package_name.module_name.function_name\n",
    "    package_name.module_name.variable_name\n",
    "    package_name.module_name.class_name"
   ]
  },
  {
   "cell_type": "code",
   "execution_count": 16,
   "id": "3d87d948",
   "metadata": {},
   "outputs": [],
   "source": [
    "# need to import the package\n",
    "import python.menu"
   ]
  },
  {
   "cell_type": "code",
   "execution_count": 18,
   "id": "457dba62",
   "metadata": {},
   "outputs": [
    {
     "name": "stdout",
     "output_type": "stream",
     "text": [
      "Help on module python.menu in python:\n",
      "\n",
      "NAME\n",
      "    python.menu\n",
      "\n",
      "FUNCTIONS\n",
      "    hello()\n",
      "    \n",
      "    subtract(a, b)\n",
      "\n",
      "DATA\n",
      "    n = 45\n",
      "    s1 = 'python programming'\n",
      "\n",
      "FILE\n",
      "    c:\\users\\bhavya\\da-internship-batch2\\week3\\python\\menu.py\n",
      "\n",
      "\n"
     ]
    }
   ],
   "source": [
    "help(python.menu)"
   ]
  },
  {
   "cell_type": "code",
   "execution_count": 19,
   "id": "42db78e0",
   "metadata": {},
   "outputs": [
    {
     "data": {
      "text/plain": [
       "-32"
      ]
     },
     "execution_count": 19,
     "metadata": {},
     "output_type": "execute_result"
    }
   ],
   "source": [
    "# To access the package data\n",
    "python.menu.subtract(24,56)"
   ]
  },
  {
   "cell_type": "code",
   "execution_count": 20,
   "id": "fc111c83",
   "metadata": {},
   "outputs": [
    {
     "data": {
      "text/plain": [
       "'python programming'"
      ]
     },
     "execution_count": 20,
     "metadata": {},
     "output_type": "execute_result"
    }
   ],
   "source": [
    "python.menu.s1"
   ]
  },
  {
   "cell_type": "code",
   "execution_count": 21,
   "id": "f4e5986c",
   "metadata": {},
   "outputs": [
    {
     "data": {
      "text/plain": [
       "66"
      ]
     },
     "execution_count": 21,
     "metadata": {},
     "output_type": "execute_result"
    }
   ],
   "source": [
    "# using from method..\n",
    "from python import menu\n",
    "menu.subtract(100,34)"
   ]
  },
  {
   "cell_type": "code",
   "execution_count": 22,
   "id": "1cb9ad73",
   "metadata": {},
   "outputs": [
    {
     "data": {
      "text/plain": [
       "-22"
      ]
     },
     "execution_count": 22,
     "metadata": {},
     "output_type": "execute_result"
    }
   ],
   "source": [
    "from python.menu import subtract as s\n",
    "s(23,45)"
   ]
  },
  {
   "cell_type": "code",
   "execution_count": 23,
   "id": "35ac41ca",
   "metadata": {},
   "outputs": [
    {
     "name": "stdout",
     "output_type": "stream",
     "text": [
      "Welcome to data analysis internship using python\n"
     ]
    }
   ],
   "source": [
    "from python.menu import *\n",
    "hello()"
   ]
  },
  {
   "cell_type": "code",
   "execution_count": 25,
   "id": "d6218f0f",
   "metadata": {
    "collapsed": true
   },
   "outputs": [
    {
     "name": "stdout",
     "output_type": "stream",
     "text": [
      "['ArithmeticError', 'AssertionError', 'AttributeError', 'BaseException', 'BlockingIOError', 'BrokenPipeError', 'BufferError', 'BytesWarning', 'ChildProcessError', 'ConnectionAbortedError', 'ConnectionError', 'ConnectionRefusedError', 'ConnectionResetError', 'DeprecationWarning', 'EOFError', 'Ellipsis', 'EnvironmentError', 'Exception', 'False', 'FileExistsError', 'FileNotFoundError', 'FloatingPointError', 'FutureWarning', 'GeneratorExit', 'IOError', 'ImportError', 'ImportWarning', 'IndentationError', 'IndexError', 'InterruptedError', 'IsADirectoryError', 'KeyError', 'KeyboardInterrupt', 'LookupError', 'MemoryError', 'ModuleNotFoundError', 'NameError', 'None', 'NotADirectoryError', 'NotImplemented', 'NotImplementedError', 'OSError', 'OverflowError', 'PendingDeprecationWarning', 'PermissionError', 'ProcessLookupError', 'RecursionError', 'ReferenceError', 'ResourceWarning', 'RuntimeError', 'RuntimeWarning', 'StopAsyncIteration', 'StopIteration', 'SyntaxError', 'SyntaxWarning', 'SystemError', 'SystemExit', 'TabError', 'TimeoutError', 'True', 'TypeError', 'UnboundLocalError', 'UnicodeDecodeError', 'UnicodeEncodeError', 'UnicodeError', 'UnicodeTranslateError', 'UnicodeWarning', 'UserWarning', 'ValueError', 'Warning', 'WindowsError', 'ZeroDivisionError', '__IPYTHON__', '__build_class__', '__debug__', '__doc__', '__import__', '__loader__', '__name__', '__package__', '__spec__', 'abs', 'all', 'any', 'ascii', 'bin', 'bool', 'breakpoint', 'bytearray', 'bytes', 'callable', 'chr', 'classmethod', 'compile', 'complex', 'copyright', 'credits', 'delattr', 'dict', 'dir', 'display', 'divmod', 'enumerate', 'eval', 'exec', 'filter', 'float', 'format', 'frozenset', 'get_ipython', 'getattr', 'globals', 'hasattr', 'hash', 'help', 'hex', 'id', 'input', 'int', 'isinstance', 'issubclass', 'iter', 'len', 'license', 'list', 'locals', 'map', 'max', 'memoryview', 'min', 'next', 'object', 'oct', 'open', 'ord', 'pow', 'print', 'property', 'range', 'repr', 'reversed', 'round', 'set', 'setattr', 'slice', 'sorted', 'staticmethod', 'str', 'sum', 'super', 'tuple', 'type', 'vars', 'zip']\n"
     ]
    }
   ],
   "source": [
    "print(dir(__builtin__))"
   ]
  },
  {
   "cell_type": "code",
   "execution_count": 26,
   "id": "fc42167b",
   "metadata": {},
   "outputs": [
    {
     "data": {
      "text/plain": [
       "'C:\\\\Users\\\\Bhavya\\\\DA-Internship-Batch2\\\\week3'"
      ]
     },
     "execution_count": 26,
     "metadata": {},
     "output_type": "execute_result"
    }
   ],
   "source": [
    "import os\n",
    "os.getcwd()# To get the current working directory"
   ]
  },
  {
   "cell_type": "code",
   "execution_count": 27,
   "id": "46103941",
   "metadata": {},
   "outputs": [
    {
     "name": "stdout",
     "output_type": "stream",
     "text": [
      "successfully create the folder\n"
     ]
    }
   ],
   "source": [
    "# To create the empty folder\n",
    "os.mkdir('apssdc')\n",
    "print('successfully create the folder')"
   ]
  },
  {
   "cell_type": "markdown",
   "id": "7594808d",
   "metadata": {},
   "source": [
    "### Regular Expressions:\n",
    "- It is a sequence of characters and it it used for pattern matching.\n",
    "- Here sequence of characters -> string\n",
    "- pattern matching -> any character or group of characters.\n",
    "- To check the available data valid for us or not?\n",
    "- To extract the avaliable data.\n",
    "- first we need import re\n",
    "- syntax: import re"
   ]
  },
  {
   "cell_type": "code",
   "execution_count": 28,
   "id": "e0177afd",
   "metadata": {},
   "outputs": [],
   "source": [
    "import re"
   ]
  },
  {
   "cell_type": "code",
   "execution_count": 30,
   "id": "4908bffd",
   "metadata": {},
   "outputs": [
    {
     "name": "stdout",
     "output_type": "stream",
     "text": [
      "<re.Match object; span=(3, 4), match='h'>\n",
      "<re.Match object; span=(0, 1), match='p'>\n"
     ]
    }
   ],
   "source": [
    "# 1. search(pattern,string)\n",
    "# It returns the index position of matching first occurence.\n",
    "s1 = 'python programming'\n",
    "print(re.search('h',s1))\n",
    "print(re.search('p',s1))"
   ]
  },
  {
   "cell_type": "code",
   "execution_count": 32,
   "id": "1cb0c068",
   "metadata": {},
   "outputs": [
    {
     "name": "stdout",
     "output_type": "stream",
     "text": [
      "['p', 'p', 'p']\n",
      "3\n"
     ]
    }
   ],
   "source": [
    "# 2. findall():\n",
    "# It returns the all occurences data in the format of list\n",
    "s1 = 'python programming apssdc'\n",
    "print(re.findall('p',s1))\n",
    "print(len(re.findall('p',s1)))\n",
    "# To count the number of occurences from a string"
   ]
  },
  {
   "cell_type": "code",
   "execution_count": 33,
   "id": "85f06e63",
   "metadata": {},
   "outputs": [
    {
     "name": "stdout",
     "output_type": "stream",
     "text": [
      "raghu\n",
      "manu\n",
      "ravi\n"
     ]
    }
   ],
   "source": [
    "# To print the names which contains 'u' and 'v' characters?\n",
    "names =['raghu','manu','lalitha','ravi','aadyan','krishna','rani']\n",
    "for i in names:\n",
    "    if re.search('u',i) or re.search('v',i):\n",
    "        print(i)"
   ]
  },
  {
   "cell_type": "markdown",
   "id": "391f9be6",
   "metadata": {},
   "source": [
    "### Special characters in re:"
   ]
  },
  {
   "cell_type": "code",
   "execution_count": 37,
   "id": "f17152e3",
   "metadata": {},
   "outputs": [
    {
     "name": "stdout",
     "output_type": "stream",
     "text": [
      "<re.Match object; span=(0, 1), match=' '>\n",
      "<re.Match object; span=(0, 2), match=' p'>\n",
      "<re.Match object; span=(0, 3), match=' py'>\n",
      "<re.Match object; span=(3, 5), match='th'>\n"
     ]
    }
   ],
   "source": [
    "#.(dot)-> any single charcter expect new line\n",
    "s1 = ' python'\n",
    "print(re.search('.',s1))\n",
    "print(re.search('..',s1))\n",
    "print(re.search('...',s1))\n",
    "print(re.search('t.',s1))"
   ]
  },
  {
   "cell_type": "code",
   "execution_count": 42,
   "id": "dee25c73",
   "metadata": {},
   "outputs": [
    {
     "name": "stdout",
     "output_type": "stream",
     "text": [
      "<re.Match object; span=(0, 1), match='p'>\n",
      "None\n"
     ]
    }
   ],
   "source": [
    "#^ -> starts with a character\n",
    "s1 = 'python'\n",
    "print(re.search('^p',s1))\n",
    "print(re.search('^a',s1))"
   ]
  },
  {
   "cell_type": "code",
   "execution_count": 43,
   "id": "e6249a52",
   "metadata": {},
   "outputs": [
    {
     "name": "stdout",
     "output_type": "stream",
     "text": [
      "narmadha\n",
      "nani\n",
      "nethra\n"
     ]
    }
   ],
   "source": [
    "# To print the names starts with 'n' character from a list of names?\n",
    "L1 =['teja','narmadha','ragu','rani','nani','santhose','nethra']\n",
    "for i in L1:\n",
    "    if re.search('^n',i):\n",
    "        print(i)"
   ]
  },
  {
   "cell_type": "code",
   "execution_count": 46,
   "id": "5f121a2c",
   "metadata": {},
   "outputs": [
    {
     "name": "stdout",
     "output_type": "stream",
     "text": [
      "<re.Match object; span=(3, 4), match='i'>\n",
      "None\n"
     ]
    }
   ],
   "source": [
    "# $ -> ends with a character..\n",
    "print(re.search('i$','gani'))\n",
    "print(re.search('i$','narmada'))"
   ]
  },
  {
   "cell_type": "code",
   "execution_count": 47,
   "id": "ddf014d9",
   "metadata": {},
   "outputs": [
    {
     "name": "stdout",
     "output_type": "stream",
     "text": [
      "rani\n",
      "nani\n"
     ]
    }
   ],
   "source": [
    "# TO print the names ends with 'i' character from a list of names?\n",
    "L1 =['teja','narmadha','ragu','rani','nani','santhose','nethra']\n",
    "for i in L1:\n",
    "    if(re.search('i$',i)):\n",
    "        print(i)"
   ]
  },
  {
   "cell_type": "code",
   "execution_count": null,
   "id": "b003198e",
   "metadata": {},
   "outputs": [],
   "source": [
    "L2 =['34567','5687','678','100000','567','454564545','234']\n",
    "# To print the only three digit numbers?\n"
   ]
  }
 ],
 "metadata": {
  "kernelspec": {
   "display_name": "Python 3",
   "language": "python",
   "name": "python3"
  },
  "language_info": {
   "codemirror_mode": {
    "name": "ipython",
    "version": 3
   },
   "file_extension": ".py",
   "mimetype": "text/x-python",
   "name": "python",
   "nbconvert_exporter": "python",
   "pygments_lexer": "ipython3",
   "version": "3.8.8"
  }
 },
 "nbformat": 4,
 "nbformat_minor": 5
}
