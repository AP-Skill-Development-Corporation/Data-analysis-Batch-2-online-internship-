{
 "cells": [
  {
   "cell_type": "code",
   "execution_count": 1,
   "id": "8d5e1f24",
   "metadata": {},
   "outputs": [],
   "source": [
    "import pandas as pd"
   ]
  },
  {
   "cell_type": "code",
   "execution_count": 2,
   "id": "41c84213",
   "metadata": {},
   "outputs": [
    {
     "name": "stdout",
     "output_type": "stream",
     "text": [
      "0        10\n",
      "1        20\n",
      "2    python\n",
      "3        30\n",
      "4        44\n",
      "5      45.6\n",
      "dtype: object\n"
     ]
    }
   ],
   "source": [
    "sd1 = pd.Series([10,20,'python',30,44,45.6])\n",
    "print(sd1)"
   ]
  },
  {
   "cell_type": "markdown",
   "id": "ceed5ecc",
   "metadata": {},
   "source": [
    "### Updation:"
   ]
  },
  {
   "cell_type": "code",
   "execution_count": 4,
   "id": "ee338b74",
   "metadata": {},
   "outputs": [
    {
     "name": "stdout",
     "output_type": "stream",
     "text": [
      "0        10\n",
      "1        20\n",
      "2    python\n",
      "3        30\n",
      "4        44\n",
      "5      45.6\n",
      "dtype: object\n",
      "0    apssdc\n",
      "1        20\n",
      "2    python\n",
      "3        30\n",
      "4        44\n",
      "5      45.6\n",
      "dtype: object\n"
     ]
    }
   ],
   "source": [
    "print(sd1)\n",
    "# using index names we can update the series data..\n",
    "sd1[0]='apssdc'\n",
    "print(sd1)"
   ]
  },
  {
   "cell_type": "markdown",
   "id": "6f03611f",
   "metadata": {},
   "source": [
    "- replace():\n",
    "    - Uisng replace method to update the series data.\n",
    "    - syntax:\n",
    "        - sd.replace(to_replace=old_value,value=new_value)"
   ]
  },
  {
   "cell_type": "code",
   "execution_count": 6,
   "id": "1e1de0f4",
   "metadata": {},
   "outputs": [
    {
     "name": "stdout",
     "output_type": "stream",
     "text": [
      "0    apssdc\n",
      "1        20\n",
      "2    python\n",
      "3        30\n",
      "4        44\n",
      "5      45.6\n",
      "dtype: object\n",
      "0    apssdc\n",
      "1        20\n",
      "2      34.5\n",
      "3        30\n",
      "4        44\n",
      "5      45.6\n",
      "dtype: object\n"
     ]
    }
   ],
   "source": [
    "# using replace method:\n",
    "print(sd1)\n",
    "sd1 = sd1.replace(to_replace='python',value=34.5)\n",
    "print(sd1)"
   ]
  },
  {
   "cell_type": "code",
   "execution_count": 7,
   "id": "648aa5e6",
   "metadata": {},
   "outputs": [
    {
     "data": {
      "text/plain": [
       "0    apssdc\n",
       "1      java\n",
       "2      34.5\n",
       "3        30\n",
       "4        44\n",
       "5      45.6\n",
       "dtype: object"
      ]
     },
     "execution_count": 7,
     "metadata": {},
     "output_type": "execute_result"
    }
   ],
   "source": [
    "sd1 = sd1.replace(20,'java')\n",
    "sd1"
   ]
  },
  {
   "cell_type": "code",
   "execution_count": 9,
   "id": "d3726cf2",
   "metadata": {},
   "outputs": [
    {
     "data": {
      "text/plain": [
       "0    apssdc\n",
       "1      java\n",
       "2      34.5\n",
       "3       100\n",
       "4       200\n",
       "5      45.6\n",
       "dtype: object"
      ]
     },
     "execution_count": 9,
     "metadata": {},
     "output_type": "execute_result"
    }
   ],
   "source": [
    "# To update the multiple data at a time.\n",
    "sd1 = sd1.replace([30,44],[100,200])\n",
    "sd1"
   ]
  },
  {
   "cell_type": "code",
   "execution_count": 10,
   "id": "88e2aae9",
   "metadata": {},
   "outputs": [
    {
     "data": {
      "text/plain": [
       "0       apssdc\n",
       "1         java\n",
       "2         34.5\n",
       "3    clanguage\n",
       "4       python\n",
       "5         45.6\n",
       "dtype: object"
      ]
     },
     "execution_count": 10,
     "metadata": {},
     "output_type": "execute_result"
    }
   ],
   "source": [
    "sd1 = sd1.replace(to_replace=[100,200],value=['clanguage','python'])\n",
    "sd1"
   ]
  },
  {
   "cell_type": "markdown",
   "id": "a7ce24e3",
   "metadata": {},
   "source": [
    "### delete the data in a series:"
   ]
  },
  {
   "cell_type": "code",
   "execution_count": 11,
   "id": "5f78c687",
   "metadata": {
    "collapsed": true
   },
   "outputs": [
    {
     "name": "stdout",
     "output_type": "stream",
     "text": [
      "0       apssdc\n",
      "1         java\n",
      "2         34.5\n",
      "3    clanguage\n",
      "4       python\n",
      "5         45.6\n",
      "dtype: object\n"
     ]
    }
   ],
   "source": [
    "print(sd1)"
   ]
  },
  {
   "cell_type": "markdown",
   "id": "efcf40a9",
   "metadata": {},
   "source": [
    "- drop():-\n",
    "    - using drop() method we can delete the data from a series.\n",
    "    - using index name we can delete the data.\n",
    "    - syntax:\n",
    "        sd.drop(labels=list_data,inplace=True)"
   ]
  },
  {
   "cell_type": "code",
   "execution_count": 12,
   "id": "23471120",
   "metadata": {},
   "outputs": [
    {
     "name": "stdout",
     "output_type": "stream",
     "text": [
      "0       apssdc\n",
      "1         java\n",
      "2         34.5\n",
      "3    clanguage\n",
      "4       python\n",
      "5         45.6\n",
      "dtype: object\n"
     ]
    }
   ],
   "source": [
    "print(sd1)"
   ]
  },
  {
   "cell_type": "code",
   "execution_count": 14,
   "id": "1bddf6ac",
   "metadata": {},
   "outputs": [
    {
     "data": {
      "text/plain": [
       "1         java\n",
       "2         34.5\n",
       "3    clanguage\n",
       "4       python\n",
       "5         45.6\n",
       "dtype: object"
      ]
     },
     "execution_count": 14,
     "metadata": {},
     "output_type": "execute_result"
    }
   ],
   "source": [
    "# To delete the data from a series?\n",
    "# single value deletion\n",
    "sd1.drop(labels=0,inplace=True)\n",
    "sd1"
   ]
  },
  {
   "cell_type": "code",
   "execution_count": 15,
   "id": "423d9e41",
   "metadata": {},
   "outputs": [
    {
     "data": {
      "text/plain": [
       "2         34.5\n",
       "3    clanguage\n",
       "4       python\n",
       "dtype: object"
      ]
     },
     "execution_count": 15,
     "metadata": {},
     "output_type": "execute_result"
    }
   ],
   "source": [
    "# To delete the multiple values from a series?\n",
    "sd1.drop(labels=[1,5],inplace=True)\n",
    "sd1"
   ]
  },
  {
   "cell_type": "code",
   "execution_count": 17,
   "id": "d4cb3235",
   "metadata": {
    "collapsed": true
   },
   "outputs": [
    {
     "ename": "KeyError",
     "evalue": "'[6] not found in axis'",
     "output_type": "error",
     "traceback": [
      "\u001b[1;31m---------------------------------------------------------------------------\u001b[0m",
      "\u001b[1;31mKeyError\u001b[0m                                  Traceback (most recent call last)",
      "\u001b[1;32m<ipython-input-17-db07faa905ee>\u001b[0m in \u001b[0;36m<module>\u001b[1;34m\u001b[0m\n\u001b[1;32m----> 1\u001b[1;33m \u001b[0msd1\u001b[0m\u001b[1;33m.\u001b[0m\u001b[0mdrop\u001b[0m\u001b[1;33m(\u001b[0m\u001b[0mlabels\u001b[0m\u001b[1;33m=\u001b[0m\u001b[1;36m6\u001b[0m\u001b[1;33m,\u001b[0m\u001b[0minplace\u001b[0m\u001b[1;33m=\u001b[0m\u001b[1;32mTrue\u001b[0m\u001b[1;33m)\u001b[0m\u001b[1;33m\u001b[0m\u001b[1;33m\u001b[0m\u001b[0m\n\u001b[0m\u001b[0;32m      2\u001b[0m \u001b[0msd1\u001b[0m\u001b[1;33m\u001b[0m\u001b[1;33m\u001b[0m\u001b[0m\n",
      "\u001b[1;32m~\\anaconda3\\lib\\site-packages\\pandas\\core\\series.py\u001b[0m in \u001b[0;36mdrop\u001b[1;34m(self, labels, axis, index, columns, level, inplace, errors)\u001b[0m\n\u001b[0;32m   4441\u001b[0m         \u001b[0mdtype\u001b[0m\u001b[1;33m:\u001b[0m \u001b[0mfloat64\u001b[0m\u001b[1;33m\u001b[0m\u001b[1;33m\u001b[0m\u001b[0m\n\u001b[0;32m   4442\u001b[0m         \"\"\"\n\u001b[1;32m-> 4443\u001b[1;33m         return super().drop(\n\u001b[0m\u001b[0;32m   4444\u001b[0m             \u001b[0mlabels\u001b[0m\u001b[1;33m=\u001b[0m\u001b[0mlabels\u001b[0m\u001b[1;33m,\u001b[0m\u001b[1;33m\u001b[0m\u001b[1;33m\u001b[0m\u001b[0m\n\u001b[0;32m   4445\u001b[0m             \u001b[0maxis\u001b[0m\u001b[1;33m=\u001b[0m\u001b[0maxis\u001b[0m\u001b[1;33m,\u001b[0m\u001b[1;33m\u001b[0m\u001b[1;33m\u001b[0m\u001b[0m\n",
      "\u001b[1;32m~\\anaconda3\\lib\\site-packages\\pandas\\core\\generic.py\u001b[0m in \u001b[0;36mdrop\u001b[1;34m(self, labels, axis, index, columns, level, inplace, errors)\u001b[0m\n\u001b[0;32m   4151\u001b[0m         \u001b[1;32mfor\u001b[0m \u001b[0maxis\u001b[0m\u001b[1;33m,\u001b[0m \u001b[0mlabels\u001b[0m \u001b[1;32min\u001b[0m \u001b[0maxes\u001b[0m\u001b[1;33m.\u001b[0m\u001b[0mitems\u001b[0m\u001b[1;33m(\u001b[0m\u001b[1;33m)\u001b[0m\u001b[1;33m:\u001b[0m\u001b[1;33m\u001b[0m\u001b[1;33m\u001b[0m\u001b[0m\n\u001b[0;32m   4152\u001b[0m             \u001b[1;32mif\u001b[0m \u001b[0mlabels\u001b[0m \u001b[1;32mis\u001b[0m \u001b[1;32mnot\u001b[0m \u001b[1;32mNone\u001b[0m\u001b[1;33m:\u001b[0m\u001b[1;33m\u001b[0m\u001b[1;33m\u001b[0m\u001b[0m\n\u001b[1;32m-> 4153\u001b[1;33m                 \u001b[0mobj\u001b[0m \u001b[1;33m=\u001b[0m \u001b[0mobj\u001b[0m\u001b[1;33m.\u001b[0m\u001b[0m_drop_axis\u001b[0m\u001b[1;33m(\u001b[0m\u001b[0mlabels\u001b[0m\u001b[1;33m,\u001b[0m \u001b[0maxis\u001b[0m\u001b[1;33m,\u001b[0m \u001b[0mlevel\u001b[0m\u001b[1;33m=\u001b[0m\u001b[0mlevel\u001b[0m\u001b[1;33m,\u001b[0m \u001b[0merrors\u001b[0m\u001b[1;33m=\u001b[0m\u001b[0merrors\u001b[0m\u001b[1;33m)\u001b[0m\u001b[1;33m\u001b[0m\u001b[1;33m\u001b[0m\u001b[0m\n\u001b[0m\u001b[0;32m   4154\u001b[0m \u001b[1;33m\u001b[0m\u001b[0m\n\u001b[0;32m   4155\u001b[0m         \u001b[1;32mif\u001b[0m \u001b[0minplace\u001b[0m\u001b[1;33m:\u001b[0m\u001b[1;33m\u001b[0m\u001b[1;33m\u001b[0m\u001b[0m\n",
      "\u001b[1;32m~\\anaconda3\\lib\\site-packages\\pandas\\core\\generic.py\u001b[0m in \u001b[0;36m_drop_axis\u001b[1;34m(self, labels, axis, level, errors)\u001b[0m\n\u001b[0;32m   4186\u001b[0m                 \u001b[0mnew_axis\u001b[0m \u001b[1;33m=\u001b[0m \u001b[0maxis\u001b[0m\u001b[1;33m.\u001b[0m\u001b[0mdrop\u001b[0m\u001b[1;33m(\u001b[0m\u001b[0mlabels\u001b[0m\u001b[1;33m,\u001b[0m \u001b[0mlevel\u001b[0m\u001b[1;33m=\u001b[0m\u001b[0mlevel\u001b[0m\u001b[1;33m,\u001b[0m \u001b[0merrors\u001b[0m\u001b[1;33m=\u001b[0m\u001b[0merrors\u001b[0m\u001b[1;33m)\u001b[0m\u001b[1;33m\u001b[0m\u001b[1;33m\u001b[0m\u001b[0m\n\u001b[0;32m   4187\u001b[0m             \u001b[1;32melse\u001b[0m\u001b[1;33m:\u001b[0m\u001b[1;33m\u001b[0m\u001b[1;33m\u001b[0m\u001b[0m\n\u001b[1;32m-> 4188\u001b[1;33m                 \u001b[0mnew_axis\u001b[0m \u001b[1;33m=\u001b[0m \u001b[0maxis\u001b[0m\u001b[1;33m.\u001b[0m\u001b[0mdrop\u001b[0m\u001b[1;33m(\u001b[0m\u001b[0mlabels\u001b[0m\u001b[1;33m,\u001b[0m \u001b[0merrors\u001b[0m\u001b[1;33m=\u001b[0m\u001b[0merrors\u001b[0m\u001b[1;33m)\u001b[0m\u001b[1;33m\u001b[0m\u001b[1;33m\u001b[0m\u001b[0m\n\u001b[0m\u001b[0;32m   4189\u001b[0m             \u001b[0mresult\u001b[0m \u001b[1;33m=\u001b[0m \u001b[0mself\u001b[0m\u001b[1;33m.\u001b[0m\u001b[0mreindex\u001b[0m\u001b[1;33m(\u001b[0m\u001b[1;33m**\u001b[0m\u001b[1;33m{\u001b[0m\u001b[0maxis_name\u001b[0m\u001b[1;33m:\u001b[0m \u001b[0mnew_axis\u001b[0m\u001b[1;33m}\u001b[0m\u001b[1;33m)\u001b[0m\u001b[1;33m\u001b[0m\u001b[1;33m\u001b[0m\u001b[0m\n\u001b[0;32m   4190\u001b[0m \u001b[1;33m\u001b[0m\u001b[0m\n",
      "\u001b[1;32m~\\anaconda3\\lib\\site-packages\\pandas\\core\\indexes\\base.py\u001b[0m in \u001b[0;36mdrop\u001b[1;34m(self, labels, errors)\u001b[0m\n\u001b[0;32m   5589\u001b[0m         \u001b[1;32mif\u001b[0m \u001b[0mmask\u001b[0m\u001b[1;33m.\u001b[0m\u001b[0many\u001b[0m\u001b[1;33m(\u001b[0m\u001b[1;33m)\u001b[0m\u001b[1;33m:\u001b[0m\u001b[1;33m\u001b[0m\u001b[1;33m\u001b[0m\u001b[0m\n\u001b[0;32m   5590\u001b[0m             \u001b[1;32mif\u001b[0m \u001b[0merrors\u001b[0m \u001b[1;33m!=\u001b[0m \u001b[1;34m\"ignore\"\u001b[0m\u001b[1;33m:\u001b[0m\u001b[1;33m\u001b[0m\u001b[1;33m\u001b[0m\u001b[0m\n\u001b[1;32m-> 5591\u001b[1;33m                 \u001b[1;32mraise\u001b[0m \u001b[0mKeyError\u001b[0m\u001b[1;33m(\u001b[0m\u001b[1;34mf\"{labels[mask]} not found in axis\"\u001b[0m\u001b[1;33m)\u001b[0m\u001b[1;33m\u001b[0m\u001b[1;33m\u001b[0m\u001b[0m\n\u001b[0m\u001b[0;32m   5592\u001b[0m             \u001b[0mindexer\u001b[0m \u001b[1;33m=\u001b[0m \u001b[0mindexer\u001b[0m\u001b[1;33m[\u001b[0m\u001b[1;33m~\u001b[0m\u001b[0mmask\u001b[0m\u001b[1;33m]\u001b[0m\u001b[1;33m\u001b[0m\u001b[1;33m\u001b[0m\u001b[0m\n\u001b[0;32m   5593\u001b[0m         \u001b[1;32mreturn\u001b[0m \u001b[0mself\u001b[0m\u001b[1;33m.\u001b[0m\u001b[0mdelete\u001b[0m\u001b[1;33m(\u001b[0m\u001b[0mindexer\u001b[0m\u001b[1;33m)\u001b[0m\u001b[1;33m\u001b[0m\u001b[1;33m\u001b[0m\u001b[0m\n",
      "\u001b[1;31mKeyError\u001b[0m: '[6] not found in axis'"
     ]
    }
   ],
   "source": [
    "sd1.drop(labels=6,inplace=True)\n",
    "sd1"
   ]
  },
  {
   "cell_type": "markdown",
   "id": "a6abf250",
   "metadata": {},
   "source": [
    "- Task1:\n",
    "- To create the series having index values starts from 10 to 20 and values are squares of index values?\n",
    "ex: 10  100\n",
    "    11  121"
   ]
  },
  {
   "cell_type": "code",
   "execution_count": 26,
   "id": "763cb447",
   "metadata": {},
   "outputs": [
    {
     "name": "stdout",
     "output_type": "stream",
     "text": [
      "10    100\n",
      "11    121\n",
      "12    144\n",
      "13    169\n",
      "14    196\n",
      "15    225\n",
      "16    256\n",
      "17    289\n",
      "18    324\n",
      "19    361\n",
      "20    400\n",
      "dtype: int64\n"
     ]
    }
   ],
   "source": [
    "l=[]\n",
    "l2=[]\n",
    "for i in range(10,21):\n",
    "    l.append(i**2)\n",
    "    l2.append(i)\n",
    "s2=pd.Series(l,l2)\n",
    "print(s2)"
   ]
  },
  {
   "cell_type": "code",
   "execution_count": 33,
   "id": "5740d0f2",
   "metadata": {},
   "outputs": [
    {
     "data": {
      "text/plain": [
       "10    100\n",
       "11    121\n",
       "12    144\n",
       "13    169\n",
       "14    196\n",
       "15    225\n",
       "16    256\n",
       "17    289\n",
       "18    324\n",
       "19    361\n",
       "20    400\n",
       "dtype: int64"
      ]
     },
     "execution_count": 33,
     "metadata": {},
     "output_type": "execute_result"
    }
   ],
   "source": [
    "import numpy as np\n",
    "index_values= np.array(range(10,21))\n",
    "#print(index_values)\n",
    "values = [i*i for i in range(10,21)]\n",
    "#print(values)\n",
    "sd2 = pd.Series(values,index_values)\n",
    "sd2"
   ]
  },
  {
   "cell_type": "code",
   "execution_count": 36,
   "id": "2ab2a0bb",
   "metadata": {},
   "outputs": [
    {
     "data": {
      "text/plain": [
       "10    100\n",
       "17    289\n",
       "13    169\n",
       "dtype: int64"
      ]
     },
     "execution_count": 36,
     "metadata": {},
     "output_type": "execute_result"
    }
   ],
   "source": [
    "# fancy indexing:\n",
    "# To get the specific index names data.\n",
    "sd2[[10,17,13]]"
   ]
  },
  {
   "cell_type": "code",
   "execution_count": 42,
   "id": "66dc4b77",
   "metadata": {},
   "outputs": [
    {
     "name": "stdout",
     "output_type": "stream",
     "text": [
      "2         34.5\n",
      "3    clanguage\n",
      "4       python\n",
      "0          100\n",
      "1          200\n",
      "dtype: object\n"
     ]
    },
    {
     "ename": "TypeError",
     "evalue": "__init__() got an unexpected keyword argument 'ignore_index'",
     "output_type": "error",
     "traceback": [
      "\u001b[1;31m---------------------------------------------------------------------------\u001b[0m",
      "\u001b[1;31mTypeError\u001b[0m                                 Traceback (most recent call last)",
      "\u001b[1;32m<ipython-input-42-3e9a70f5b473>\u001b[0m in \u001b[0;36m<module>\u001b[1;34m\u001b[0m\n\u001b[0;32m      1\u001b[0m \u001b[1;31m# To add the new record to the series data structure.\u001b[0m\u001b[1;33m\u001b[0m\u001b[1;33m\u001b[0m\u001b[1;33m\u001b[0m\u001b[0m\n\u001b[0;32m      2\u001b[0m \u001b[0mprint\u001b[0m\u001b[1;33m(\u001b[0m\u001b[0msd1\u001b[0m\u001b[1;33m)\u001b[0m\u001b[1;33m\u001b[0m\u001b[1;33m\u001b[0m\u001b[0m\n\u001b[1;32m----> 3\u001b[1;33m \u001b[0msd1\u001b[0m\u001b[1;33m=\u001b[0m\u001b[0msd1\u001b[0m\u001b[1;33m.\u001b[0m\u001b[0mappend\u001b[0m\u001b[1;33m(\u001b[0m\u001b[0mpd\u001b[0m\u001b[1;33m.\u001b[0m\u001b[0mSeries\u001b[0m\u001b[1;33m(\u001b[0m\u001b[1;33m[\u001b[0m\u001b[1;36m100\u001b[0m\u001b[1;33m,\u001b[0m\u001b[1;36m200\u001b[0m\u001b[1;33m]\u001b[0m\u001b[1;33m,\u001b[0m\u001b[0mignore_index\u001b[0m\u001b[1;33m=\u001b[0m\u001b[1;32mTrue\u001b[0m\u001b[1;33m)\u001b[0m\u001b[1;33m)\u001b[0m\u001b[1;33m\u001b[0m\u001b[1;33m\u001b[0m\u001b[0m\n\u001b[0m\u001b[0;32m      4\u001b[0m \u001b[0msd1\u001b[0m\u001b[1;33m\u001b[0m\u001b[1;33m\u001b[0m\u001b[0m\n",
      "\u001b[1;31mTypeError\u001b[0m: __init__() got an unexpected keyword argument 'ignore_index'"
     ]
    }
   ],
   "source": [
    "# To add the new record to the series data structure.\n",
    "print(sd1)\n",
    "sd1=sd1.append(pd.Series([100,200],ignore_index=True))\n",
    "sd1"
   ]
  },
  {
   "cell_type": "code",
   "execution_count": 43,
   "id": "5f535be8",
   "metadata": {},
   "outputs": [
    {
     "name": "stdout",
     "output_type": "stream",
     "text": [
      "2         34.5\n",
      "3    clanguage\n",
      "4       python\n",
      "0          100\n",
      "1          200\n",
      "dtype: object\n"
     ]
    }
   ],
   "source": [
    "print(sd1)"
   ]
  },
  {
   "cell_type": "code",
   "execution_count": 47,
   "id": "b02f83a6",
   "metadata": {},
   "outputs": [
    {
     "data": {
      "text/plain": [
       "0          34.5\n",
       "1     clanguage\n",
       "2        python\n",
       "3           100\n",
       "4           200\n",
       "5          java\n",
       "6           300\n",
       "7          java\n",
       "8           300\n",
       "9            11\n",
       "10           22\n",
       "dtype: object"
      ]
     },
     "execution_count": 47,
     "metadata": {},
     "output_type": "execute_result"
    }
   ],
   "source": [
    "sd1 = sd1.append(pd.Series([11,22]),ignore_index=True)\n",
    "sd1"
   ]
  },
  {
   "cell_type": "markdown",
   "id": "212074e6",
   "metadata": {},
   "source": [
    "### pandas DataFrame:\n",
    "- DataFrame is used to store the data in the form of rows and columns.\n",
    "- It is similar to 2-D array.\n",
    "- To create the DataFrame using Dictionary,2-D numpy array.\n",
    "- To read the .csv,.excel...\n",
    "- To import the pandas as pd.\n",
    "- syntax:\n",
    "      pd.DataFrame(diciotnary/numpy 2-D array)"
   ]
  },
  {
   "cell_type": "code",
   "execution_count": 50,
   "id": "3849a39d",
   "metadata": {
    "collapsed": true
   },
   "outputs": [
    {
     "data": {
      "text/html": [
       "<div>\n",
       "<style scoped>\n",
       "    .dataframe tbody tr th:only-of-type {\n",
       "        vertical-align: middle;\n",
       "    }\n",
       "\n",
       "    .dataframe tbody tr th {\n",
       "        vertical-align: top;\n",
       "    }\n",
       "\n",
       "    .dataframe thead th {\n",
       "        text-align: right;\n",
       "    }\n",
       "</style>\n",
       "<table border=\"1\" class=\"dataframe\">\n",
       "  <thead>\n",
       "    <tr style=\"text-align: right;\">\n",
       "      <th></th>\n",
       "      <th>Name</th>\n",
       "      <th>Rno</th>\n",
       "      <th>Branch</th>\n",
       "    </tr>\n",
       "  </thead>\n",
       "  <tbody>\n",
       "    <tr>\n",
       "      <th>0</th>\n",
       "      <td>Mani</td>\n",
       "      <td>420</td>\n",
       "      <td>Cse</td>\n",
       "    </tr>\n",
       "    <tr>\n",
       "      <th>1</th>\n",
       "      <td>Aadyan</td>\n",
       "      <td>510</td>\n",
       "      <td>Ece</td>\n",
       "    </tr>\n",
       "    <tr>\n",
       "      <th>2</th>\n",
       "      <td>nethra</td>\n",
       "      <td>346</td>\n",
       "      <td>Eee</td>\n",
       "    </tr>\n",
       "  </tbody>\n",
       "</table>\n",
       "</div>"
      ],
      "text/plain": [
       "     Name  Rno Branch\n",
       "0    Mani  420    Cse\n",
       "1  Aadyan  510    Ece\n",
       "2  nethra  346    Eee"
      ]
     },
     "execution_count": 50,
     "metadata": {},
     "output_type": "execute_result"
    }
   ],
   "source": [
    "# To create the DataFrame using dictionary?\n",
    "d1 = {'Name':['Mani','Aadyan','nethra'],\n",
    "      'Rno':[420,510,346],\n",
    "      'Branch':['Cse','Ece','Eee']}\n",
    "df= pd.DataFrame(d1)\n",
    "df"
   ]
  },
  {
   "cell_type": "code",
   "execution_count": 54,
   "id": "498568b1",
   "metadata": {},
   "outputs": [
    {
     "data": {
      "text/html": [
       "<div>\n",
       "<style scoped>\n",
       "    .dataframe tbody tr th:only-of-type {\n",
       "        vertical-align: middle;\n",
       "    }\n",
       "\n",
       "    .dataframe tbody tr th {\n",
       "        vertical-align: top;\n",
       "    }\n",
       "\n",
       "    .dataframe thead th {\n",
       "        text-align: right;\n",
       "    }\n",
       "</style>\n",
       "<table border=\"1\" class=\"dataframe\">\n",
       "  <thead>\n",
       "    <tr style=\"text-align: right;\">\n",
       "      <th></th>\n",
       "      <th>0</th>\n",
       "      <th>1</th>\n",
       "      <th>2</th>\n",
       "    </tr>\n",
       "  </thead>\n",
       "  <tbody>\n",
       "    <tr>\n",
       "      <th>0</th>\n",
       "      <td>1</td>\n",
       "      <td>2</td>\n",
       "      <td>3</td>\n",
       "    </tr>\n",
       "    <tr>\n",
       "      <th>1</th>\n",
       "      <td>4</td>\n",
       "      <td>5</td>\n",
       "      <td>6</td>\n",
       "    </tr>\n",
       "  </tbody>\n",
       "</table>\n",
       "</div>"
      ],
      "text/plain": [
       "   0  1  2\n",
       "0  1  2  3\n",
       "1  4  5  6"
      ]
     },
     "execution_count": 54,
     "metadata": {},
     "output_type": "execute_result"
    }
   ],
   "source": [
    "# TO create the DataFrame using numpy 2-d array.\n",
    "n1 = np.array([[1,2,3],[4,5,6]])\n",
    "df1 = pd.DataFrame(n1)\n",
    "df1\n",
    "#type(df1)"
   ]
  },
  {
   "cell_type": "code",
   "execution_count": 55,
   "id": "eace7fc1",
   "metadata": {},
   "outputs": [
    {
     "data": {
      "text/plain": [
       "Index(['Name', 'Rno', 'Branch'], dtype='object')"
      ]
     },
     "execution_count": 55,
     "metadata": {},
     "output_type": "execute_result"
    }
   ],
   "source": [
    "# To print the dataframe column names...\n",
    "df.columns"
   ]
  },
  {
   "cell_type": "code",
   "execution_count": 56,
   "id": "5c14e91a",
   "metadata": {},
   "outputs": [
    {
     "data": {
      "text/plain": [
       "array([['Mani', 420, 'Cse'],\n",
       "       ['Aadyan', 510, 'Ece'],\n",
       "       ['nethra', 346, 'Eee']], dtype=object)"
      ]
     },
     "execution_count": 56,
     "metadata": {},
     "output_type": "execute_result"
    }
   ],
   "source": [
    "# To print the all row data from a dataframe.\n",
    "df.values"
   ]
  },
  {
   "cell_type": "code",
   "execution_count": 57,
   "id": "5df5767a",
   "metadata": {},
   "outputs": [
    {
     "name": "stdout",
     "output_type": "stream",
     "text": [
      "3\n"
     ]
    }
   ],
   "source": [
    "# To print the number of rows?\n",
    "print(len(df))"
   ]
  },
  {
   "cell_type": "code",
   "execution_count": 58,
   "id": "023c6d6b",
   "metadata": {},
   "outputs": [
    {
     "data": {
      "text/plain": [
       "(3, 3)"
      ]
     },
     "execution_count": 58,
     "metadata": {},
     "output_type": "execute_result"
    }
   ],
   "source": [
    "# To get the number of rows and columns?\n",
    "df.shape"
   ]
  },
  {
   "cell_type": "code",
   "execution_count": null,
   "id": "7e8a95f0",
   "metadata": {},
   "outputs": [],
   "source": []
  }
 ],
 "metadata": {
  "kernelspec": {
   "display_name": "Python 3",
   "language": "python",
   "name": "python3"
  },
  "language_info": {
   "codemirror_mode": {
    "name": "ipython",
    "version": 3
   },
   "file_extension": ".py",
   "mimetype": "text/x-python",
   "name": "python",
   "nbconvert_exporter": "python",
   "pygments_lexer": "ipython3",
   "version": "3.8.8"
  }
 },
 "nbformat": 4,
 "nbformat_minor": 5
}
