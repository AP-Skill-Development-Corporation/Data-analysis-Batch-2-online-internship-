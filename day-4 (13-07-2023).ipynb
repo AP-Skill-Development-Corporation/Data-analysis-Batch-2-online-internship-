{
 "cells": [
  {
   "cell_type": "markdown",
   "id": "e5decc50",
   "metadata": {},
   "source": [
    "### Loop control statements\n",
    "\n",
    "* We Can change the execution from its normal sequence \n",
    "* Break\n",
    "* Continue\n",
    "* pass"
   ]
  },
  {
   "cell_type": "markdown",
   "id": "4b7a7f44",
   "metadata": {},
   "source": [
    "### Break statement\n",
    "\n",
    "* break statement terminates the loop containing  it\n",
    "* control of the program flows to the statement immediately after the body of the loop\n",
    "* when using break statement inside nested loops the inner most loop will be terminated\n",
    "\n"
   ]
  },
  {
   "cell_type": "code",
   "execution_count": 2,
   "id": "785e3c93",
   "metadata": {
    "collapsed": true
   },
   "outputs": [
    {
     "name": "stdout",
     "output_type": "stream",
     "text": [
      "w\n",
      "e\n",
      "l\n",
      "c\n",
      "o\n"
     ]
    }
   ],
   "source": [
    "str=\"welcome\"  # welco\n",
    "\n",
    "for ch in str:\n",
    "    if ch==\"m\":\n",
    "        break\n",
    "    print(ch)\n"
   ]
  },
  {
   "cell_type": "code",
   "execution_count": 3,
   "id": "f36a2d55",
   "metadata": {},
   "outputs": [
    {
     "name": "stdout",
     "output_type": "stream",
     "text": [
      "1 2 3 4 outside while\n"
     ]
    }
   ],
   "source": [
    "i=1\n",
    "while 1:\n",
    "    print(i,end=\" \")\n",
    "    i+=1\n",
    "    if i==5:\n",
    "        break\n",
    "print(\"outside while\")"
   ]
  },
  {
   "cell_type": "markdown",
   "id": "1898e3a4",
   "metadata": {},
   "source": [
    "### Continue \n",
    "\n",
    "* continue statement is used to skip the code inside the loop for current iteration \n",
    "* loop doesnot terminate but continues on with next iteration"
   ]
  },
  {
   "cell_type": "code",
   "execution_count": 5,
   "id": "0d963f71",
   "metadata": {
    "collapsed": true
   },
   "outputs": [
    {
     "name": "stdout",
     "output_type": "stream",
     "text": [
      "w\n",
      "e\n",
      "l\n",
      "o\n",
      "m\n",
      "e\n"
     ]
    }
   ],
   "source": [
    "str=\"welcome\"  # welome\n",
    "for i in str:\n",
    "    if i==\"c\":\n",
    "        continue\n",
    "    print(i)    "
   ]
  },
  {
   "cell_type": "code",
   "execution_count": null,
   "id": "1079391c",
   "metadata": {},
   "outputs": [],
   "source": [
    "# Task \n",
    "# 1 2 3 4 6 7 8 9 10  # skip value 5"
   ]
  },
  {
   "cell_type": "markdown",
   "id": "420ce9ce",
   "metadata": {},
   "source": [
    "### pass statement\n",
    "\n",
    "* pass is a null statement ,we use when body contains nothing\n",
    "* we have a loop or function that is not implemented yet, but we want to implement it in future, they cannot have empty body,the interpreter would give an error"
   ]
  },
  {
   "cell_type": "code",
   "execution_count": 11,
   "id": "06e8de54",
   "metadata": {},
   "outputs": [],
   "source": [
    "for i in range(1,10):\n",
    "    pass"
   ]
  },
  {
   "cell_type": "code",
   "execution_count": 9,
   "id": "c17c825e",
   "metadata": {},
   "outputs": [
    {
     "name": "stdout",
     "output_type": "stream",
     "text": [
      "1\n",
      "3\n",
      "5\n"
     ]
    }
   ],
   "source": [
    "for i in [1,2,3,4,5]:\n",
    "    if i%2==0:\n",
    "        pass\n",
    "    else:\n",
    "        print(i)"
   ]
  },
  {
   "cell_type": "markdown",
   "id": "1637b55d",
   "metadata": {},
   "source": [
    "### Functions\n",
    "\n",
    "\n",
    "* Function is a block of code which is used to perform a specific task\n",
    "* Types of Functions\n",
    "    * In-Built functions\n",
    "    * User Defined functions\n",
    "    \n"
   ]
  },
  {
   "cell_type": "code",
   "execution_count": 12,
   "id": "eaeda015",
   "metadata": {},
   "outputs": [
    {
     "data": {
      "text/plain": [
       "8"
      ]
     },
     "execution_count": 12,
     "metadata": {},
     "output_type": "execute_result"
    }
   ],
   "source": [
    "pow(2,3)"
   ]
  },
  {
   "cell_type": "code",
   "execution_count": 13,
   "id": "ad641af8",
   "metadata": {},
   "outputs": [
    {
     "name": "stdout",
     "output_type": "stream",
     "text": [
      "hello world\n"
     ]
    }
   ],
   "source": [
    "print(\"hello world\")"
   ]
  },
  {
   "cell_type": "code",
   "execution_count": 14,
   "id": "3defdada",
   "metadata": {},
   "outputs": [
    {
     "data": {
      "text/plain": [
       "6"
      ]
     },
     "execution_count": 14,
     "metadata": {},
     "output_type": "execute_result"
    }
   ],
   "source": [
    "abs(-6)"
   ]
  },
  {
   "cell_type": "code",
   "execution_count": 15,
   "id": "c1b81b34",
   "metadata": {},
   "outputs": [
    {
     "data": {
      "text/plain": [
       "'s'"
      ]
     },
     "execution_count": 15,
     "metadata": {},
     "output_type": "execute_result"
    }
   ],
   "source": [
    "max(\"harish\")"
   ]
  },
  {
   "cell_type": "code",
   "execution_count": 16,
   "id": "f45b6acd",
   "metadata": {},
   "outputs": [
    {
     "data": {
      "text/plain": [
       "'a'"
      ]
     },
     "execution_count": 16,
     "metadata": {},
     "output_type": "execute_result"
    }
   ],
   "source": [
    "min(\"apssdc\")"
   ]
  },
  {
   "cell_type": "code",
   "execution_count": 18,
   "id": "0b24e2ec",
   "metadata": {},
   "outputs": [
    {
     "data": {
      "text/plain": [
       "'0b1001'"
      ]
     },
     "execution_count": 18,
     "metadata": {},
     "output_type": "execute_result"
    }
   ],
   "source": [
    "bin(9)"
   ]
  },
  {
   "cell_type": "code",
   "execution_count": 19,
   "id": "e8f4ba6f",
   "metadata": {},
   "outputs": [
    {
     "data": {
      "text/plain": [
       "'a'"
      ]
     },
     "execution_count": 19,
     "metadata": {},
     "output_type": "execute_result"
    }
   ],
   "source": [
    "chr(97)"
   ]
  },
  {
   "cell_type": "code",
   "execution_count": 21,
   "id": "19f5657d",
   "metadata": {},
   "outputs": [
    {
     "data": {
      "text/plain": [
       "121"
      ]
     },
     "execution_count": 21,
     "metadata": {},
     "output_type": "execute_result"
    }
   ],
   "source": [
    "ord('y')"
   ]
  },
  {
   "cell_type": "markdown",
   "id": "a8bc13d2",
   "metadata": {},
   "source": [
    "### User defined functions\n",
    "* Functions which are defined by users\n",
    "* syntax:\n",
    "* def functionname():\n",
    "   * statements"
   ]
  },
  {
   "cell_type": "code",
   "execution_count": 25,
   "id": "0f17c218",
   "metadata": {},
   "outputs": [
    {
     "name": "stdout",
     "output_type": "stream",
     "text": [
      "enter x value: 34\n",
      "enter y value: 23\n",
      "addition of given numbers is:  57\n"
     ]
    }
   ],
   "source": [
    "def addition():\n",
    "    x=int(input(\"enter x value: \"))\n",
    "    y=int(input(\"enter y value: \"))\n",
    "    s=x+y\n",
    "    print(\"addition of given numbers is: \",s)\n",
    "    \n",
    "addition()  # function call -> by using function name    "
   ]
  },
  {
   "cell_type": "code",
   "execution_count": 26,
   "id": "209884f5",
   "metadata": {},
   "outputs": [],
   "source": [
    "# Task \n",
    "\n",
    "# Write a function to swap 2 numbers\n",
    "\n",
    "# a=90, b=50\n",
    "# a=50, b=90\n",
    "\n"
   ]
  },
  {
   "cell_type": "markdown",
   "id": "b0f31f94",
   "metadata": {},
   "source": [
    "* Based on parameters and return type , functions are divided into 4 types\n",
    "\n",
    "* without parameters and without return value\n",
    "* without parameters and with return vaue\n",
    "* with parameters and without return value\n",
    "* with parameters and with return value"
   ]
  },
  {
   "cell_type": "code",
   "execution_count": 28,
   "id": "5018c1f8",
   "metadata": {},
   "outputs": [
    {
     "name": "stdout",
     "output_type": "stream",
     "text": [
      "9\n",
      "67\n",
      "multiplication result is:  603\n"
     ]
    }
   ],
   "source": [
    "# without parameters and without return value\n",
    "\n",
    "def mul():   # without parameters\n",
    "    x=int(input())\n",
    "    y=int(input())\n",
    "    m=x*y\n",
    "    print(\"multiplication result is: \",m)   # without return\n",
    "\n",
    "mul()    "
   ]
  },
  {
   "cell_type": "code",
   "execution_count": 29,
   "id": "8fb557f3",
   "metadata": {},
   "outputs": [
    {
     "name": "stdout",
     "output_type": "stream",
     "text": [
      "87\n",
      "67\n"
     ]
    },
    {
     "data": {
      "text/plain": [
       "20"
      ]
     },
     "execution_count": 29,
     "metadata": {},
     "output_type": "execute_result"
    }
   ],
   "source": [
    "# without parameters and with return vaue\n",
    "\n",
    "def subt():\n",
    "    x=int(input())\n",
    "    y=int(input())\n",
    "    s=x-y\n",
    "    return s\n",
    "\n",
    "subt()    "
   ]
  },
  {
   "cell_type": "code",
   "execution_count": 32,
   "id": "5c7ab677",
   "metadata": {},
   "outputs": [
    {
     "name": "stdout",
     "output_type": "stream",
     "text": [
      "result is:  15.0\n"
     ]
    }
   ],
   "source": [
    "# with parameters and without return value\n",
    "\n",
    "def div(x,y):\n",
    "    r=x/y\n",
    "    print(\"result is: \",r)\n",
    "    \n",
    "div(45,3)   "
   ]
  },
  {
   "cell_type": "code",
   "execution_count": 33,
   "id": "f9d34451",
   "metadata": {},
   "outputs": [
    {
     "data": {
      "text/plain": [
       "17"
      ]
     },
     "execution_count": 33,
     "metadata": {},
     "output_type": "execute_result"
    }
   ],
   "source": [
    "# with parameters and with return value\n",
    "\n",
    "def addition(x,y,z):\n",
    "    res=x+y+z\n",
    "    return res\n",
    "\n",
    "addition(4,6,7)"
   ]
  },
  {
   "cell_type": "code",
   "execution_count": 34,
   "id": "e6378b80",
   "metadata": {},
   "outputs": [],
   "source": [
    "# write a function to check whether the given number is prime or not?"
   ]
  },
  {
   "cell_type": "code",
   "execution_count": null,
   "id": "1f84f503",
   "metadata": {},
   "outputs": [],
   "source": []
  }
 ],
 "metadata": {
  "kernelspec": {
   "display_name": "Python 3 (ipykernel)",
   "language": "python",
   "name": "python3"
  },
  "language_info": {
   "codemirror_mode": {
    "name": "ipython",
    "version": 3
   },
   "file_extension": ".py",
   "mimetype": "text/x-python",
   "name": "python",
   "nbconvert_exporter": "python",
   "pygments_lexer": "ipython3",
   "version": "3.9.13"
  }
 },
 "nbformat": 4,
 "nbformat_minor": 5
}
