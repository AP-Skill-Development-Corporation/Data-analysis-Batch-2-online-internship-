{
 "cells": [
  {
   "cell_type": "markdown",
   "id": "e4906b48",
   "metadata": {},
   "source": [
    "### conditional statements\n",
    "\n",
    "* To make decisions\n",
    "* helps to decide what the program should do next\n",
    "* flow of execution\n",
    "\n",
    "* if statement\n",
    "* if else\n",
    "* elif\n",
    "* Nested if"
   ]
  },
  {
   "cell_type": "code",
   "execution_count": null,
   "id": "7d94784c",
   "metadata": {},
   "outputs": [],
   "source": [
    "# if\n",
    "\n",
    "if test_expression:\n",
    "    statements"
   ]
  },
  {
   "cell_type": "code",
   "execution_count": 1,
   "id": "22d9ced0",
   "metadata": {},
   "outputs": [
    {
     "name": "stdout",
     "output_type": "stream",
     "text": [
      "enter a number: -5\n",
      "Negative number\n"
     ]
    }
   ],
   "source": [
    "# write a program to check whether the given number is negative number or not?\n",
    "\n",
    "n=int(input(\"enter a number: \"))\n",
    "\n",
    "if n<0:\n",
    "    print(\"Negative number\")"
   ]
  },
  {
   "cell_type": "code",
   "execution_count": null,
   "id": "83ee7aa5",
   "metadata": {},
   "outputs": [],
   "source": [
    "### if -else\n",
    "\n",
    "if condition:\n",
    "    statements\n",
    "else:\n",
    "    statements\n",
    "    "
   ]
  },
  {
   "cell_type": "code",
   "execution_count": 2,
   "id": "64816608",
   "metadata": {},
   "outputs": [
    {
     "name": "stdout",
     "output_type": "stream",
     "text": [
      "enter a value: 23\n",
      "enter b value: 45\n",
      "45  is big\n"
     ]
    }
   ],
   "source": [
    "# write a program to print greatest of two numbers\n",
    "\n",
    "a=int(input(\"enter a value: \"))\n",
    "b=int(input(\"enter b value: \"))\n",
    "if a>b:\n",
    "    print(a, \" is big\")\n",
    "else:\n",
    "    print(b, \" is big\")\n",
    "    \n"
   ]
  },
  {
   "cell_type": "code",
   "execution_count": null,
   "id": "80436a2a",
   "metadata": {},
   "outputs": [],
   "source": [
    "# Task\n",
    "# write a program to check whether the given number is even number or odd number\n",
    "\n",
    "# n%2==0  even numbers 2,4,6,8,10..\n",
    "# odd number 1,3,5,7,9..."
   ]
  },
  {
   "cell_type": "code",
   "execution_count": null,
   "id": "ba7805b0",
   "metadata": {},
   "outputs": [],
   "source": [
    "# elif  -> multiple conditions\n",
    "\n",
    "if condition:\n",
    "    statements\n",
    "elif condition:\n",
    "    statements\n",
    "else:\n",
    "    statement"
   ]
  },
  {
   "cell_type": "code",
   "execution_count": 5,
   "id": "a6a9fc9c",
   "metadata": {},
   "outputs": [
    {
     "name": "stdout",
     "output_type": "stream",
     "text": [
      "enter a value: 45\n",
      "enter b value: 12\n",
      "enter c value: 60\n",
      "60 is greatest number\n"
     ]
    }
   ],
   "source": [
    "# write a program to find greatest of 3 numbers\n",
    "\n",
    "a=int(input(\"enter a value: \"))\n",
    "b=int(input(\"enter b value: \"))\n",
    "c=int(input(\"enter c value: \"))\n",
    "\n",
    "if a>b and a>c:\n",
    "    print(a ,\"is greatest number\")\n",
    "elif b>c:\n",
    "    print(b ,\"is greatest number\")\n",
    "else:\n",
    "    print(c, \"is greatest number\")\n",
    "    \n"
   ]
  },
  {
   "cell_type": "markdown",
   "id": "6477d2ca",
   "metadata": {},
   "source": [
    "### Nested if\n",
    "\n",
    "* if you write if else inside another if else then it is considered as nested if"
   ]
  },
  {
   "cell_type": "code",
   "execution_count": null,
   "id": "7c46a2c2",
   "metadata": {},
   "outputs": [],
   "source": [
    "if condition:\n",
    "    if condition:\n",
    "        statements\n",
    "    else:\n",
    "        statements\n",
    "else:\n",
    "    statements"
   ]
  },
  {
   "cell_type": "code",
   "execution_count": 9,
   "id": "8cadb265",
   "metadata": {},
   "outputs": [
    {
     "name": "stdout",
     "output_type": "stream",
     "text": [
      "enter a number: 8\n",
      "number is positive number\n"
     ]
    }
   ],
   "source": [
    "# write a program to check whether the given number is positive, negative or zero\n",
    "\n",
    "n=int(input(\"enter a number: \"))\n",
    "\n",
    "if n>=0:\n",
    "    if n==0:\n",
    "        print(\"number equals to zero\")\n",
    "    else:\n",
    "        print(\"number is positive number\")\n",
    "else:\n",
    "    print(\"number is negative number\")\n",
    "    "
   ]
  },
  {
   "cell_type": "markdown",
   "id": "b925e902",
   "metadata": {},
   "source": [
    "### Loops\n",
    "* To execute block of code repeatedly\n",
    "* Types of loops\n",
    "    * while loop\n",
    "    * For loop\n",
    "    * nested loops"
   ]
  },
  {
   "cell_type": "markdown",
   "id": "d8e3a760",
   "metadata": {},
   "source": [
    "### Loop control statements\n",
    "* break\n",
    "* continue`"
   ]
  },
  {
   "cell_type": "markdown",
   "id": "f8bfa3c5",
   "metadata": {},
   "source": [
    "### while\n",
    "\n",
    "* It executes block or set of instructions until the condition is false\n",
    "* we use this loop when we dont know the number of iterations inadvance\n",
    "\n",
    "\n",
    "### Syntax\n",
    "\n",
    "* Initialization\n",
    "* while condition:\n",
    "    * statements\n",
    "    * increment/decrement"
   ]
  },
  {
   "cell_type": "code",
   "execution_count": 11,
   "id": "4e8774bf",
   "metadata": {},
   "outputs": [
    {
     "name": "stdout",
     "output_type": "stream",
     "text": [
      "1  2  3  4  5  6  7  8  9  10  "
     ]
    }
   ],
   "source": [
    "# print 1 to 10 numbers using while\n",
    "# 1,2,3,.........10\n",
    "i=1\n",
    "while i<=10:\n",
    "    print(i,end=\"  \")\n",
    "    i+=1  # i=2"
   ]
  },
  {
   "cell_type": "code",
   "execution_count": null,
   "id": "8bba5972",
   "metadata": {},
   "outputs": [],
   "source": [
    "# Task\n",
    "# print  1 to 10 numbers in reverse order\n",
    "# 10 9 8 7..........1"
   ]
  },
  {
   "cell_type": "code",
   "execution_count": null,
   "id": "55cb4370",
   "metadata": {},
   "outputs": [],
   "source": [
    "\"\"\"Task\n",
    "# write a program to calculate sum of n natural numbers\n",
    " # i/p:  n= 4\n",
    " # o/p: sum=10\n",
    " \"\"\""
   ]
  },
  {
   "cell_type": "markdown",
   "id": "d10ed8da",
   "metadata": {},
   "source": [
    "### while loop with else\n",
    "\n",
    "* The else part is executed if the condition in the while loop is false\n",
    "* Else part is executed if no break occurs"
   ]
  },
  {
   "cell_type": "code",
   "execution_count": 12,
   "id": "24995b32",
   "metadata": {},
   "outputs": [
    {
     "name": "stdout",
     "output_type": "stream",
     "text": [
      "Inside while\n",
      "Inside while\n",
      "Inside while\n",
      "inside else\n"
     ]
    }
   ],
   "source": [
    "counter=0\n",
    "while counter<3:\n",
    "    print(\"Inside while\") #0,1,2\n",
    "    counter+=1\n",
    "else:\n",
    "    print(\"inside else\")"
   ]
  },
  {
   "cell_type": "markdown",
   "id": "42a22689",
   "metadata": {},
   "source": [
    "### for loop\n",
    "\n",
    "* for loop is used to iterate over a sequence (string,list,tuple,set,dictionary)\n",
    "* syntax:\n",
    "* for variable in sequence:\n",
    "    * statements"
   ]
  },
  {
   "cell_type": "code",
   "execution_count": 15,
   "id": "4f7c665a",
   "metadata": {},
   "outputs": [
    {
     "name": "stdout",
     "output_type": "stream",
     "text": [
      "1 2 3 4 5 6 7 8 9 10 "
     ]
    }
   ],
   "source": [
    "# print 1 to 10 numbers using for loop\n",
    "\n",
    "for i in range(1,11):\n",
    "    print(i,end=\" \")"
   ]
  },
  {
   "cell_type": "code",
   "execution_count": 16,
   "id": "339ac3c8",
   "metadata": {
    "collapsed": true
   },
   "outputs": [
    {
     "name": "stdout",
     "output_type": "stream",
     "text": [
      "s\n",
      "h\n",
      "i\n",
      "v\n",
      "a\n"
     ]
    }
   ],
   "source": [
    "name=\"shiva\"\n",
    "for i in name:\n",
    "    print(i)"
   ]
  },
  {
   "cell_type": "markdown",
   "id": "c0a1a53b",
   "metadata": {},
   "source": [
    "### Nested while  (while loop inside another while)\n",
    "\n",
    "* while expression:\n",
    "    * while expression:\n",
    "        * statements\n",
    "    * statements"
   ]
  },
  {
   "cell_type": "code",
   "execution_count": 17,
   "id": "f19ce8f2",
   "metadata": {},
   "outputs": [
    {
     "name": "stdout",
     "output_type": "stream",
     "text": [
      "1 , 10\n",
      "2 , 11\n",
      "3 , 12\n",
      "4 , 13\n"
     ]
    }
   ],
   "source": [
    "# 1,10\n",
    "# 2,11\n",
    "# 3,12\n",
    "\n",
    "\n",
    "i=1\n",
    "j=10\n",
    "while i<4:\n",
    "    while j<14:\n",
    "        print(i,\",\",j)\n",
    "        j+=1\n",
    "        i+=1"
   ]
  },
  {
   "cell_type": "code",
   "execution_count": null,
   "id": "f8841bdb",
   "metadata": {},
   "outputs": [],
   "source": []
  }
 ],
 "metadata": {
  "kernelspec": {
   "display_name": "Python 3 (ipykernel)",
   "language": "python",
   "name": "python3"
  },
  "language_info": {
   "codemirror_mode": {
    "name": "ipython",
    "version": 3
   },
   "file_extension": ".py",
   "mimetype": "text/x-python",
   "name": "python",
   "nbconvert_exporter": "python",
   "pygments_lexer": "ipython3",
   "version": "3.9.13"
  }
 },
 "nbformat": 4,
 "nbformat_minor": 5
}
