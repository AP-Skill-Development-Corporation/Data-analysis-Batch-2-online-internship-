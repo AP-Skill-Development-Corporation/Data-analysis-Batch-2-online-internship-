{
 "cells": [
  {
   "cell_type": "markdown",
   "id": "6e634f6b",
   "metadata": {},
   "source": [
    "* write a program to check whether the given number is even or odd"
   ]
  },
  {
   "cell_type": "markdown",
   "id": "e8f2f054",
   "metadata": {},
   "source": [
    "### File Handling\n",
    "\n",
    "* File is collection of records\n",
    "* Types of file formats : word,ppt,pdfs,csv,excel,image,audio/video\n",
    "* Python file handling: create,open,append,Read,Write,close\n",
    "    * Create a new file\n",
    "    * Write the data\n",
    "    * Read the data from a file\n",
    "    * Append data to a file\n",
    "    * Closing a file"
   ]
  },
  {
   "cell_type": "markdown",
   "id": "d730546c",
   "metadata": {},
   "source": [
    "### Mode of Operations\n",
    "\n",
    "* 'r' - Read mode , which is used when the file is only being read\n",
    "* 'w' - Write mode, which is used to edit and write new data (overwrites the existing data)\n",
    "* 'a' - append mode, which is used to add new data to end of the file. (to add data to existing data)\n",
    "* 'r+' - read and write mode, which is used to handle both actions"
   ]
  },
  {
   "cell_type": "markdown",
   "id": "e663411f",
   "metadata": {},
   "source": [
    "### In-Built functions:\n",
    "\n",
    "* open: open(path,mode)\n",
    "* close: file_name.close()"
   ]
  },
  {
   "cell_type": "code",
   "execution_count": 1,
   "id": "08392a15",
   "metadata": {},
   "outputs": [],
   "source": [
    "# creating  a file and writing data into a file\n",
    "\n",
    "f1=open(\"sample.txt\",'w')  # opening a file in write mode\n",
    "f1.write(\"I am interest to learn data analysis\")\n",
    "f1.close()"
   ]
  },
  {
   "cell_type": "code",
   "execution_count": 4,
   "id": "a01a234e",
   "metadata": {},
   "outputs": [],
   "source": [
    "# write -> overwrites the existing file data\n",
    "\n",
    "f1=open('sample.txt','w')\n",
    "f1.write(\"ram is a good boy\")\n",
    "f1.close()"
   ]
  },
  {
   "cell_type": "code",
   "execution_count": 6,
   "id": "0ddf17d5",
   "metadata": {},
   "outputs": [
    {
     "name": "stdout",
     "output_type": "stream",
     "text": [
      "ram is a good boy\n"
     ]
    }
   ],
   "source": [
    "# read() - to read file data\n",
    "\n",
    "f=open(\"sample.txt\",'r')\n",
    "data=f.read()\n",
    "print(data)\n",
    "f.close()\n"
   ]
  },
  {
   "cell_type": "code",
   "execution_count": 7,
   "id": "afb4e646",
   "metadata": {},
   "outputs": [],
   "source": [
    "# append -> add new data to previous existing data\n",
    "\n",
    "f=open(\"sample.txt\",'a')\n",
    "f.write(\"\\n Good evening all of you \\n Happy learning\")\n",
    "f.close()"
   ]
  },
  {
   "cell_type": "markdown",
   "id": "60ebd3e2",
   "metadata": {},
   "source": [
    "### read() , readlines(), readline()\n",
    "\n",
    "* read() - read entire data from a file\n",
    "* readlines() - returns all file data lines in list format\n",
    "* readline() - returns a line from a file"
   ]
  },
  {
   "cell_type": "code",
   "execution_count": 8,
   "id": "9a66790e",
   "metadata": {},
   "outputs": [
    {
     "data": {
      "text/plain": [
       "'ram is a good boy\\n Good evening all of you \\n Happy learning'"
      ]
     },
     "execution_count": 8,
     "metadata": {},
     "output_type": "execute_result"
    }
   ],
   "source": [
    "f=open(\"sample.txt\",'r')\n",
    "f.read()"
   ]
  },
  {
   "cell_type": "code",
   "execution_count": 9,
   "id": "f986af2a",
   "metadata": {},
   "outputs": [
    {
     "data": {
      "text/plain": [
       "['ram is a good boy\\n', ' Good evening all of you \\n', ' Happy learning']"
      ]
     },
     "execution_count": 9,
     "metadata": {},
     "output_type": "execute_result"
    }
   ],
   "source": [
    "f=open(\"sample.txt\",'r')\n",
    "f.readlines()"
   ]
  },
  {
   "cell_type": "code",
   "execution_count": 10,
   "id": "734b68f7",
   "metadata": {},
   "outputs": [
    {
     "data": {
      "text/plain": [
       "'ram is a good boy\\n'"
      ]
     },
     "execution_count": 10,
     "metadata": {},
     "output_type": "execute_result"
    }
   ],
   "source": [
    "f=open(\"sample.txt\",'r')\n",
    "f.readline()"
   ]
  },
  {
   "cell_type": "code",
   "execution_count": 12,
   "id": "f263ab0c",
   "metadata": {
    "collapsed": true
   },
   "outputs": [
    {
     "name": "stdout",
     "output_type": "stream",
     "text": [
      "ram is a good boy\n",
      "\n",
      " Good evening all of you \n",
      "\n",
      " Happy learning\n"
     ]
    }
   ],
   "source": [
    "### read files data line by line\n",
    "\n",
    "f=open(\"sample.txt\",'r')\n",
    "l=f.readlines()\n",
    "for i in l:\n",
    "    print(i)"
   ]
  },
  {
   "cell_type": "code",
   "execution_count": 14,
   "id": "692bd50a",
   "metadata": {},
   "outputs": [
    {
     "name": "stdout",
     "output_type": "stream",
     "text": [
      "ram is a good boy\n",
      " Good evening all of you \n",
      " Happy learning\n",
      " have a good day\n",
      "\n"
     ]
    }
   ],
   "source": [
    "# r+ - read and write\n",
    "\n",
    "f=open(\"sample.txt\",'r+')\n",
    "data=f.read()\n",
    "print(data)\n",
    "f.write(\"\\n have a good day\")\n",
    "data1=f.read()\n",
    "print(data1)\n",
    "f.close()\n"
   ]
  },
  {
   "cell_type": "code",
   "execution_count": 16,
   "id": "02cc8d91",
   "metadata": {},
   "outputs": [
    {
     "name": "stdout",
     "output_type": "stream",
     "text": [
      "number of lines:  5\n"
     ]
    }
   ],
   "source": [
    "# write a program to find no of lines in a file\n",
    "\n",
    "f=open(\"sample.txt\",'r')\n",
    "l=f.readlines()\n",
    "nl=len(l)\n",
    "print(\"number of lines: \",nl)\n",
    "f.close()"
   ]
  },
  {
   "cell_type": "code",
   "execution_count": null,
   "id": "cf78d74d",
   "metadata": {},
   "outputs": [],
   "source": [
    "# write a program to find no of words in a file"
   ]
  },
  {
   "cell_type": "code",
   "execution_count": null,
   "id": "2ef58c39",
   "metadata": {},
   "outputs": [],
   "source": [
    "# write a program to find no of characters in a file"
   ]
  },
  {
   "cell_type": "code",
   "execution_count": 20,
   "id": "57ac292c",
   "metadata": {},
   "outputs": [],
   "source": [
    "# add 60 students\n",
    "\n",
    "f1=open(\"students.txt\",'w')\n",
    "for i in range(1,61):\n",
    "    f1.write(\"student %f \\n \" %(i))\n",
    "f1.close()"
   ]
  },
  {
   "cell_type": "code",
   "execution_count": null,
   "id": "967c886e",
   "metadata": {},
   "outputs": [],
   "source": []
  }
 ],
 "metadata": {
  "kernelspec": {
   "display_name": "Python 3 (ipykernel)",
   "language": "python",
   "name": "python3"
  },
  "language_info": {
   "codemirror_mode": {
    "name": "ipython",
    "version": 3
   },
   "file_extension": ".py",
   "mimetype": "text/x-python",
   "name": "python",
   "nbconvert_exporter": "python",
   "pygments_lexer": "ipython3",
   "version": "3.9.13"
  }
 },
 "nbformat": 4,
 "nbformat_minor": 5
}
