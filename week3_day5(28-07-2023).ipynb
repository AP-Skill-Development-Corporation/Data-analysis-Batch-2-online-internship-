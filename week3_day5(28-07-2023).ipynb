{
 "cells": [
  {
   "cell_type": "code",
   "execution_count": 41,
   "id": "5592ae88",
   "metadata": {},
   "outputs": [
    {
     "ename": "TypeError",
     "evalue": "can only concatenate list (not \"int\") to list",
     "output_type": "error",
     "traceback": [
      "\u001b[1;31m---------------------------------------------------------------------------\u001b[0m",
      "\u001b[1;31mTypeError\u001b[0m                                 Traceback (most recent call last)",
      "\u001b[1;32m~\\AppData\\Local\\Temp\\ipykernel_9656\\1564153865.py\u001b[0m in \u001b[0;36m<module>\u001b[1;34m\u001b[0m\n\u001b[0;32m      1\u001b[0m \u001b[0ml\u001b[0m\u001b[1;33m=\u001b[0m\u001b[1;33m[\u001b[0m\u001b[1;36m1\u001b[0m\u001b[1;33m,\u001b[0m\u001b[1;36m2\u001b[0m\u001b[1;33m,\u001b[0m\u001b[1;36m3\u001b[0m\u001b[1;33m,\u001b[0m\u001b[1;36m4\u001b[0m\u001b[1;33m]\u001b[0m\u001b[1;33m\u001b[0m\u001b[1;33m\u001b[0m\u001b[0m\n\u001b[1;32m----> 2\u001b[1;33m \u001b[0ml\u001b[0m\u001b[1;33m+\u001b[0m\u001b[1;36m4\u001b[0m  \u001b[1;31m# element wise operations not possible in lists\u001b[0m\u001b[1;33m\u001b[0m\u001b[1;33m\u001b[0m\u001b[0m\n\u001b[0m",
      "\u001b[1;31mTypeError\u001b[0m: can only concatenate list (not \"int\") to list"
     ]
    }
   ],
   "source": [
    "l=[1,2,3,4]\n",
    "l+4  # element wise operations not possible in lists"
   ]
  },
  {
   "cell_type": "code",
   "execution_count": 2,
   "id": "3333f0eb",
   "metadata": {},
   "outputs": [
    {
     "data": {
      "text/plain": [
       "array([1, 2, 3, 4])"
      ]
     },
     "execution_count": 2,
     "metadata": {},
     "output_type": "execute_result"
    }
   ],
   "source": [
    "import numpy as np\n",
    "\n",
    "ar=np.array([1,2,3,4])\n",
    "ar"
   ]
  },
  {
   "cell_type": "code",
   "execution_count": 3,
   "id": "b2ced935",
   "metadata": {},
   "outputs": [
    {
     "data": {
      "text/plain": [
       "array([5, 6, 7, 8])"
      ]
     },
     "execution_count": 3,
     "metadata": {},
     "output_type": "execute_result"
    }
   ],
   "source": [
    "ar+4"
   ]
  },
  {
   "cell_type": "code",
   "execution_count": 4,
   "id": "93f9898c",
   "metadata": {},
   "outputs": [
    {
     "data": {
      "text/plain": [
       "array([17, 79, 84, 67, 52, 84, 26, 36, 99, 26, 70, 69])"
      ]
     },
     "execution_count": 4,
     "metadata": {},
     "output_type": "execute_result"
    }
   ],
   "source": [
    "## random\n",
    "\n",
    "a=np.random.randint(1,100,12)  # range, size\n",
    "a"
   ]
  },
  {
   "cell_type": "code",
   "execution_count": 5,
   "id": "4767a8da",
   "metadata": {},
   "outputs": [
    {
     "data": {
      "text/plain": [
       "0.6316053933184664"
      ]
     },
     "execution_count": 5,
     "metadata": {},
     "output_type": "execute_result"
    }
   ],
   "source": [
    "np.random.random()   # 0 to 1"
   ]
  },
  {
   "cell_type": "code",
   "execution_count": 6,
   "id": "9706c15b",
   "metadata": {},
   "outputs": [
    {
     "data": {
      "text/plain": [
       "247"
      ]
     },
     "execution_count": 6,
     "metadata": {},
     "output_type": "execute_result"
    }
   ],
   "source": [
    "np.random.randint(400)"
   ]
  },
  {
   "cell_type": "code",
   "execution_count": 7,
   "id": "b7259ba6",
   "metadata": {},
   "outputs": [
    {
     "data": {
      "text/plain": [
       "array([[14, 20, 77],\n",
       "       [47, 59, 68]])"
      ]
     },
     "execution_count": 7,
     "metadata": {},
     "output_type": "execute_result"
    }
   ],
   "source": [
    "\n",
    "a=np.random.randint(1,100,(2,3))  # range, shape\n",
    "a"
   ]
  },
  {
   "cell_type": "code",
   "execution_count": 14,
   "id": "067b3510",
   "metadata": {},
   "outputs": [
    {
     "data": {
      "text/plain": [
       "numpy.ndarray"
      ]
     },
     "execution_count": 14,
     "metadata": {},
     "output_type": "execute_result"
    }
   ],
   "source": [
    "\n",
    "a=np.random.randint(1,100,12)  # range, size\n",
    "type(a)"
   ]
  },
  {
   "cell_type": "code",
   "execution_count": 9,
   "id": "c5c880a5",
   "metadata": {},
   "outputs": [
    {
     "data": {
      "text/plain": [
       "43"
      ]
     },
     "execution_count": 9,
     "metadata": {},
     "output_type": "execute_result"
    }
   ],
   "source": [
    "a[0]"
   ]
  },
  {
   "cell_type": "code",
   "execution_count": 10,
   "id": "eac8a93e",
   "metadata": {},
   "outputs": [
    {
     "data": {
      "text/plain": [
       "39"
      ]
     },
     "execution_count": 10,
     "metadata": {},
     "output_type": "execute_result"
    }
   ],
   "source": [
    "a[1]"
   ]
  },
  {
   "cell_type": "code",
   "execution_count": 11,
   "id": "127d9707",
   "metadata": {},
   "outputs": [
    {
     "data": {
      "text/plain": [
       "array([43, 92, 62,  9,  1, 29])"
      ]
     },
     "execution_count": 11,
     "metadata": {},
     "output_type": "execute_result"
    }
   ],
   "source": [
    "### slicing\n",
    "\n",
    "a[::2]"
   ]
  },
  {
   "cell_type": "code",
   "execution_count": 13,
   "id": "b117aa6e",
   "metadata": {},
   "outputs": [
    {
     "data": {
      "text/plain": [
       "array([43, 39, 92, 38, 62])"
      ]
     },
     "execution_count": 13,
     "metadata": {},
     "output_type": "execute_result"
    }
   ],
   "source": [
    "a[:5]"
   ]
  },
  {
   "cell_type": "code",
   "execution_count": 12,
   "id": "5b907c79",
   "metadata": {},
   "outputs": [
    {
     "data": {
      "text/plain": [
       "array([97, 29, 41,  1, 52,  9, 12, 62, 38, 92, 39, 43])"
      ]
     },
     "execution_count": 12,
     "metadata": {},
     "output_type": "execute_result"
    }
   ],
   "source": [
    "a[::-1]"
   ]
  },
  {
   "cell_type": "code",
   "execution_count": null,
   "id": "42457d3e",
   "metadata": {},
   "outputs": [],
   "source": [
    "### fancy indexing or boolean indexing"
   ]
  },
  {
   "cell_type": "code",
   "execution_count": 15,
   "id": "d30a8ca3",
   "metadata": {},
   "outputs": [
    {
     "data": {
      "text/plain": [
       "array([ 4, 11, 48, 86, 17, 64, 56, 45, 30, 13, 39, 66])"
      ]
     },
     "execution_count": 15,
     "metadata": {},
     "output_type": "execute_result"
    }
   ],
   "source": [
    "a"
   ]
  },
  {
   "cell_type": "code",
   "execution_count": 16,
   "id": "b0beb958",
   "metadata": {},
   "outputs": [
    {
     "data": {
      "text/plain": [
       "array([False, False, False,  True, False,  True,  True, False, False,\n",
       "       False, False,  True])"
      ]
     },
     "execution_count": 16,
     "metadata": {},
     "output_type": "execute_result"
    }
   ],
   "source": [
    "a>50"
   ]
  },
  {
   "cell_type": "code",
   "execution_count": 17,
   "id": "26c05018",
   "metadata": {},
   "outputs": [
    {
     "data": {
      "text/plain": [
       "array([86, 64, 56, 66])"
      ]
     },
     "execution_count": 17,
     "metadata": {},
     "output_type": "execute_result"
    }
   ],
   "source": [
    "a[a>50]  "
   ]
  },
  {
   "cell_type": "code",
   "execution_count": 21,
   "id": "43f1ca5e",
   "metadata": {},
   "outputs": [],
   "source": [
    "a[(a>50) & (a<60)]=200"
   ]
  },
  {
   "cell_type": "code",
   "execution_count": 22,
   "id": "35468e96",
   "metadata": {},
   "outputs": [
    {
     "data": {
      "text/plain": [
       "array([  4,  11,  48,  86,  17,  64, 200,  45,  30,  13,  39,  66])"
      ]
     },
     "execution_count": 22,
     "metadata": {},
     "output_type": "execute_result"
    }
   ],
   "source": [
    "a"
   ]
  },
  {
   "cell_type": "code",
   "execution_count": 23,
   "id": "e20148ff",
   "metadata": {},
   "outputs": [],
   "source": [
    "def grt(a,b):\n",
    "    if a>b:\n",
    "        return a\n",
    "    else:\n",
    "        return b\n",
    "        "
   ]
  },
  {
   "cell_type": "code",
   "execution_count": 24,
   "id": "1a805763",
   "metadata": {},
   "outputs": [
    {
     "data": {
      "text/plain": [
       "90"
      ]
     },
     "execution_count": 24,
     "metadata": {},
     "output_type": "execute_result"
    }
   ],
   "source": [
    "grt(90,67)"
   ]
  },
  {
   "cell_type": "code",
   "execution_count": 26,
   "id": "bc5b9531",
   "metadata": {},
   "outputs": [
    {
     "data": {
      "text/plain": [
       "[56, 43, 23]"
      ]
     },
     "execution_count": 26,
     "metadata": {},
     "output_type": "execute_result"
    }
   ],
   "source": [
    "grt([56,43,23],[12,34,25])"
   ]
  },
  {
   "cell_type": "code",
   "execution_count": 27,
   "id": "ddfed7f7",
   "metadata": {},
   "outputs": [],
   "source": [
    "### vectorization is used to implement array operations without using loops"
   ]
  },
  {
   "cell_type": "code",
   "execution_count": 28,
   "id": "5cb77749",
   "metadata": {},
   "outputs": [
    {
     "data": {
      "text/plain": [
       "array([56, 43, 25])"
      ]
     },
     "execution_count": 28,
     "metadata": {},
     "output_type": "execute_result"
    }
   ],
   "source": [
    "vgrt=np.vectorize(grt)\n",
    "\n",
    "vgrt([56,43,23],[12,34,25])"
   ]
  },
  {
   "cell_type": "markdown",
   "id": "9f2e07a2",
   "metadata": {},
   "source": [
    "### stacking:\n",
    "\n",
    "- vstack  - we can add rows\n",
    "- hstack  - we can add columns\n"
   ]
  },
  {
   "cell_type": "code",
   "execution_count": 32,
   "id": "b86253d4",
   "metadata": {},
   "outputs": [
    {
     "name": "stdout",
     "output_type": "stream",
     "text": [
      "[[19 14]]\n",
      "[[13  3]]\n",
      "--vstack--\n"
     ]
    },
    {
     "data": {
      "text/plain": [
       "array([[19, 14],\n",
       "       [13,  3]])"
      ]
     },
     "execution_count": 32,
     "metadata": {},
     "output_type": "execute_result"
    }
   ],
   "source": [
    "a1=np.random.randint(1,20,(1,2))\n",
    "print(a1)\n",
    "b1=np.random.randint(1,20,(1,2))\n",
    "print(b1)\n",
    "print('--vstack--')\n",
    "np.vstack((a1,b1))"
   ]
  },
  {
   "cell_type": "code",
   "execution_count": null,
   "id": "3f7b211c",
   "metadata": {},
   "outputs": [],
   "source": [
    "### task1:\n",
    "create an 2D array with 4 elements values b/w 10,20  and apply vstack and hstack on it"
   ]
  },
  {
   "cell_type": "code",
   "execution_count": null,
   "id": "169970d1",
   "metadata": {},
   "outputs": [],
   "source": [
    "#  task2\n",
    "create an 1D array with 10 elements and reshape it with 2 rows and 5 columns"
   ]
  },
  {
   "cell_type": "code",
   "execution_count": 30,
   "id": "58e8d6a7",
   "metadata": {},
   "outputs": [
    {
     "data": {
      "text/plain": [
       "array([[12, 11]])"
      ]
     },
     "execution_count": 30,
     "metadata": {},
     "output_type": "execute_result"
    }
   ],
   "source": [
    "a1"
   ]
  },
  {
   "cell_type": "code",
   "execution_count": 33,
   "id": "e9e67ba7",
   "metadata": {},
   "outputs": [
    {
     "name": "stdout",
     "output_type": "stream",
     "text": [
      "[[6 4]]\n",
      "[[4 7]]\n",
      "--hstack--\n"
     ]
    },
    {
     "data": {
      "text/plain": [
       "array([[6, 4, 4, 7]])"
      ]
     },
     "execution_count": 33,
     "metadata": {},
     "output_type": "execute_result"
    }
   ],
   "source": [
    "a1=np.random.randint(1,20,(1,2))\n",
    "print(a1)\n",
    "b1=np.random.randint(1,20,(1,2))\n",
    "print(b1)\n",
    "print('--hstack--')\n",
    "np.hstack((a1,b1))"
   ]
  },
  {
   "cell_type": "code",
   "execution_count": 34,
   "id": "aff14f3e",
   "metadata": {},
   "outputs": [],
   "source": [
    "### ravel() and flatten()"
   ]
  },
  {
   "cell_type": "code",
   "execution_count": 39,
   "id": "6a107833",
   "metadata": {},
   "outputs": [
    {
     "name": "stdout",
     "output_type": "stream",
     "text": [
      "2\n"
     ]
    },
    {
     "data": {
      "text/plain": [
       "array([[4, 5],\n",
       "       [7, 8]])"
      ]
     },
     "execution_count": 39,
     "metadata": {},
     "output_type": "execute_result"
    }
   ],
   "source": [
    "a1=np.array([[4,5],[7,8]])\n",
    "print(a1.ndim)\n",
    "a1"
   ]
  },
  {
   "cell_type": "code",
   "execution_count": 38,
   "id": "2ac3b65f",
   "metadata": {},
   "outputs": [
    {
     "data": {
      "text/plain": [
       "array([4, 5, 7, 8])"
      ]
     },
     "execution_count": 38,
     "metadata": {},
     "output_type": "execute_result"
    }
   ],
   "source": [
    "b1=a1.flatten()\n",
    "b1"
   ]
  },
  {
   "cell_type": "code",
   "execution_count": 40,
   "id": "b05899eb",
   "metadata": {},
   "outputs": [
    {
     "data": {
      "text/plain": [
       "array([4, 5, 7, 8])"
      ]
     },
     "execution_count": 40,
     "metadata": {},
     "output_type": "execute_result"
    }
   ],
   "source": [
    "c1=a1.ravel()\n",
    "c1"
   ]
  },
  {
   "cell_type": "code",
   "execution_count": null,
   "id": "d512125c",
   "metadata": {},
   "outputs": [],
   "source": []
  }
 ],
 "metadata": {
  "kernelspec": {
   "display_name": "Python 3 (ipykernel)",
   "language": "python",
   "name": "python3"
  },
  "language_info": {
   "codemirror_mode": {
    "name": "ipython",
    "version": 3
   },
   "file_extension": ".py",
   "mimetype": "text/x-python",
   "name": "python",
   "nbconvert_exporter": "python",
   "pygments_lexer": "ipython3",
   "version": "3.9.13"
  }
 },
 "nbformat": 4,
 "nbformat_minor": 5
}
