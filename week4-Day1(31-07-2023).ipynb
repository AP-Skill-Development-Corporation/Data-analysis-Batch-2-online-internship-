{
 "cells": [
  {
   "cell_type": "markdown",
   "id": "8698ae13",
   "metadata": {},
   "source": [
    "### Data Analysis with Pandas:\n",
    "- Pandas Introduction:\n",
    "    - PANDAS Stands for 'Python Data Analysis Library'.\n",
    "    - It is a open Source Library.\n",
    "    - It ia mainly used for Data analysis and Data manipulations.\n",
    "- Types of pandas data structures:\n",
    "    - 1. Series Data Structure\n",
    "    - 2. DataFrame Data Structure\n",
    "- 1. Series:\n",
    "      - It is mainly used for to create the 1-d array with named index.\n",
    "- 2. DataFrame:\n",
    "       - It is mainly used for to create the 2-d array in the format of rows and columns.\n",
    "- By using pandas we read the large amount of data like .excel,.csv,tabular.. etc\n",
    "- 1. How to installing and importing pandas?\n",
    "- syntax: pip install pandas\n",
    "- 2. Jupyter notebook:\n",
    "- syntax: import pandas as pd"
   ]
  },
  {
   "cell_type": "markdown",
   "id": "6e19f74e",
   "metadata": {},
   "source": [
    "### Series Data Structure:\n",
    "- To create the series Data structure using list,tuple,diciotnary and also numpy 1-d array.\n",
    "- syntax:\n",
    "        pandas.Series(list,tuple,dict,numpy)\n",
    "- **The number of elements in the index list is always equal to the number of elements in the specified series**."
   ]
  },
  {
   "cell_type": "code",
   "execution_count": 2,
   "id": "1a1a8ac7",
   "metadata": {},
   "outputs": [],
   "source": [
    "# To import the pandas \n",
    "import pandas as pd"
   ]
  },
  {
   "cell_type": "code",
   "execution_count": 3,
   "id": "4caf12a0",
   "metadata": {},
   "outputs": [
    {
     "name": "stdout",
     "output_type": "stream",
     "text": [
      "0    10\n",
      "1    20\n",
      "2    30\n",
      "3    40\n",
      "dtype: int64\n",
      "<class 'pandas.core.series.Series'>\n"
     ]
    }
   ],
   "source": [
    "# To create the series data structure using list?\n",
    "L1 = [10,20,30,40]\n",
    "s1 = pd.Series(L1)\n",
    "print(s1)\n",
    "print(type(s1))"
   ]
  },
  {
   "cell_type": "code",
   "execution_count": 6,
   "id": "3d95bfa9",
   "metadata": {},
   "outputs": [
    {
     "name": "stdout",
     "output_type": "stream",
     "text": [
      "A    10\n",
      "B    20\n",
      "C    30\n",
      "D    40\n",
      "dtype: int64\n"
     ]
    }
   ],
   "source": [
    "# To change the index names\n",
    "s1.index=['A','B','C','D']\n",
    "print(s1)"
   ]
  },
  {
   "cell_type": "code",
   "execution_count": 8,
   "id": "be2287d2",
   "metadata": {},
   "outputs": [
    {
     "name": "stdout",
     "output_type": "stream",
     "text": [
      "a1        10\n",
      "b1        20\n",
      "c1    python\n",
      "d1        30\n",
      "dtype: object\n",
      "<class 'pandas.core.series.Series'>\n"
     ]
    }
   ],
   "source": [
    "# To create the series with index names...\n",
    "sd1 = pd.Series([10,20,'python',30],index=['a1','b1','c1','d1'])\n",
    "print(sd1)\n",
    "print(type(sd1))"
   ]
  },
  {
   "cell_type": "code",
   "execution_count": 9,
   "id": "bf706e65",
   "metadata": {},
   "outputs": [
    {
     "name": "stdout",
     "output_type": "stream",
     "text": [
      "Name      aadyan\n",
      "Rollno       423\n",
      "Branch       ECE\n",
      "dtype: object\n"
     ]
    }
   ],
   "source": [
    "# To create the series using diciotnary?\n",
    "d1 ={'Name':'aadyan','Rollno':423,'Branch':'ECE'}\n",
    "s3 = pd.Series(d1)\n",
    "print(s3)"
   ]
  },
  {
   "cell_type": "code",
   "execution_count": 10,
   "id": "5dbb3759",
   "metadata": {},
   "outputs": [
    {
     "name": "stdout",
     "output_type": "stream",
     "text": [
      "0    10\n",
      "1    20\n",
      "2    30\n",
      "dtype: int64\n"
     ]
    }
   ],
   "source": [
    "# To create the series with tuple\n",
    "s2 = pd.Series((10,20,30))\n",
    "print(s2)"
   ]
  },
  {
   "cell_type": "code",
   "execution_count": 11,
   "id": "9ffdd361",
   "metadata": {},
   "outputs": [],
   "source": [
    "import numpy as np"
   ]
  },
  {
   "cell_type": "code",
   "execution_count": 12,
   "id": "9feb8be6",
   "metadata": {},
   "outputs": [
    {
     "name": "stdout",
     "output_type": "stream",
     "text": [
      "0    10\n",
      "1    20\n",
      "2    30\n",
      "dtype: int32\n"
     ]
    }
   ],
   "source": [
    "# To create the series using numpy array..\n",
    "n1 = np.array([10,20,30])\n",
    "sd3 = pd.Series(n1)\n",
    "print(sd3)"
   ]
  },
  {
   "cell_type": "markdown",
   "id": "d6bc79e0",
   "metadata": {},
   "source": [
    "### Series indexing:\n",
    "- To get the data from a series.\n",
    "- To access the values from a series using index names."
   ]
  },
  {
   "cell_type": "code",
   "execution_count": 13,
   "id": "d602904d",
   "metadata": {},
   "outputs": [
    {
     "name": "stdout",
     "output_type": "stream",
     "text": [
      "0        10\n",
      "1        20\n",
      "2        30\n",
      "3    python\n",
      "4      45.6\n",
      "dtype: object\n"
     ]
    }
   ],
   "source": [
    "sd1 = pd.Series([10,20,30,'python',45.6])\n",
    "print(sd1)"
   ]
  },
  {
   "cell_type": "code",
   "execution_count": 14,
   "id": "1cbba7c6",
   "metadata": {},
   "outputs": [
    {
     "name": "stdout",
     "output_type": "stream",
     "text": [
      "20\n"
     ]
    }
   ],
   "source": [
    "# TO access the series values..\n",
    "print(sd1[1])"
   ]
  },
  {
   "cell_type": "code",
   "execution_count": 15,
   "id": "03f7dc1b",
   "metadata": {},
   "outputs": [
    {
     "name": "stdout",
     "output_type": "stream",
     "text": [
      "0      10\n",
      "2      30\n",
      "4    45.6\n",
      "dtype: object\n"
     ]
    }
   ],
   "source": [
    "print(sd1[::2])\n",
    "# To get the alternative rows"
   ]
  },
  {
   "cell_type": "code",
   "execution_count": 16,
   "id": "5d5cda60",
   "metadata": {},
   "outputs": [
    {
     "name": "stdout",
     "output_type": "stream",
     "text": [
      "4      45.6\n",
      "3    python\n",
      "2        30\n",
      "1        20\n",
      "0        10\n",
      "dtype: object\n"
     ]
    }
   ],
   "source": [
    "print(sd1[::-1])"
   ]
  },
  {
   "cell_type": "code",
   "execution_count": 17,
   "id": "fdc04b79",
   "metadata": {},
   "outputs": [
    {
     "name": "stdout",
     "output_type": "stream",
     "text": [
      "3    python\n",
      "4      45.6\n",
      "dtype: object\n"
     ]
    }
   ],
   "source": [
    "print(sd1[3:])"
   ]
  },
  {
   "cell_type": "code",
   "execution_count": null,
   "id": "dafbf7c7",
   "metadata": {},
   "outputs": [],
   "source": []
  }
 ],
 "metadata": {
  "kernelspec": {
   "display_name": "Python 3",
   "language": "python",
   "name": "python3"
  },
  "language_info": {
   "codemirror_mode": {
    "name": "ipython",
    "version": 3
   },
   "file_extension": ".py",
   "mimetype": "text/x-python",
   "name": "python",
   "nbconvert_exporter": "python",
   "pygments_lexer": "ipython3",
   "version": "3.8.8"
  }
 },
 "nbformat": 4,
 "nbformat_minor": 5
}
