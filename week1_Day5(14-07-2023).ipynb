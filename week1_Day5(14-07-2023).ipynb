{
 "cells": [
  {
   "cell_type": "markdown",
   "id": "6d4a7bad",
   "metadata": {},
   "source": [
    "### Types of arguments:\n",
    "- In python 4 types of arguments.\n",
    "- 1. variable length arguments\n",
    "- 2. Keyword length argumnets\n",
    "- 3. default arguments\n",
    "- 4. non-default arguments"
   ]
  },
  {
   "cell_type": "markdown",
   "id": "26cd61f6",
   "metadata": {},
   "source": [
    "- 1. variable length arguments:\n",
    "- By using '*' symbol we can develop the varible length argumnets.\n",
    "- It returns the data in the format of tuple."
   ]
  },
  {
   "cell_type": "code",
   "execution_count": 2,
   "id": "8e5c0a81",
   "metadata": {
    "collapsed": true
   },
   "outputs": [
    {
     "ename": "TypeError",
     "evalue": "hello() takes 2 positional arguments but 4 were given",
     "output_type": "error",
     "traceback": [
      "\u001b[1;31m---------------------------------------------------------------------------\u001b[0m",
      "\u001b[1;31mTypeError\u001b[0m                                 Traceback (most recent call last)",
      "\u001b[1;32m<ipython-input-2-ad9d7a64b6f6>\u001b[0m in \u001b[0;36m<module>\u001b[1;34m\u001b[0m\n\u001b[0;32m      1\u001b[0m \u001b[1;32mdef\u001b[0m \u001b[0mhello\u001b[0m\u001b[1;33m(\u001b[0m\u001b[0ma\u001b[0m\u001b[1;33m,\u001b[0m\u001b[0mb\u001b[0m\u001b[1;33m)\u001b[0m\u001b[1;33m:\u001b[0m \u001b[1;31m# a=100, b=24\u001b[0m\u001b[1;33m\u001b[0m\u001b[1;33m\u001b[0m\u001b[0m\n\u001b[0;32m      2\u001b[0m     \u001b[0mprint\u001b[0m\u001b[1;33m(\u001b[0m\u001b[0ma\u001b[0m\u001b[1;33m,\u001b[0m\u001b[0mb\u001b[0m\u001b[1;33m)\u001b[0m\u001b[1;33m\u001b[0m\u001b[1;33m\u001b[0m\u001b[0m\n\u001b[1;32m----> 3\u001b[1;33m \u001b[0mhello\u001b[0m\u001b[1;33m(\u001b[0m\u001b[1;36m100\u001b[0m\u001b[1;33m,\u001b[0m\u001b[1;36m24\u001b[0m\u001b[1;33m,\u001b[0m\u001b[1;36m200\u001b[0m\u001b[1;33m,\u001b[0m\u001b[1;36m300\u001b[0m\u001b[1;33m)\u001b[0m\u001b[1;33m\u001b[0m\u001b[1;33m\u001b[0m\u001b[0m\n\u001b[0m",
      "\u001b[1;31mTypeError\u001b[0m: hello() takes 2 positional arguments but 4 were given"
     ]
    }
   ],
   "source": [
    "def hello(a,b): # a=100, b=24\n",
    "    print(a,b)\n",
    "hello(100,24,200,300)"
   ]
  },
  {
   "cell_type": "code",
   "execution_count": 4,
   "id": "b0249a8f",
   "metadata": {},
   "outputs": [
    {
     "name": "stdout",
     "output_type": "stream",
     "text": [
      "100 (200, 300, 400, 'apssdc', 34, 5, 56)\n"
     ]
    }
   ],
   "source": [
    "# example program on variable length arguments...\n",
    "def sample(n,*m):\n",
    "    print(n,m)\n",
    "sample(100,200,300,400,'apssdc',34,5,56)"
   ]
  },
  {
   "cell_type": "markdown",
   "id": "89a1603d",
   "metadata": {},
   "source": [
    "- 2. keyword length arguments:\n",
    "- By using '**' symbols we can develop the keyword length arguments.\n",
    "- In returns the data in the format of dicctionary like {keyname:value}."
   ]
  },
  {
   "cell_type": "code",
   "execution_count": 6,
   "id": "e73d60d8",
   "metadata": {},
   "outputs": [
    {
     "name": "stdout",
     "output_type": "stream",
     "text": [
      "{'name': 'narmada', 'rollno': 510, 'branch': 'cse'}\n"
     ]
    }
   ],
   "source": [
    "# example on keyword length arguments...\n",
    "def keyword(**a):\n",
    "    print(a)\n",
    "keyword(name='narmada',rollno=510,branch='cse')"
   ]
  },
  {
   "cell_type": "code",
   "execution_count": 10,
   "id": "6ff62426",
   "metadata": {},
   "outputs": [
    {
     "name": "stdout",
     "output_type": "stream",
     "text": [
      "100 10\n"
     ]
    }
   ],
   "source": [
    "# 3. default arguments example program..\n",
    "def example(a,b=10):\n",
    "    # a is non-default arguments, b is default argument\n",
    "    print(a,b)\n",
    "example(100)"
   ]
  },
  {
   "cell_type": "code",
   "execution_count": 16,
   "id": "f8a8887f",
   "metadata": {},
   "outputs": [
    {
     "name": "stdout",
     "output_type": "stream",
     "text": [
      "hii (100, 200, 300)\n"
     ]
    }
   ],
   "source": [
    "def example(a,*b):\n",
    "     print(a,b)\n",
    "example(\"hii\",100,200,300)"
   ]
  },
  {
   "cell_type": "code",
   "execution_count": 19,
   "id": "402575f3",
   "metadata": {},
   "outputs": [
    {
     "ename": "SyntaxError",
     "evalue": "invalid syntax (<ipython-input-19-3af5027d2ae6>, line 1)",
     "output_type": "error",
     "traceback": [
      "\u001b[1;36m  File \u001b[1;32m\"<ipython-input-19-3af5027d2ae6>\"\u001b[1;36m, line \u001b[1;32m1\u001b[0m\n\u001b[1;33m    def hello(**a,*b):\u001b[0m\n\u001b[1;37m                  ^\u001b[0m\n\u001b[1;31mSyntaxError\u001b[0m\u001b[1;31m:\u001b[0m invalid syntax\n"
     ]
    }
   ],
   "source": [
    "def hello(**a,*b):\n",
    "    print(a,b)\n",
    "hello(Name='narmada',rno=420,branch='ece',10,20,30,'apssdc')"
   ]
  },
  {
   "cell_type": "markdown",
   "id": "63f5538d",
   "metadata": {},
   "source": [
    "### String:\n",
    "- def: \n",
    "      - It is a collection of characters.\n",
    "      - It is a character array.\n",
    "      - Sequence of characters.\n",
    "      - string index starts from 0 to size-1.\n",
    "      - string is immutable(can't change the original). \n",
    "      - By using the single quotes, double quotes we can define the string.\n",
    "      - To read the multiple statements we can use tripple quotes."
   ]
  },
  {
   "cell_type": "code",
   "execution_count": 20,
   "id": "aa8a9569",
   "metadata": {},
   "outputs": [
    {
     "name": "stdout",
     "output_type": "stream",
     "text": [
      "welcome to data analysis program\n",
      "<class 'str'>\n"
     ]
    }
   ],
   "source": [
    "# string initializatio:\n",
    "s1='welcome to data analysis program'\n",
    "print(s1)\n",
    "print(type(s1))"
   ]
  },
  {
   "cell_type": "code",
   "execution_count": 21,
   "id": "2fae228d",
   "metadata": {},
   "outputs": [
    {
     "name": "stdout",
     "output_type": "stream",
     "text": [
      "welcome to apssdc\n",
      "<class 'str'>\n"
     ]
    }
   ],
   "source": [
    "s2 = \"welcome to apssdc\"\n",
    "print(s2)\n",
    "print(type(s2))"
   ]
  },
  {
   "cell_type": "code",
   "execution_count": 22,
   "id": "892659dd",
   "metadata": {},
   "outputs": [
    {
     "name": "stdout",
     "output_type": "stream",
     "text": [
      "apssdc programs\n",
      "welcome to DA internship\n",
      "python programming\n",
      "DA internship batch-2\n",
      "<class 'str'>\n"
     ]
    }
   ],
   "source": [
    "# To print the multiple statements..\n",
    "s3='''apssdc programs\n",
    "welcome to DA internship\n",
    "python programming\n",
    "DA internship batch-2'''\n",
    "print(s3)\n",
    "print(type(s3))"
   ]
  },
  {
   "cell_type": "code",
   "execution_count": 23,
   "id": "b3a4d3dd",
   "metadata": {
    "collapsed": true
   },
   "outputs": [
    {
     "name": "stdout",
     "output_type": "stream",
     "text": [
      "p\n",
      "y\n",
      "t\n",
      "h\n",
      "o\n",
      "n\n",
      " \n",
      "p\n",
      "r\n",
      "o\n",
      "g\n",
      "r\n",
      "a\n",
      "m\n",
      "m\n",
      "i\n",
      "n\n",
      "g\n"
     ]
    }
   ],
   "source": [
    "# to print the each character. using for loop \n",
    "s1=\"python programming\"\n",
    "for i in s1:\n",
    "    print(i)"
   ]
  },
  {
   "cell_type": "code",
   "execution_count": 24,
   "id": "cacde585",
   "metadata": {},
   "outputs": [
    {
     "name": "stdout",
     "output_type": "stream",
     "text": [
      "14\n"
     ]
    }
   ],
   "source": [
    "# TO print the string length... using len() method\n",
    "s='python welcome'\n",
    "print(len(s))"
   ]
  },
  {
   "cell_type": "code",
   "execution_count": 25,
   "id": "e829b109",
   "metadata": {},
   "outputs": [
    {
     "name": "stdout",
     "output_type": "stream",
     "text": [
      "s\n"
     ]
    }
   ],
   "source": [
    "# To print the maximum character from a string using max() method.\n",
    "s='apssdc'\n",
    "print(max(s))"
   ]
  },
  {
   "cell_type": "code",
   "execution_count": 26,
   "id": "03127455",
   "metadata": {},
   "outputs": [
    {
     "name": "stdout",
     "output_type": "stream",
     "text": [
      "h\n"
     ]
    }
   ],
   "source": [
    "# To print the minimum character from a string using min() method.\n",
    "s='python'\n",
    "print(min(s))"
   ]
  },
  {
   "cell_type": "code",
   "execution_count": 34,
   "id": "c3e95f1e",
   "metadata": {},
   "outputs": [
    {
     "name": "stdout",
     "output_type": "stream",
     "text": [
      "112\n",
      "32\n",
      "53\n",
      "36\n",
      "48\n",
      "78\n"
     ]
    }
   ],
   "source": [
    "# To print the ascii value of a given character using ord() method.\n",
    "print(ord('p'))\n",
    "print(ord(' '))\n",
    "print(ord('5'))\n",
    "print(ord('$'))\n",
    "print(ord('0'))\n",
    "print(ord('N'))"
   ]
  },
  {
   "cell_type": "code",
   "execution_count": 38,
   "id": "d16def96",
   "metadata": {},
   "outputs": [
    {
     "name": "stdout",
     "output_type": "stream",
     "text": [
      "d\n",
      "È\n",
      "\u0000\n",
      "\u0001\n"
     ]
    }
   ],
   "source": [
    "# To print the character of a given ascii value using chr() method.\n",
    "print(chr(100))\n",
    "print(chr(200))\n",
    "print(chr(0))\n",
    "print(chr(1))"
   ]
  },
  {
   "cell_type": "markdown",
   "id": "9bcb73f5",
   "metadata": {},
   "source": [
    "### indexing and slicing:\n",
    "- 1. indexing:\n",
    "            - To get the single character.\n",
    "- 2. slicing:\n",
    "            - To get the tow or more characters.\n",
    "            - syntax:\n",
    "                    [start:stop:step]\n",
    "                    start-> 0 -> optional\n",
    "                    stop ->size-1\n",
    "                    step -> 1\n",
    "- Two types of indexing:\n",
    "- 1. forward indexing -> starts from 0 to size-1\n",
    "- 2. Backward indexing -> negative index values\n",
    "\n",
    "ex:\n",
    "                 0   1     2    3    4    5  -> forward indexing\n",
    "                 P    Y     T    H    O    N\n",
    "                -6   -5    -4   -3   -2   -1  -> Backward indexing"
   ]
  },
  {
   "cell_type": "code",
   "execution_count": 49,
   "id": "41fa2dde",
   "metadata": {},
   "outputs": [
    {
     "name": "stdout",
     "output_type": "stream",
     "text": [
      "h\n",
      "p\n",
      "g\n",
      "thon\n",
      " programming\n",
      "pto rgamn\n",
      "gnimmargorp nohtyp\n",
      "p g\n",
      "pg\n"
     ]
    }
   ],
   "source": [
    "# To get the characters from a string...\n",
    "s1='python programming'\n",
    "print(s1[3])\n",
    "print(s1[0]) # TO get the first character\n",
    "print(s1[-1]) # To get the last character\n",
    "print(s1[2:6])\n",
    "print(s1[6:])\n",
    "print(s1[0::2]) # TO print the alternative characters\n",
    "print(s1[::-1]) # To print the string in reverse order.\n",
    "# To print the only the first and last characters.\n",
    "# first character is: p, last character is: g\n",
    "print(s1[0],s1[-1])\n",
    "print(s1[::17])"
   ]
  },
  {
   "cell_type": "markdown",
   "id": "2a2fccf4",
   "metadata": {},
   "source": [
    "### string methods:"
   ]
  },
  {
   "cell_type": "code",
   "execution_count": 50,
   "id": "6a296785",
   "metadata": {
    "collapsed": true
   },
   "outputs": [
    {
     "name": "stdout",
     "output_type": "stream",
     "text": [
      "['__add__', '__class__', '__contains__', '__delattr__', '__dir__', '__doc__', '__eq__', '__format__', '__ge__', '__getattribute__', '__getitem__', '__getnewargs__', '__gt__', '__hash__', '__init__', '__init_subclass__', '__iter__', '__le__', '__len__', '__lt__', '__mod__', '__mul__', '__ne__', '__new__', '__reduce__', '__reduce_ex__', '__repr__', '__rmod__', '__rmul__', '__setattr__', '__sizeof__', '__str__', '__subclasshook__', 'capitalize', 'casefold', 'center', 'count', 'encode', 'endswith', 'expandtabs', 'find', 'format', 'format_map', 'index', 'isalnum', 'isalpha', 'isascii', 'isdecimal', 'isdigit', 'isidentifier', 'islower', 'isnumeric', 'isprintable', 'isspace', 'istitle', 'isupper', 'join', 'ljust', 'lower', 'lstrip', 'maketrans', 'partition', 'replace', 'rfind', 'rindex', 'rjust', 'rpartition', 'rsplit', 'rstrip', 'split', 'splitlines', 'startswith', 'strip', 'swapcase', 'title', 'translate', 'upper', 'zfill']\n"
     ]
    }
   ],
   "source": [
    "print(dir(str))"
   ]
  },
  {
   "cell_type": "code",
   "execution_count": 52,
   "id": "0dc944d5",
   "metadata": {},
   "outputs": [
    {
     "data": {
      "text/plain": [
       "'Python programming'"
      ]
     },
     "execution_count": 52,
     "metadata": {},
     "output_type": "execute_result"
    }
   ],
   "source": [
    "# capitalize():\n",
    "# TO convert the string first character into uppercase..\n",
    "s1='python programming'\n",
    "s1.capitalize()"
   ]
  },
  {
   "cell_type": "code",
   "execution_count": 53,
   "id": "31a1d85a",
   "metadata": {},
   "outputs": [
    {
     "data": {
      "text/plain": [
       "'python programming'"
      ]
     },
     "execution_count": 53,
     "metadata": {},
     "output_type": "execute_result"
    }
   ],
   "source": [
    "# lower():\n",
    "# To string the string uppercase to lowercase().\n",
    "s1='PYTHON PROGRAMMING'\n",
    "s1.lower()"
   ]
  },
  {
   "cell_type": "code",
   "execution_count": 54,
   "id": "3e7066b5",
   "metadata": {},
   "outputs": [
    {
     "data": {
      "text/plain": [
       "'PYTHON PROGRAMMING'"
      ]
     },
     "execution_count": 54,
     "metadata": {},
     "output_type": "execute_result"
    }
   ],
   "source": [
    "#upper():\n",
    "# To convert the string into uppecase.\n",
    "s1='python programming'\n",
    "s1.upper()"
   ]
  },
  {
   "cell_type": "code",
   "execution_count": 55,
   "id": "c9b1e9cc",
   "metadata": {},
   "outputs": [
    {
     "data": {
      "text/plain": [
       "'Welcome To Apssdc Programs'"
      ]
     },
     "execution_count": 55,
     "metadata": {},
     "output_type": "execute_result"
    }
   ],
   "source": [
    "#title():\n",
    "# To convert the each word frist character into uppercase.\n",
    "s1='welcome to apssdc programs'\n",
    "s1.title()"
   ]
  },
  {
   "cell_type": "code",
   "execution_count": 57,
   "id": "d1be58a1",
   "metadata": {},
   "outputs": [
    {
     "data": {
      "text/plain": [
       "'pythON PROgramming'"
      ]
     },
     "execution_count": 57,
     "metadata": {},
     "output_type": "execute_result"
    }
   ],
   "source": [
    "# swapcase()\n",
    "# To convert the stirng into lower to upper vise versa..\n",
    "s1='PYTHon proGRAMMING'\n",
    "s1.swapcase()"
   ]
  },
  {
   "cell_type": "code",
   "execution_count": null,
   "id": "ba1c3878",
   "metadata": {},
   "outputs": [],
   "source": []
  }
 ],
 "metadata": {
  "kernelspec": {
   "display_name": "Python 3",
   "language": "python",
   "name": "python3"
  },
  "language_info": {
   "codemirror_mode": {
    "name": "ipython",
    "version": 3
   },
   "file_extension": ".py",
   "mimetype": "text/x-python",
   "name": "python",
   "nbconvert_exporter": "python",
   "pygments_lexer": "ipython3",
   "version": "3.8.8"
  }
 },
 "nbformat": 4,
 "nbformat_minor": 5
}
