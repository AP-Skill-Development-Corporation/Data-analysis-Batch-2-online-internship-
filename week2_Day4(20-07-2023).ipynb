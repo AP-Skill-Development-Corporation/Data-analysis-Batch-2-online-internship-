{
 "cells": [
  {
   "cell_type": "markdown",
   "id": "72644508",
   "metadata": {},
   "source": [
    "### programs on diciotnaries:"
   ]
  },
  {
   "cell_type": "code",
   "execution_count": 2,
   "id": "9611027a",
   "metadata": {},
   "outputs": [
    {
     "name": "stdout",
     "output_type": "stream",
     "text": [
      "{'apple': 'APPLE', 'banana': 'BANANA', 'mango': 'MANGO', 'orange': 'ORANGE'}\n"
     ]
    }
   ],
   "source": [
    "L1 = ['apple','banana','mango','orange']\n",
    "# output: {'apple':APPLE,'banana':'BANANA'....}\n",
    "d1 = {}\n",
    "for i in L1:\n",
    "    d1[i]=i.upper()\n",
    "print(d1)"
   ]
  },
  {
   "cell_type": "code",
   "execution_count": 4,
   "id": "c050bcda",
   "metadata": {},
   "outputs": [
    {
     "name": "stdout",
     "output_type": "stream",
     "text": [
      "{10: 2, 20: 2, 30: 2, 40: 1}\n"
     ]
    }
   ],
   "source": [
    "# To print the element frequency from a list?\n",
    "L2 = [10,20,30,10,20,30,40]\n",
    "# output: {10:2,20:2,30:2,40:1}\n",
    "d2={}\n",
    "for i in L2:\n",
    "    d2[i]=L2.count(i)\n",
    "print(d2)"
   ]
  },
  {
   "cell_type": "code",
   "execution_count": 5,
   "id": "81789d9b",
   "metadata": {},
   "outputs": [
    {
     "name": "stdout",
     "output_type": "stream",
     "text": [
      "{'p': 3, 'y': 2, 't': 2, 'h': 2, 'o': 3, 'n': 3, ' ': 2, 'r': 2, 'g': 2, 'a': 1, 'm': 2, 'i': 1}\n"
     ]
    }
   ],
   "source": [
    "#TO print the character frequency of a given string?\n",
    "s=\"python programming python\"\n",
    "# output: {'p':3...}\n",
    "d3={}\n",
    "for i in s:\n",
    "    d3[i]=s.count(i)\n",
    "print(d3)"
   ]
  },
  {
   "cell_type": "code",
   "execution_count": 13,
   "id": "d314e55c",
   "metadata": {},
   "outputs": [
    {
     "name": "stdout",
     "output_type": "stream",
     "text": [
      "{2: 44, 3: 100, 5: 20, 6: 40}\n"
     ]
    }
   ],
   "source": [
    "d1={1:23,2:44,3:100,4:67,5:20,6:40}\n",
    "# To print the only even values items?\n",
    "# output: {2:44,3:100,5:20,6:40}\n",
    "d3 = {}\n",
    "for i,j in d1.items(): # here i->keyname,j->value\n",
    "    if j%2 == 0:\n",
    "        d3.update({i:j})\n",
    "print(d3)"
   ]
  },
  {
   "cell_type": "code",
   "execution_count": 11,
   "id": "1890db18",
   "metadata": {},
   "outputs": [
    {
     "name": "stdout",
     "output_type": "stream",
     "text": [
      "dict_items([(1, 23), (2, 44), (3, 100), (4, 67), (5, 20), (6, 40)])\n",
      "dict_items([(1, 23), (2, 44), (3, 100), (4, 67), (5, 20), (6, 40)])\n",
      "dict_items([(1, 23), (2, 44), (3, 100), (4, 67), (5, 20), (6, 40)])\n",
      "dict_items([(1, 23), (2, 44), (3, 100), (4, 67), (5, 20), (6, 40)])\n"
     ]
    }
   ],
   "source": [
    "for i in d1.values():\n",
    "    if i%2==0:\n",
    "        print(d1.items())"
   ]
  },
  {
   "cell_type": "code",
   "execution_count": 12,
   "id": "479fe170",
   "metadata": {},
   "outputs": [
    {
     "name": "stdout",
     "output_type": "stream",
     "text": [
      "{1: 34, 2: 56, 5: 78, 6: 22}\n"
     ]
    }
   ],
   "source": [
    "d4={1:34,2:56,3:45,4:57,5:78,6:22}\n",
    "l=d4.keys()\n",
    "d5=dict()\n",
    "for i in l:\n",
    "    if(d4[i]%2 ==0):\n",
    "        d5[i]=d4[i]\n",
    "print(d5)"
   ]
  },
  {
   "cell_type": "code",
   "execution_count": 19,
   "id": "bdc6375f",
   "metadata": {},
   "outputs": [
    {
     "name": "stdout",
     "output_type": "stream",
     "text": [
      "{2: 44, 3: 100, 5: 20, 6: 40}\n"
     ]
    }
   ],
   "source": [
    "d1={1:23,2:44,3:100,4:67,5:20,6:40}\n",
    "# To print the only even values items?\n",
    "# output: {2:44,3:100,5:20,6:40}\n",
    "d3={}\n",
    "for i in d1:\n",
    "    if d1[i]%2 == 0:\n",
    "        d3[i]=d1[i]\n",
    "print(d3)"
   ]
  },
  {
   "cell_type": "code",
   "execution_count": 20,
   "id": "532170b8",
   "metadata": {},
   "outputs": [
    {
     "name": "stdout",
     "output_type": "stream",
     "text": [
      "{'Name': ['Nani', 'nethra', 'narmada'], 'Rollno': [510, 234, 410], 'Branch': ['CSE', 'EEE', 'ECE']}\n"
     ]
    }
   ],
   "source": [
    "# TO store the multiple records into a dicitonary?\n",
    "d1 = {'Name':['Nani','nethra','narmada'],\n",
    "      'Rollno':[510,234,410],\n",
    "      'Branch':['CSE','EEE','ECE']}\n",
    "print(d1)"
   ]
  },
  {
   "cell_type": "code",
   "execution_count": 22,
   "id": "6420baa2",
   "metadata": {},
   "outputs": [
    {
     "name": "stdout",
     "output_type": "stream",
     "text": [
      "['Nani', 'nethra', 'narmada']\n",
      "nethra\n"
     ]
    }
   ],
   "source": [
    "# TO print the only names\n",
    "print(d1[\"Name\"])\n",
    "print(d1['Name'][1])"
   ]
  },
  {
   "cell_type": "markdown",
   "id": "f5c19dbe",
   "metadata": {},
   "source": [
    "### sets:\n",
    "- It is a collection different data types.\n",
    "- It is unordered and unindexed set.\n",
    "- By using curly brackets we can write the sets ->{}\n",
    "- It doesn't allow the dupliaction.\n",
    "- It can't access the data from a set.\n",
    "- can't update the set data but we can add the new data."
   ]
  },
  {
   "cell_type": "code",
   "execution_count": 24,
   "id": "bbd2c65b",
   "metadata": {},
   "outputs": [
    {
     "name": "stdout",
     "output_type": "stream",
     "text": [
      "set()\n",
      "<class 'set'>\n"
     ]
    }
   ],
   "source": [
    "# TO create the empty set?\n",
    "s1 = set()\n",
    "print(s1)\n",
    "print(type(s1))"
   ]
  },
  {
   "cell_type": "code",
   "execution_count": 25,
   "id": "fde411a6",
   "metadata": {},
   "outputs": [
    {
     "name": "stdout",
     "output_type": "stream",
     "text": [
      "{40, 10, 20, 30}\n"
     ]
    }
   ],
   "source": [
    "# To store the multiple values to the set?\n",
    "s2 = {10,20,30,10,40,20}\n",
    "print(s2)"
   ]
  },
  {
   "cell_type": "code",
   "execution_count": 27,
   "id": "2715eb8d",
   "metadata": {},
   "outputs": [
    {
     "name": "stdout",
     "output_type": "stream",
     "text": [
      "{40, 10, 20, 30}\n",
      "40 10 20 30 "
     ]
    }
   ],
   "source": [
    "# to print the set values using forloop?\n",
    "print(s2)\n",
    "for i in s2:\n",
    "    print(i,end=\" \")"
   ]
  },
  {
   "cell_type": "code",
   "execution_count": 29,
   "id": "1b990e82",
   "metadata": {},
   "outputs": [
    {
     "name": "stdout",
     "output_type": "stream",
     "text": [
      "[10, 20, 30, 40, 50]\n",
      "{40, 10, 50, 20, 30}\n"
     ]
    }
   ],
   "source": [
    "# TO print the unique elements from alist?\n",
    "L1 = [10,20,10,20,30,10,40,30,50]\n",
    "L2 =[]\n",
    "for i in L1:\n",
    "    if i not in L2:\n",
    "        L2.append(i)\n",
    "print(L2)\n",
    "print(set(L1))"
   ]
  },
  {
   "cell_type": "markdown",
   "id": "3dbc6aa8",
   "metadata": {},
   "source": [
    "- set methods:"
   ]
  },
  {
   "cell_type": "code",
   "execution_count": 30,
   "id": "cd5c4e30",
   "metadata": {},
   "outputs": [
    {
     "name": "stdout",
     "output_type": "stream",
     "text": [
      "['__and__', '__class__', '__contains__', '__delattr__', '__dir__', '__doc__', '__eq__', '__format__', '__ge__', '__getattribute__', '__gt__', '__hash__', '__iand__', '__init__', '__init_subclass__', '__ior__', '__isub__', '__iter__', '__ixor__', '__le__', '__len__', '__lt__', '__ne__', '__new__', '__or__', '__rand__', '__reduce__', '__reduce_ex__', '__repr__', '__ror__', '__rsub__', '__rxor__', '__setattr__', '__sizeof__', '__str__', '__sub__', '__subclasshook__', '__xor__', 'add', 'clear', 'copy', 'difference', 'difference_update', 'discard', 'intersection', 'intersection_update', 'isdisjoint', 'issubset', 'issuperset', 'pop', 'remove', 'symmetric_difference', 'symmetric_difference_update', 'union', 'update']\n"
     ]
    }
   ],
   "source": [
    "# To print the set methods?\n",
    "print(dir(set))"
   ]
  },
  {
   "cell_type": "code",
   "execution_count": 33,
   "id": "0bdfd379",
   "metadata": {},
   "outputs": [
    {
     "name": "stdout",
     "output_type": "stream",
     "text": [
      "{'apssdc', 40, 10, 20, 30}\n",
      "{'apssdc', 40, 10, 20, 30}\n",
      "{'apssdc', 40, 200, 10, 20, 30}\n"
     ]
    }
   ],
   "source": [
    "# add():\n",
    "# TO add the new element to the set.\n",
    "# syntax: set_name.add(element)\n",
    "print(s2)\n",
    "s2.add('apssdc')\n",
    "print(s2)\n",
    "s2.add(200)\n",
    "print(s2)"
   ]
  },
  {
   "cell_type": "code",
   "execution_count": 35,
   "id": "a82a6f92",
   "metadata": {},
   "outputs": [
    {
     "name": "stdout",
     "output_type": "stream",
     "text": [
      "{'apssdc', 40, 200, 10, 20, 30}\n",
      "{34, 'python', 'apssdc', 40, 200, 10, 11, 45.6, 20, 30}\n"
     ]
    }
   ],
   "source": [
    "# update():\n",
    "# To add the multiple elements at a time.\n",
    "# syntax: setname.update([element1,element2...])\n",
    "print(s2)\n",
    "s2.update([11,34,'python',45.6])\n",
    "print(s2)"
   ]
  },
  {
   "cell_type": "code",
   "execution_count": 37,
   "id": "fb625971",
   "metadata": {},
   "outputs": [
    {
     "name": "stdout",
     "output_type": "stream",
     "text": [
      "{34, 'python', 'apssdc', 40, 200, 10, 11, 45.6, 20, 30}\n",
      "{34, 'python', 'apssdc', 40, 200, 10, 11, 45.6, 20, 30}\n"
     ]
    }
   ],
   "source": [
    "# copy ():\n",
    "# To copy the data from one set to another set\n",
    "# syntax: new_setname = old_setname.copy()\n",
    "print(s2)\n",
    "s3 = s2.copy()\n",
    "print(s3)"
   ]
  },
  {
   "cell_type": "code",
   "execution_count": 40,
   "id": "9adec022",
   "metadata": {},
   "outputs": [
    {
     "name": "stdout",
     "output_type": "stream",
     "text": [
      "{34, 'python', 'apssdc', 40, 200, 10, 11, 45.6, 20, 30}\n",
      "{34, 'python', 'apssdc', 40, 10, 11, 45.6, 20, 30}\n"
     ]
    }
   ],
   "source": [
    "# remove():\n",
    "# To remove the element from a set.\n",
    "# syntax: setname.remove(element)\n",
    "print(s2)\n",
    "s2.remove(200)\n",
    "print(s2)"
   ]
  },
  {
   "cell_type": "code",
   "execution_count": 45,
   "id": "f53d743d",
   "metadata": {},
   "outputs": [
    {
     "name": "stdout",
     "output_type": "stream",
     "text": [
      "{34, 'python', 'apssdc', 10, 11, 45.6, 20, 30}\n",
      "{34, 'python', 'apssdc', 10, 11, 45.6, 20, 30}\n",
      "{34, 'python', 'apssdc', 10, 11, 45.6, 20, 30}\n"
     ]
    },
    {
     "ename": "KeyError",
     "evalue": "40",
     "output_type": "error",
     "traceback": [
      "\u001b[1;31m---------------------------------------------------------------------------\u001b[0m",
      "\u001b[1;31mKeyError\u001b[0m                                  Traceback (most recent call last)",
      "\u001b[1;32m<ipython-input-45-c1a1231880d1>\u001b[0m in \u001b[0;36m<module>\u001b[1;34m\u001b[0m\n\u001b[0;32m      6\u001b[0m \u001b[0ms2\u001b[0m\u001b[1;33m.\u001b[0m\u001b[0mdiscard\u001b[0m\u001b[1;33m(\u001b[0m\u001b[1;36m40\u001b[0m\u001b[1;33m)\u001b[0m\u001b[1;33m\u001b[0m\u001b[1;33m\u001b[0m\u001b[0m\n\u001b[0;32m      7\u001b[0m \u001b[0mprint\u001b[0m\u001b[1;33m(\u001b[0m\u001b[0ms2\u001b[0m\u001b[1;33m)\u001b[0m\u001b[1;33m\u001b[0m\u001b[1;33m\u001b[0m\u001b[0m\n\u001b[1;32m----> 8\u001b[1;33m \u001b[0ms2\u001b[0m\u001b[1;33m.\u001b[0m\u001b[0mremove\u001b[0m\u001b[1;33m(\u001b[0m\u001b[1;36m40\u001b[0m\u001b[1;33m)\u001b[0m\u001b[1;33m\u001b[0m\u001b[1;33m\u001b[0m\u001b[0m\n\u001b[0m\u001b[0;32m      9\u001b[0m \u001b[0mprint\u001b[0m\u001b[1;33m(\u001b[0m\u001b[0ms2\u001b[0m\u001b[1;33m)\u001b[0m\u001b[1;33m\u001b[0m\u001b[1;33m\u001b[0m\u001b[0m\n",
      "\u001b[1;31mKeyError\u001b[0m: 40"
     ]
    }
   ],
   "source": [
    "# discard():\n",
    "# setname.discard(element)\n",
    "print(s2)\n",
    "s2.discard(40)\n",
    "print(s2)\n",
    "s2.discard(40)\n",
    "print(s2)\n",
    "s2.remove(40)\n",
    "print(s2)"
   ]
  },
  {
   "cell_type": "code",
   "execution_count": 49,
   "id": "f0709577",
   "metadata": {},
   "outputs": [
    {
     "name": "stdout",
     "output_type": "stream",
     "text": [
      "{'python', 'apssdc', 10, 11, 45.6, 20, 30}\n",
      "{'apssdc', 10, 11, 45.6, 20, 30}\n",
      "{10, 11, 45.6, 20, 30}\n"
     ]
    }
   ],
   "source": [
    "# pop():\n",
    "# It delete the first elemet from a set.\n",
    "# syntax: setname.pop()\n",
    "print(s2)\n",
    "s2.pop()\n",
    "print(s2)\n",
    "s2.pop()\n",
    "print(s2)"
   ]
  },
  {
   "cell_type": "code",
   "execution_count": 52,
   "id": "9dc68358",
   "metadata": {},
   "outputs": [
    {
     "name": "stdout",
     "output_type": "stream",
     "text": [
      "{'c', 1, 2, 3, 'a', 'b'}\n"
     ]
    }
   ],
   "source": [
    "# union():\n",
    "# a set that contains all items from both sets.\n",
    "s1={1,2,3}\n",
    "s2={'a','b','c',1}\n",
    "s3 = s1.union(s2)\n",
    "print(s3)"
   ]
  },
  {
   "cell_type": "code",
   "execution_count": 53,
   "id": "24daf77e",
   "metadata": {},
   "outputs": [
    {
     "name": "stdout",
     "output_type": "stream",
     "text": [
      "{'banana', 'mango'}\n"
     ]
    }
   ],
   "source": [
    "# intersection_update():\n",
    "# The items that are present in both set.\n",
    "x = {'apple','mango','banana'}\n",
    "Y = {'srit','mango','VVit','banana'}\n",
    "x.intersection_update(Y)\n",
    "print(x)"
   ]
  },
  {
   "cell_type": "code",
   "execution_count": null,
   "id": "f4b83152",
   "metadata": {},
   "outputs": [],
   "source": []
  }
 ],
 "metadata": {
  "kernelspec": {
   "display_name": "Python 3",
   "language": "python",
   "name": "python3"
  },
  "language_info": {
   "codemirror_mode": {
    "name": "ipython",
    "version": 3
   },
   "file_extension": ".py",
   "mimetype": "text/x-python",
   "name": "python",
   "nbconvert_exporter": "python",
   "pygments_lexer": "ipython3",
   "version": "3.8.8"
  }
 },
 "nbformat": 4,
 "nbformat_minor": 5
}
