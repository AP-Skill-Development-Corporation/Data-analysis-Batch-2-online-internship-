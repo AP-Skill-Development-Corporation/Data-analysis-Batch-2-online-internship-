{
 "cells": [
  {
   "cell_type": "markdown",
   "id": "52d939b8",
   "metadata": {},
   "source": [
    "### Tuple:\n",
    "- It is collection of different data types in a single variable.\n",
    "- By using round brackets we can write the tuple i.e, ()\n",
    "- tuple is immutable(can't changable)\n",
    "- tuple index starts from 0 to size-1.\n",
    "- To create the empty tuple.-> tuple()\n",
    "- To access the tuple values based on index position."
   ]
  },
  {
   "cell_type": "code",
   "execution_count": 2,
   "id": "f4e45ab4",
   "metadata": {},
   "outputs": [
    {
     "name": "stdout",
     "output_type": "stream",
     "text": [
      "()\n",
      "<class 'tuple'>\n"
     ]
    }
   ],
   "source": [
    "# To create the empty tuple..\n",
    "t1 = tuple()\n",
    "print(t1)\n",
    "print(type(t1))"
   ]
  },
  {
   "cell_type": "code",
   "execution_count": 3,
   "id": "9d0e3280",
   "metadata": {},
   "outputs": [
    {
     "name": "stdout",
     "output_type": "stream",
     "text": [
      "(10, 20, 'apssdc', 45.6, 50)\n"
     ]
    }
   ],
   "source": [
    "# To store the multiple data into a tuple..\n",
    "t1 =(10,20,'apssdc',45.6,50)\n",
    "print(t1)"
   ]
  },
  {
   "cell_type": "code",
   "execution_count": 6,
   "id": "b92d1edd",
   "metadata": {},
   "outputs": [
    {
     "name": "stdout",
     "output_type": "stream",
     "text": [
      "(100,)\n",
      "<class 'tuple'>\n"
     ]
    }
   ],
   "source": [
    "# To store the single data into a tuple?\n",
    "t2=(100,)\n",
    "print(t2)\n",
    "print(type(t2))"
   ]
  },
  {
   "cell_type": "code",
   "execution_count": 12,
   "id": "49367988",
   "metadata": {},
   "outputs": [
    {
     "name": "stdout",
     "output_type": "stream",
     "text": [
      "(10, 20, 30, 'apssdc', 45.6, 80)\n",
      "30\n",
      "(80, 45.6, 'apssdc', 30, 20, 10)\n",
      "apssdc\n",
      "(10, 30, 45.6)\n"
     ]
    }
   ],
   "source": [
    "# TO access the tuple values\n",
    "# indexing and slicing\n",
    "t3 = (10,20,30,'apssdc',45.6,80)\n",
    "print(t3)\n",
    "print(t3[2])\n",
    "print(t3[::-1])\n",
    "print(t3[-3])\n",
    "print(t3[::2]) # To print the alternative elements"
   ]
  },
  {
   "cell_type": "code",
   "execution_count": 14,
   "id": "87c8b75f",
   "metadata": {},
   "outputs": [
    {
     "name": "stdout",
     "output_type": "stream",
     "text": [
      "10 20 30 apssdc 45.6 80 "
     ]
    }
   ],
   "source": [
    "# using forloop to print the tuple values.\n",
    "for i in t3:\n",
    "    print(i,end=\" \")"
   ]
  },
  {
   "cell_type": "code",
   "execution_count": 15,
   "id": "f2d11adc",
   "metadata": {},
   "outputs": [
    {
     "name": "stdout",
     "output_type": "stream",
     "text": [
      "6\n"
     ]
    }
   ],
   "source": [
    "# TO print the tuple length?\n",
    "print(len(t3))"
   ]
  },
  {
   "cell_type": "code",
   "execution_count": 16,
   "id": "95e13dab",
   "metadata": {},
   "outputs": [
    {
     "name": "stdout",
     "output_type": "stream",
     "text": [
      "['__add__', '__class__', '__contains__', '__delattr__', '__dir__', '__doc__', '__eq__', '__format__', '__ge__', '__getattribute__', '__getitem__', '__getnewargs__', '__gt__', '__hash__', '__init__', '__init_subclass__', '__iter__', '__le__', '__len__', '__lt__', '__mul__', '__ne__', '__new__', '__reduce__', '__reduce_ex__', '__repr__', '__rmul__', '__setattr__', '__sizeof__', '__str__', '__subclasshook__', 'count', 'index']\n"
     ]
    }
   ],
   "source": [
    "# tuple methods:\n",
    "print(dir(tuple))"
   ]
  },
  {
   "cell_type": "code",
   "execution_count": 23,
   "id": "d834b3b8",
   "metadata": {},
   "outputs": [
    {
     "name": "stdout",
     "output_type": "stream",
     "text": [
      "[10, 20, 'python', 'apssdc', 45.6, 80]\n",
      "[10, 20, 'python', 'apssdc', 45.6, 80]\n",
      "[10, 20, 'python', 'apssdc', 45.6, 80]\n",
      "(10, 20, 'python', 'apssdc', 45.6, 80)\n"
     ]
    }
   ],
   "source": [
    "# To update the tuple element?\n",
    "print(t3)\n",
    "# step1: need to convert the tuple into list\n",
    "t3 = list(t3)\n",
    "print(t3)\n",
    "t3[2]='python'\n",
    "print(t3)\n",
    "# step2 : need to convert the list into tuple()\n",
    "t3 = tuple(t3)\n",
    "print(t3)"
   ]
  },
  {
   "cell_type": "code",
   "execution_count": 25,
   "id": "19fa29ac",
   "metadata": {
    "collapsed": true
   },
   "outputs": [
    {
     "name": "stdout",
     "output_type": "stream",
     "text": [
      "(10, 20, 'python', 'apssdc', 45.6, 80)\n",
      "1\n"
     ]
    }
   ],
   "source": [
    "# count():\n",
    "print(t3)\n",
    "print(t3.count(20))"
   ]
  },
  {
   "cell_type": "code",
   "execution_count": 27,
   "id": "784edf41",
   "metadata": {
    "collapsed": true
   },
   "outputs": [
    {
     "name": "stdout",
     "output_type": "stream",
     "text": [
      "(10, 20, 'python', 'apssdc', 45.6, 80)\n",
      "3\n"
     ]
    }
   ],
   "source": [
    "#index():\n",
    "print(t3)\n",
    "print(t3.index('apssdc'))"
   ]
  },
  {
   "cell_type": "markdown",
   "id": "6ca34222",
   "metadata": {},
   "source": [
    "### Dicitonary:\n",
    "- It is collection different data type in the form of keys and value pairs.\n",
    "- By using curly brackets we can write the diciotnary.\n",
    "- Here keynames are unique, means dupliaction keynames are not allowed.\n",
    "- It is unordered data structure.\n",
    "- By using keyname we can access the diciotnary of data.\n",
    "- Here keyname:value means it is one item-> ex: {keyname:value}\n",
    "- To create the empty diciotnary, using dict() method."
   ]
  },
  {
   "cell_type": "code",
   "execution_count": 28,
   "id": "95dd8315",
   "metadata": {},
   "outputs": [
    {
     "name": "stdout",
     "output_type": "stream",
     "text": [
      "{}\n",
      "<class 'dict'>\n"
     ]
    }
   ],
   "source": [
    "# TO create the empty diciotnary..\n",
    "d1 = dict()\n",
    "print(d1)\n",
    "print(type(d1))"
   ]
  },
  {
   "cell_type": "code",
   "execution_count": 30,
   "id": "6bb4bc85",
   "metadata": {},
   "outputs": [
    {
     "name": "stdout",
     "output_type": "stream",
     "text": [
      "{'Name': 'aadyan', 'Rno': 510, 'Branch': 'Cse'}\n",
      "<class 'dict'>\n"
     ]
    }
   ],
   "source": [
    "# To create the diciotnary with some data.\n",
    "d2 = {'Name':'aadyan','Rno':510,'Branch':'Cse'}\n",
    "print(d2)\n",
    "print(type(d2))"
   ]
  },
  {
   "cell_type": "code",
   "execution_count": 31,
   "id": "20247144",
   "metadata": {},
   "outputs": [
    {
     "name": "stdout",
     "output_type": "stream",
     "text": [
      "{'Name': 'aadyan', 'Rno': 534}\n"
     ]
    }
   ],
   "source": [
    "d3 ={'Name':'ganesh','Rno':534,'Name':'aadyan'}\n",
    "# duplication keynames are not allowed.\n",
    "print(d3)"
   ]
  },
  {
   "cell_type": "code",
   "execution_count": 34,
   "id": "56d3c0ad",
   "metadata": {},
   "outputs": [
    {
     "name": "stdout",
     "output_type": "stream",
     "text": [
      "{'Name': 'aadyan', 'Rno': 423, 'Branch': 'Cse'}\n",
      "{'Name': 'aadyan', 'Rno': 423, 'Branch': 'Cse'}\n",
      "{'Name': 'aadyan', 'Rno': 423, 'Branch': 'Cse', 'Marks': 67}\n"
     ]
    }
   ],
   "source": [
    "# To update the dicitonary of data..\n",
    "print(d2)\n",
    "d2['Rno']=423\n",
    "print(d2)\n",
    "d2['Marks']=67\n",
    "print(d2)"
   ]
  },
  {
   "cell_type": "code",
   "execution_count": 37,
   "id": "b916c053",
   "metadata": {},
   "outputs": [
    {
     "name": "stdout",
     "output_type": "stream",
     "text": [
      "{'Name': 'aadyan', 'Rno': 423, 'Branch': 'Cse', 'Marks': 67}\n",
      "Cse aadyan\n"
     ]
    }
   ],
   "source": [
    "# To access the diciotnary of data using keyname..\n",
    "print(d2)\n",
    "print(d2['Branch'],d2['Name'])"
   ]
  },
  {
   "cell_type": "markdown",
   "id": "f167c736",
   "metadata": {},
   "source": [
    "### dictionary methods:"
   ]
  },
  {
   "cell_type": "code",
   "execution_count": 38,
   "id": "57000f42",
   "metadata": {},
   "outputs": [
    {
     "name": "stdout",
     "output_type": "stream",
     "text": [
      "['__class__', '__contains__', '__delattr__', '__delitem__', '__dir__', '__doc__', '__eq__', '__format__', '__ge__', '__getattribute__', '__getitem__', '__gt__', '__hash__', '__init__', '__init_subclass__', '__iter__', '__le__', '__len__', '__lt__', '__ne__', '__new__', '__reduce__', '__reduce_ex__', '__repr__', '__reversed__', '__setattr__', '__setitem__', '__sizeof__', '__str__', '__subclasshook__', 'clear', 'copy', 'fromkeys', 'get', 'items', 'keys', 'pop', 'popitem', 'setdefault', 'update', 'values']\n"
     ]
    }
   ],
   "source": [
    "print(dir(dict))"
   ]
  },
  {
   "cell_type": "code",
   "execution_count": 40,
   "id": "37b5def7",
   "metadata": {},
   "outputs": [
    {
     "name": "stdout",
     "output_type": "stream",
     "text": [
      "{'Name': 'aadyan', 'Rno': 423, 'Branch': 'Cse', 'Marks': 67}\n",
      "67\n"
     ]
    }
   ],
   "source": [
    "# get():\n",
    "# To print the value from a dictionary using keyname.\n",
    "# syntax: dictname.get(keyname)\n",
    "print(d2)\n",
    "print(d2.get('Marks'))"
   ]
  },
  {
   "cell_type": "code",
   "execution_count": 41,
   "id": "d7a55af7",
   "metadata": {},
   "outputs": [
    {
     "name": "stdout",
     "output_type": "stream",
     "text": [
      "dict_keys(['Name', 'Rno', 'Branch', 'Marks'])\n"
     ]
    }
   ],
   "source": [
    "# keys():\n",
    "# To print the all keynames from a diciotnary, in the format list.\n",
    "# syntax: dictname.keys()\n",
    "print(d2.keys())"
   ]
  },
  {
   "cell_type": "code",
   "execution_count": 42,
   "id": "239fdec6",
   "metadata": {},
   "outputs": [
    {
     "name": "stdout",
     "output_type": "stream",
     "text": [
      "dict_values(['aadyan', 423, 'Cse', 67])\n"
     ]
    }
   ],
   "source": [
    "# values():\n",
    "# It returns a list of all the values in the diciotnary.\n",
    "# syntax: dictname.values()\n",
    "print(d2.values())"
   ]
  },
  {
   "cell_type": "code",
   "execution_count": 43,
   "id": "a180f6db",
   "metadata": {},
   "outputs": [
    {
     "name": "stdout",
     "output_type": "stream",
     "text": [
      "dict_items([('Name', 'aadyan'), ('Rno', 423), ('Branch', 'Cse'), ('Marks', 67)])\n"
     ]
    }
   ],
   "source": [
    "# items():\n",
    "# It returns the list containing a tuple for each key value pair.\n",
    "print(d2.items())"
   ]
  },
  {
   "cell_type": "code",
   "execution_count": 45,
   "id": "73c4a142",
   "metadata": {},
   "outputs": [
    {
     "name": "stdout",
     "output_type": "stream",
     "text": [
      "{'Name': 'aadyan', 'Rno': 423, 'Branch': 'Cse', 'Marks': 67}\n",
      "{'Name': 'aadyan', 'Rno': 423, 'Branch': 'Cse', 'Marks': 67}\n"
     ]
    }
   ],
   "source": [
    "# copy():\n",
    "# To copy the data from one diciotnary to another diciotnary.\n",
    "print(d2)\n",
    "d5 = d2.copy()\n",
    "print(d5)"
   ]
  },
  {
   "cell_type": "code",
   "execution_count": 48,
   "id": "c9e5de55",
   "metadata": {},
   "outputs": [
    {
     "name": "stdout",
     "output_type": "stream",
     "text": [
      "{'Name': 'aadyan', 'Rno': 423, 'Branch': 'Cse', 'Marks': 67, 'course': 'Data Analysis'}\n",
      "{'Name': 'aadyan', 'Rno': 423, 'Branch': 'Cse', 'Marks': 67, 'course': 'Data Analysis'}\n"
     ]
    }
   ],
   "source": [
    "#update():\n",
    "# To add the new item to the diciotnary.\n",
    "# syntaX: dictname.update({'keyname':'value'})\n",
    "print(d2)\n",
    "d2.update({'course':'Data Analysis'})\n",
    "print(d2)"
   ]
  },
  {
   "cell_type": "code",
   "execution_count": 58,
   "id": "9358dc12",
   "metadata": {},
   "outputs": [
    {
     "name": "stdout",
     "output_type": "stream",
     "text": [
      "Cse\n",
      "{'Name': 'aadyan', 'Rno': 423, 'Branch': 'Cse', 'Marks': 67}\n"
     ]
    }
   ],
   "source": [
    "# setdefault():\n",
    "# To update the data into a diciotnary.\n",
    "# syntax: dicname.setdefault('keyname','value')\n",
    "print(d2)\n",
    "# To update the branch\n",
    "print(d5)"
   ]
  },
  {
   "cell_type": "code",
   "execution_count": 61,
   "id": "0f8a30ab",
   "metadata": {},
   "outputs": [
    {
     "name": "stdout",
     "output_type": "stream",
     "text": [
      "67\n"
     ]
    }
   ],
   "source": [
    "print(d5.setdefault('Marks',100))"
   ]
  },
  {
   "cell_type": "code",
   "execution_count": 63,
   "id": "7818c3f9",
   "metadata": {},
   "outputs": [
    {
     "name": "stdout",
     "output_type": "stream",
     "text": [
      "{'Name': 'aadyan', 'Rno': 423, 'Branch': 'Cse', 'Marks': 67}\n",
      "pink\n"
     ]
    }
   ],
   "source": [
    "print(d5)\n",
    "print(d5.setdefault('color','pink'))"
   ]
  },
  {
   "cell_type": "code",
   "execution_count": 64,
   "id": "0a000dd3",
   "metadata": {},
   "outputs": [
    {
     "name": "stdout",
     "output_type": "stream",
     "text": [
      "{'Name': 'aadyan', 'Rno': 423, 'Branch': 'Cse', 'Marks': 67, 'color': 'pink'}\n"
     ]
    }
   ],
   "source": [
    "print(d5)"
   ]
  },
  {
   "cell_type": "code",
   "execution_count": 68,
   "id": "94a1f3d2",
   "metadata": {},
   "outputs": [
    {
     "name": "stdout",
     "output_type": "stream",
     "text": [
      "423\n"
     ]
    }
   ],
   "source": [
    "d1 = d5.setdefault('Rno')\n",
    "print(d1)"
   ]
  },
  {
   "cell_type": "code",
   "execution_count": 67,
   "id": "067c7659",
   "metadata": {},
   "outputs": [
    {
     "data": {
      "text/plain": [
       "{'Name': 'aadyan', 'Rno': 423, 'Branch': 'Cse', 'Marks': 67, 'color': 'pink'}"
      ]
     },
     "execution_count": 67,
     "metadata": {},
     "output_type": "execute_result"
    }
   ],
   "source": [
    "d5"
   ]
  },
  {
   "cell_type": "code",
   "execution_count": 69,
   "id": "235b1816",
   "metadata": {},
   "outputs": [
    {
     "data": {
      "text/plain": [
       "{'Name': 'aadyan', 'Rno': 423, 'Branch': 'EEE', 'Marks': 67, 'color': 'pink'}"
      ]
     },
     "execution_count": 69,
     "metadata": {},
     "output_type": "execute_result"
    }
   ],
   "source": [
    "d5.update({'Branch':'EEE'})\n",
    "d5"
   ]
  },
  {
   "cell_type": "code",
   "execution_count": 71,
   "id": "9a2d34bd",
   "metadata": {},
   "outputs": [
    {
     "name": "stdout",
     "output_type": "stream",
     "text": [
      "{'Name': 'aadyan', 'Rno': 423, 'Branch': 'EEE', 'Marks': 67, 'color': 'pink'}\n",
      "{'Name': 'aadyan', 'Branch': 'EEE', 'Marks': 67, 'color': 'pink'}\n"
     ]
    }
   ],
   "source": [
    "#pop():\n",
    "# TO delete the item with specific keyname.\n",
    "# synatx: dictname.pop('keyname')\n",
    "print(d5)\n",
    "d5.pop('Rno')\n",
    "print(d5)"
   ]
  },
  {
   "cell_type": "code",
   "execution_count": 73,
   "id": "10d7ce03",
   "metadata": {},
   "outputs": [
    {
     "name": "stdout",
     "output_type": "stream",
     "text": [
      "{'Name': 'aadyan', 'Branch': 'EEE', 'Marks': 67, 'color': 'pink'}\n",
      "{'Name': 'aadyan', 'Branch': 'EEE', 'Marks': 67}\n"
     ]
    }
   ],
   "source": [
    "# popitem():\n",
    "# TO delete the last item from a dicitonary..\n",
    "# syntax: dictname.popitem()\n",
    "print(d5)\n",
    "d5.popitem()\n",
    "print(d5)"
   ]
  },
  {
   "cell_type": "code",
   "execution_count": 74,
   "id": "edde62e0",
   "metadata": {},
   "outputs": [
    {
     "name": "stdout",
     "output_type": "stream",
     "text": [
      "{'Name': None, 'Age': None, 'Aadhar': None, 'District': None}\n"
     ]
    }
   ],
   "source": [
    "# fromkeys():\n",
    "# To create the new diciotnary with keynames.\n",
    "# syntax: dict.fromkeys(['keyname1','keyname2'...])\n",
    "d4 = dict.fromkeys(['Name','Age','Aadhar','District'])\n",
    "print(d4)"
   ]
  },
  {
   "cell_type": "code",
   "execution_count": 75,
   "id": "b7fd3b84",
   "metadata": {},
   "outputs": [
    {
     "data": {
      "text/plain": [
       "{'Name': 'krishna', 'Age': None, 'Aadhar': None, 'District': None}"
      ]
     },
     "execution_count": 75,
     "metadata": {},
     "output_type": "execute_result"
    }
   ],
   "source": [
    "d4['Name']='krishna'\n",
    "d4"
   ]
  },
  {
   "cell_type": "code",
   "execution_count": 77,
   "id": "a310dcd8",
   "metadata": {},
   "outputs": [
    {
     "name": "stdout",
     "output_type": "stream",
     "text": [
      "{'Name': 'aadyan', 'Branch': 'EEE', 'Marks': 67}\n",
      "{}\n"
     ]
    }
   ],
   "source": [
    "# clear()\n",
    "# it returns the empty diciotnary\n",
    "print(d5)\n",
    "d5.clear()\n",
    "print(d5)"
   ]
  },
  {
   "cell_type": "code",
   "execution_count": null,
   "id": "84546ac8",
   "metadata": {},
   "outputs": [],
   "source": []
  },
  {
   "cell_type": "code",
   "execution_count": null,
   "id": "e50fc48b",
   "metadata": {},
   "outputs": [],
   "source": []
  }
 ],
 "metadata": {
  "kernelspec": {
   "display_name": "Python 3",
   "language": "python",
   "name": "python3"
  },
  "language_info": {
   "codemirror_mode": {
    "name": "ipython",
    "version": 3
   },
   "file_extension": ".py",
   "mimetype": "text/x-python",
   "name": "python",
   "nbconvert_exporter": "python",
   "pygments_lexer": "ipython3",
   "version": "3.8.8"
  }
 },
 "nbformat": 4,
 "nbformat_minor": 5
}
