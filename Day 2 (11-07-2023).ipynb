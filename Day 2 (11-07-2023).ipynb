{
 "cells": [
  {
   "cell_type": "markdown",
   "id": "4f59c00b",
   "metadata": {},
   "source": [
    "### ipynb -> Interactive python notebook\n",
    "\n",
    "* esc+ m -> to  convert coding cell into markdown cell\n",
    "* esc+ y -> to convert markdown cell into coding cell"
   ]
  },
  {
   "cell_type": "code",
   "execution_count": 2,
   "id": "c2997d99",
   "metadata": {},
   "outputs": [
    {
     "name": "stdout",
     "output_type": "stream",
     "text": [
      "enter a value:78\n"
     ]
    }
   ],
   "source": [
    "a=input(\"enter a value:\")"
   ]
  },
  {
   "cell_type": "code",
   "execution_count": 3,
   "id": "fb778ac0",
   "metadata": {},
   "outputs": [
    {
     "data": {
      "text/plain": [
       "str"
      ]
     },
     "execution_count": 3,
     "metadata": {},
     "output_type": "execute_result"
    }
   ],
   "source": [
    "type(a)   "
   ]
  },
  {
   "cell_type": "code",
   "execution_count": 4,
   "id": "960b4d17",
   "metadata": {},
   "outputs": [
    {
     "name": "stdout",
     "output_type": "stream",
     "text": [
      "enter a value:45\n"
     ]
    }
   ],
   "source": [
    "b=int(input(\"enter a value:\"))"
   ]
  },
  {
   "cell_type": "code",
   "execution_count": 5,
   "id": "f7d25290",
   "metadata": {},
   "outputs": [
    {
     "name": "stdout",
     "output_type": "stream",
     "text": [
      "45\n",
      "<class 'int'>\n"
     ]
    }
   ],
   "source": [
    "print(b)\n",
    "print(type(b))"
   ]
  },
  {
   "cell_type": "markdown",
   "id": "d79a82d3",
   "metadata": {},
   "source": [
    "### data types \n",
    "    * int,float,string,complex\n",
    "    \n",
    "### Variable\n",
    "    * name given to memory location to hold data of any type"
   ]
  },
  {
   "cell_type": "code",
   "execution_count": 6,
   "id": "45907c41",
   "metadata": {},
   "outputs": [
    {
     "name": "stdout",
     "output_type": "stream",
     "text": [
      "89\n",
      "<class 'int'>\n"
     ]
    }
   ],
   "source": [
    "a=89      # dynamic typed\n",
    "print(a)\n",
    "print(type(a))"
   ]
  },
  {
   "cell_type": "code",
   "execution_count": 7,
   "id": "b37b3c6d",
   "metadata": {},
   "outputs": [
    {
     "name": "stdout",
     "output_type": "stream",
     "text": [
      "90.8\n",
      "<class 'float'>\n"
     ]
    }
   ],
   "source": [
    "b=90.8\n",
    "print(b)\n",
    "print(type(b))"
   ]
  },
  {
   "cell_type": "code",
   "execution_count": 9,
   "id": "b870335e",
   "metadata": {},
   "outputs": [
    {
     "name": "stdout",
     "output_type": "stream",
     "text": [
      "<class 'str'>\n",
      "<class 'str'>\n"
     ]
    }
   ],
   "source": [
    "name='shiva'\n",
    "dept=\"CSE\"\n",
    "\n",
    "print(type(name))\n",
    "print(type(dept))"
   ]
  },
  {
   "cell_type": "code",
   "execution_count": 10,
   "id": "004c5a85",
   "metadata": {},
   "outputs": [
    {
     "data": {
      "text/plain": [
       "complex"
      ]
     },
     "execution_count": 10,
     "metadata": {},
     "output_type": "execute_result"
    }
   ],
   "source": [
    "d=1+9j\n",
    "type(d)"
   ]
  },
  {
   "cell_type": "markdown",
   "id": "2727ca8a",
   "metadata": {},
   "source": [
    "* list,tuple,dictionaries,sets"
   ]
  },
  {
   "cell_type": "markdown",
   "id": "e86d0abd",
   "metadata": {},
   "source": [
    "### operators\n",
    "\n",
    "* Arithmetic operators\n",
    "* logical operators\n",
    "* comparison operators\n",
    "* assignment operators\n",
    "* bitwise operators\n",
    "* identity operators\n",
    "* membership operators"
   ]
  },
  {
   "cell_type": "markdown",
   "id": "c093967e",
   "metadata": {},
   "source": [
    "### Arithmetic operators (+,-,/,*,//,%,**)"
   ]
  },
  {
   "cell_type": "code",
   "execution_count": 17,
   "id": "1855bb8e",
   "metadata": {
    "collapsed": true
   },
   "outputs": [
    {
     "name": "stdout",
     "output_type": "stream",
     "text": [
      "100\n",
      "80\n",
      "900\n",
      "0.1111111111111111\n",
      "0\n",
      "10\n",
      "8\n"
     ]
    }
   ],
   "source": [
    "a=10\n",
    "b=90\n",
    "print(a+b)\n",
    "print(b-a)\n",
    "print(a*b)\n",
    "print(a/b)  \n",
    "print(a//b)  # floor division\n",
    "print(a%b)\n",
    "print(2**3)"
   ]
  },
  {
   "cell_type": "markdown",
   "id": "66d6ef70",
   "metadata": {},
   "source": [
    "### Logical operators -> and, or,not"
   ]
  },
  {
   "cell_type": "code",
   "execution_count": 18,
   "id": "66c2f733",
   "metadata": {},
   "outputs": [
    {
     "data": {
      "text/plain": [
       "True"
      ]
     },
     "execution_count": 18,
     "metadata": {},
     "output_type": "execute_result"
    }
   ],
   "source": [
    "# and -> returns true when both statements are true\n",
    "\n",
    "a=90\n",
    "a>10 and a<100   "
   ]
  },
  {
   "cell_type": "code",
   "execution_count": 19,
   "id": "5936ad79",
   "metadata": {},
   "outputs": [
    {
     "data": {
      "text/plain": [
       "True"
      ]
     },
     "execution_count": 19,
     "metadata": {},
     "output_type": "execute_result"
    }
   ],
   "source": [
    "# or  -> returns true if one of the  statement is true\n",
    "\n",
    "a>20 or a<70  # true or false"
   ]
  },
  {
   "cell_type": "code",
   "execution_count": 20,
   "id": "3b92dffd",
   "metadata": {},
   "outputs": [
    {
     "data": {
      "text/plain": [
       "True"
      ]
     },
     "execution_count": 20,
     "metadata": {},
     "output_type": "execute_result"
    }
   ],
   "source": [
    "# not -> reverse the result ,returns false if the result is true and vice versa\n",
    "\n",
    "b=100\n",
    "b>90"
   ]
  },
  {
   "cell_type": "code",
   "execution_count": 21,
   "id": "189e61a5",
   "metadata": {},
   "outputs": [
    {
     "data": {
      "text/plain": [
       "False"
      ]
     },
     "execution_count": 21,
     "metadata": {},
     "output_type": "execute_result"
    }
   ],
   "source": [
    "not(b>90)"
   ]
  },
  {
   "cell_type": "markdown",
   "id": "47879c1d",
   "metadata": {},
   "source": [
    "### Comparison operators ==,!=,>,<,>=,<="
   ]
  },
  {
   "cell_type": "code",
   "execution_count": 22,
   "id": "8b110c06",
   "metadata": {},
   "outputs": [
    {
     "data": {
      "text/plain": [
       "True"
      ]
     },
     "execution_count": 22,
     "metadata": {},
     "output_type": "execute_result"
    }
   ],
   "source": [
    "x=90\n",
    "y=89\n",
    "x>y"
   ]
  },
  {
   "cell_type": "code",
   "execution_count": 23,
   "id": "924033c4",
   "metadata": {},
   "outputs": [
    {
     "data": {
      "text/plain": [
       "False"
      ]
     },
     "execution_count": 23,
     "metadata": {},
     "output_type": "execute_result"
    }
   ],
   "source": [
    "x<y"
   ]
  },
  {
   "cell_type": "code",
   "execution_count": 24,
   "id": "dc4ded9a",
   "metadata": {},
   "outputs": [
    {
     "data": {
      "text/plain": [
       "False"
      ]
     },
     "execution_count": 24,
     "metadata": {},
     "output_type": "execute_result"
    }
   ],
   "source": [
    "x==y"
   ]
  },
  {
   "cell_type": "code",
   "execution_count": 25,
   "id": "8117b64b",
   "metadata": {},
   "outputs": [
    {
     "data": {
      "text/plain": [
       "True"
      ]
     },
     "execution_count": 25,
     "metadata": {},
     "output_type": "execute_result"
    }
   ],
   "source": [
    "x!=y"
   ]
  },
  {
   "cell_type": "code",
   "execution_count": 26,
   "id": "bbffe2cd",
   "metadata": {},
   "outputs": [
    {
     "data": {
      "text/plain": [
       "True"
      ]
     },
     "execution_count": 26,
     "metadata": {},
     "output_type": "execute_result"
    }
   ],
   "source": [
    "x=90\n",
    "y=89\n",
    "x>=y"
   ]
  },
  {
   "cell_type": "code",
   "execution_count": 29,
   "id": "ca6f39d9",
   "metadata": {},
   "outputs": [
    {
     "data": {
      "text/plain": [
       "True"
      ]
     },
     "execution_count": 29,
     "metadata": {},
     "output_type": "execute_result"
    }
   ],
   "source": [
    "x=67\n",
    "y=90\n",
    "x<=y"
   ]
  },
  {
   "cell_type": "code",
   "execution_count": 30,
   "id": "e95cd4ce",
   "metadata": {},
   "outputs": [
    {
     "data": {
      "text/plain": [
       "True"
      ]
     },
     "execution_count": 30,
     "metadata": {},
     "output_type": "execute_result"
    }
   ],
   "source": [
    "x=67\n",
    "y=67\n",
    "x<=y"
   ]
  },
  {
   "cell_type": "markdown",
   "id": "87204767",
   "metadata": {},
   "source": [
    "### Identity operators  \n",
    "* to tests 2 operands shares an identity\n",
    "* is ,is not"
   ]
  },
  {
   "cell_type": "code",
   "execution_count": 31,
   "id": "caba1939",
   "metadata": {},
   "outputs": [
    {
     "name": "stderr",
     "output_type": "stream",
     "text": [
      "<>:2: SyntaxWarning: \"is\" with a literal. Did you mean \"==\"?\n",
      "<>:2: SyntaxWarning: \"is\" with a literal. Did you mean \"==\"?\n",
      "C:\\Users\\meena\\AppData\\Local\\Temp\\ipykernel_12720\\1855993152.py:2: SyntaxWarning: \"is\" with a literal. Did you mean \"==\"?\n",
      "  x is 90\n"
     ]
    },
    {
     "data": {
      "text/plain": [
       "True"
      ]
     },
     "execution_count": 31,
     "metadata": {},
     "output_type": "execute_result"
    }
   ],
   "source": [
    "x=90\n",
    "x is 90"
   ]
  },
  {
   "cell_type": "code",
   "execution_count": 32,
   "id": "6322af11",
   "metadata": {},
   "outputs": [
    {
     "name": "stderr",
     "output_type": "stream",
     "text": [
      "<>:1: SyntaxWarning: \"is not\" with a literal. Did you mean \"!=\"?\n",
      "<>:1: SyntaxWarning: \"is not\" with a literal. Did you mean \"!=\"?\n",
      "C:\\Users\\meena\\AppData\\Local\\Temp\\ipykernel_12720\\773863451.py:1: SyntaxWarning: \"is not\" with a literal. Did you mean \"!=\"?\n",
      "  x is not 90\n"
     ]
    },
    {
     "data": {
      "text/plain": [
       "False"
      ]
     },
     "execution_count": 32,
     "metadata": {},
     "output_type": "execute_result"
    }
   ],
   "source": [
    "x is not 90"
   ]
  },
  {
   "cell_type": "markdown",
   "id": "8ea8e7a4",
   "metadata": {},
   "source": [
    "### Membership operator \n",
    "* tests whether a value is in the given sequence or not\n",
    "* in , not in"
   ]
  },
  {
   "cell_type": "code",
   "execution_count": 33,
   "id": "014b6da8",
   "metadata": {},
   "outputs": [
    {
     "name": "stdout",
     "output_type": "stream",
     "text": [
      "True\n"
     ]
    }
   ],
   "source": [
    "name=\"gayatri\"\n",
    "print('g' in name)"
   ]
  },
  {
   "cell_type": "code",
   "execution_count": 34,
   "id": "6c2eec39",
   "metadata": {},
   "outputs": [
    {
     "name": "stdout",
     "output_type": "stream",
     "text": [
      "True\n"
     ]
    }
   ],
   "source": [
    "print('y' in name)"
   ]
  },
  {
   "cell_type": "code",
   "execution_count": 35,
   "id": "6651df60",
   "metadata": {},
   "outputs": [
    {
     "name": "stdout",
     "output_type": "stream",
     "text": [
      "False\n"
     ]
    }
   ],
   "source": [
    "print('k' in name)"
   ]
  },
  {
   "cell_type": "code",
   "execution_count": 36,
   "id": "d95ed8b5",
   "metadata": {},
   "outputs": [
    {
     "name": "stdout",
     "output_type": "stream",
     "text": [
      "True\n"
     ]
    }
   ],
   "source": [
    "print('k' not in name)"
   ]
  },
  {
   "cell_type": "code",
   "execution_count": null,
   "id": "dd28573f",
   "metadata": {},
   "outputs": [],
   "source": []
  }
 ],
 "metadata": {
  "kernelspec": {
   "display_name": "Python 3 (ipykernel)",
   "language": "python",
   "name": "python3"
  },
  "language_info": {
   "codemirror_mode": {
    "name": "ipython",
    "version": 3
   },
   "file_extension": ".py",
   "mimetype": "text/x-python",
   "name": "python",
   "nbconvert_exporter": "python",
   "pygments_lexer": "ipython3",
   "version": "3.9.13"
  }
 },
 "nbformat": 4,
 "nbformat_minor": 5
}
