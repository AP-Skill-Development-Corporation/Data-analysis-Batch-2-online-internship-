{
 "cells": [
  {
   "cell_type": "markdown",
   "id": "5404bcc4",
   "metadata": {},
   "source": [
    "### Comprehension:\n",
    "- Comprehension in python to provide short and easy to create the new sequences such as like(list,dictionary,set).\n",
    "- Types of comprehension:\n",
    "- 1. List comprehension\n",
    "- 2. Dictionary comprehension\n",
    "- 3. Set comprehension"
   ]
  },
  {
   "cell_type": "markdown",
   "id": "86520210",
   "metadata": {},
   "source": [
    "#### 1. List Comprehension:\n",
    "- To create the new list from other iterables.\n",
    "- syntax:\n",
    "variable_name = [output_expression forloop if(condition)]"
   ]
  },
  {
   "cell_type": "code",
   "execution_count": 1,
   "id": "985d4d63",
   "metadata": {},
   "outputs": [
    {
     "name": "stdout",
     "output_type": "stream",
     "text": [
      "[1, 2, 3, 4, 5, 6, 7, 8, 9, 10]\n"
     ]
    }
   ],
   "source": [
    "# To generate the list with 1 to 10 natural numbers?\n",
    "# output: L2 =[1,2,3,4,5,6,7,8,9,10]\n",
    "L2 = []\n",
    "for i in range(1,11):\n",
    "    L2.append(i)\n",
    "print(L2)"
   ]
  },
  {
   "cell_type": "code",
   "execution_count": 2,
   "id": "4e5b2861",
   "metadata": {},
   "outputs": [
    {
     "name": "stdout",
     "output_type": "stream",
     "text": [
      "[1, 2, 3, 4, 5, 6, 7, 8, 9, 10]\n"
     ]
    }
   ],
   "source": [
    "# TO generate the list with 1 to 10 natural numbers using list comprehension?\n",
    "L3 = [i for i in range(1,11)]\n",
    "print(L3)"
   ]
  },
  {
   "cell_type": "code",
   "execution_count": 5,
   "id": "e6768871",
   "metadata": {},
   "outputs": [
    {
     "name": "stdout",
     "output_type": "stream",
     "text": [
      "[2, 4, 6, 8, 10, 12, 14, 16, 18, 20, 22, 24]\n",
      "[2, 4, 6, 8, 10, 12, 14, 16, 18, 20, 22, 24]\n",
      "[2, 4, 6, 8, 10, 12, 14, 16, 18, 20, 22, 24]\n"
     ]
    }
   ],
   "source": [
    "# To print the even natural numbers using list comprehension 1 to 25?\n",
    "L2 = []\n",
    "for i in range(1,25):\n",
    "    if i%2 == 0:\n",
    "        L2.append(i)\n",
    "print(L2)\n",
    "print([i for i in range(1,25) if i%2==0])\n",
    "print([i for i in range(2,25,2)]) # using steping value.."
   ]
  },
  {
   "cell_type": "markdown",
   "id": "dec7f934",
   "metadata": {},
   "source": [
    "#### Dictionary Comprehension:\n",
    "- To create the new diciotnary with other iterables.\n",
    "- syntax:\n",
    "variable_name = {keyname:value forloop if(condition)}"
   ]
  },
  {
   "cell_type": "code",
   "execution_count": 6,
   "id": "aa87bb52",
   "metadata": {},
   "outputs": [
    {
     "name": "stdout",
     "output_type": "stream",
     "text": [
      "{1: 1, 2: 4, 3: 9, 4: 16, 5: 25, 6: 36, 7: 49, 8: 64, 9: 81, 10: 100}\n"
     ]
    }
   ],
   "source": [
    "# To generate the 1 to 10 squares with out using DC?\n",
    "# output: {1:1,2:4,3:9....10:100}\n",
    "d1 = {}\n",
    "for i in range(1,11):\n",
    "    d1[i]=i*i\n",
    "print(d1)"
   ]
  },
  {
   "cell_type": "code",
   "execution_count": 9,
   "id": "a1c4b5e4",
   "metadata": {},
   "outputs": [
    {
     "name": "stdout",
     "output_type": "stream",
     "text": [
      "{1: 1, 2: 4, 3: 9, 4: 16, 5: 25, 6: 36, 7: 49, 8: 64, 9: 81, 10: 100}\n"
     ]
    }
   ],
   "source": [
    "# To generate the 1 to 10 squares with using DC?\n",
    "d2 = {i:i*i for i in range(1,11)}\n",
    "print(d2)"
   ]
  },
  {
   "cell_type": "code",
   "execution_count": 10,
   "id": "f0522464",
   "metadata": {},
   "outputs": [
    {
     "name": "stdout",
     "output_type": "stream",
     "text": [
      "{'apple': 'APPLE', 'banana': 'BANANA', 'orange': 'ORANGE', 'mango': 'MANGO'}\n"
     ]
    }
   ],
   "source": [
    "L1 = ['apple','banana','orange','mango']\n",
    "# output: {'apple':'APPLE','banana':'BANANA','orange':'ORANGE'}\n",
    "d2 = {i:i.upper() for i in L1}\n",
    "print(d2)"
   ]
  },
  {
   "cell_type": "code",
   "execution_count": 11,
   "id": "b6d0adac",
   "metadata": {},
   "outputs": [
    {
     "name": "stdout",
     "output_type": "stream",
     "text": [
      "{'a': 5, 'p': 2, 's': 5, 'd': 2, 'c': 2, ' ': 5, 'w': 1, 'e': 3, 'l': 2, 'o': 2, 'm': 1, 't': 3, 'n': 3, 'y': 1, 'i': 3, 'r': 1, 'h': 1}\n"
     ]
    }
   ],
   "source": [
    "# To print the character frequency using DC?\n",
    "s1 = \"apssdc welcome to data analysis internship\"\n",
    "# output: {'a':5,'p':2...}\n",
    "d3 = {i:s1.count(i) for i in s1}\n",
    "print(d3)"
   ]
  },
  {
   "cell_type": "markdown",
   "id": "eaf23e5c",
   "metadata": {},
   "source": [
    "#### set():\n",
    "- To create the new set from other iterables.\n",
    "- syntax:\n",
    "variable_name = {output_expression for loop condition}"
   ]
  },
  {
   "cell_type": "code",
   "execution_count": 12,
   "id": "70f3c6ec",
   "metadata": {},
   "outputs": [
    {
     "name": "stdout",
     "output_type": "stream",
     "text": [
      "{1, 2, 3, 4, 5, 6, 7, 8, 9, 10, 11, 12, 13, 14, 15, 16, 17, 18, 19, 20}\n"
     ]
    }
   ],
   "source": [
    "# To create the new set with 1 to 20 natural numbers?\n",
    "s1 = {i for i in range(1,21)}\n",
    "print(s1)"
   ]
  },
  {
   "cell_type": "code",
   "execution_count": 13,
   "id": "b6058e8e",
   "metadata": {},
   "outputs": [
    {
     "name": "stdout",
     "output_type": "stream",
     "text": [
      "{40, 10, 20, 30}\n"
     ]
    }
   ],
   "source": [
    "L1=[10,20,30,10,20,30,40,10]\n",
    "# To print the unique values using set comprehension?\n",
    "s2 = {i for i in L1}\n",
    "print(s2)"
   ]
  },
  {
   "cell_type": "code",
   "execution_count": 15,
   "id": "bf4836d2",
   "metadata": {},
   "outputs": [
    {
     "name": "stdout",
     "output_type": "stream",
     "text": [
      "(1, 2, 3, 4, 5, 6, 7, 8, 9, 10)\n"
     ]
    }
   ],
   "source": [
    "t3 = tuple(i for i in range(1,11))\n",
    "print(t3)"
   ]
  },
  {
   "cell_type": "code",
   "execution_count": null,
   "id": "3dc6bcb6",
   "metadata": {},
   "outputs": [],
   "source": []
  }
 ],
 "metadata": {
  "kernelspec": {
   "display_name": "Python 3",
   "language": "python",
   "name": "python3"
  },
  "language_info": {
   "codemirror_mode": {
    "name": "ipython",
    "version": 3
   },
   "file_extension": ".py",
   "mimetype": "text/x-python",
   "name": "python",
   "nbconvert_exporter": "python",
   "pygments_lexer": "ipython3",
   "version": "3.8.8"
  }
 },
 "nbformat": 4,
 "nbformat_minor": 5
}
