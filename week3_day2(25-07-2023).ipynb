{
 "cells": [
  {
   "cell_type": "code",
   "execution_count": 1,
   "id": "4d1ed102",
   "metadata": {},
   "outputs": [],
   "source": [
    "import package.addition"
   ]
  },
  {
   "cell_type": "code",
   "execution_count": 5,
   "id": "4c779f05",
   "metadata": {},
   "outputs": [],
   "source": [
    "from package import arithmetic"
   ]
  },
  {
   "cell_type": "code",
   "execution_count": 6,
   "id": "00399a57",
   "metadata": {},
   "outputs": [
    {
     "data": {
      "text/plain": [
       "2"
      ]
     },
     "execution_count": 6,
     "metadata": {},
     "output_type": "execute_result"
    }
   ],
   "source": [
    "arithmetic.sub(45,43)"
   ]
  },
  {
   "cell_type": "code",
   "execution_count": 7,
   "id": "6ac0e47f",
   "metadata": {},
   "outputs": [
    {
     "data": {
      "text/plain": [
       "68"
      ]
     },
     "execution_count": 7,
     "metadata": {},
     "output_type": "execute_result"
    }
   ],
   "source": [
    "arithmetic.add(23,45)"
   ]
  },
  {
   "cell_type": "code",
   "execution_count": 8,
   "id": "85fcb174",
   "metadata": {},
   "outputs": [],
   "source": [
    "import math"
   ]
  },
  {
   "cell_type": "code",
   "execution_count": 9,
   "id": "0c8a4efc",
   "metadata": {},
   "outputs": [
    {
     "data": {
      "text/plain": [
       "3.141592653589793"
      ]
     },
     "execution_count": 9,
     "metadata": {},
     "output_type": "execute_result"
    }
   ],
   "source": [
    "math.pi"
   ]
  },
  {
   "cell_type": "code",
   "execution_count": 11,
   "id": "c4bdbb12",
   "metadata": {},
   "outputs": [
    {
     "name": "stdout",
     "output_type": "stream",
     "text": [
      "['__doc__', '__loader__', '__name__', '__package__', '__spec__', 'acos', 'acosh', 'asin', 'asinh', 'atan', 'atan2', 'atanh', 'ceil', 'comb', 'copysign', 'cos', 'cosh', 'degrees', 'dist', 'e', 'erf', 'erfc', 'exp', 'expm1', 'fabs', 'factorial', 'floor', 'fmod', 'frexp', 'fsum', 'gamma', 'gcd', 'hypot', 'inf', 'isclose', 'isfinite', 'isinf', 'isnan', 'isqrt', 'lcm', 'ldexp', 'lgamma', 'log', 'log10', 'log1p', 'log2', 'modf', 'nan', 'nextafter', 'perm', 'pi', 'pow', 'prod', 'radians', 'remainder', 'sin', 'sinh', 'sqrt', 'tan', 'tanh', 'tau', 'trunc', 'ulp']\n"
     ]
    }
   ],
   "source": [
    "print(dir(math))"
   ]
  },
  {
   "cell_type": "code",
   "execution_count": 12,
   "id": "4779c974",
   "metadata": {},
   "outputs": [
    {
     "data": {
      "text/plain": [
       "12.0"
      ]
     },
     "execution_count": 12,
     "metadata": {},
     "output_type": "execute_result"
    }
   ],
   "source": [
    "math.sqrt(144)"
   ]
  },
  {
   "cell_type": "markdown",
   "id": "b106f3bd",
   "metadata": {},
   "source": [
    "### Regular expressions"
   ]
  },
  {
   "cell_type": "code",
   "execution_count": 14,
   "id": "d2545b4c",
   "metadata": {},
   "outputs": [],
   "source": [
    "import re"
   ]
  },
  {
   "cell_type": "code",
   "execution_count": 16,
   "id": "6318dee9",
   "metadata": {},
   "outputs": [
    {
     "data": {
      "text/plain": [
       "<re.Match object; span=(0, 4), match='rama'>"
      ]
     },
     "execution_count": 16,
     "metadata": {},
     "output_type": "execute_result"
    }
   ],
   "source": [
    "name=\"rama seetha rama\"\n",
    "re.search('rama',name)  # pattern,data"
   ]
  },
  {
   "cell_type": "code",
   "execution_count": 21,
   "id": "0cd0529d",
   "metadata": {},
   "outputs": [
    {
     "name": "stdout",
     "output_type": "stream",
     "text": [
      "no of repetitions:  2\n"
     ]
    }
   ],
   "source": [
    "x=re.findall('rama',name)\n",
    "l=len(x)\n",
    "print(\"no of repetitions: \",l)"
   ]
  },
  {
   "cell_type": "code",
   "execution_count": 22,
   "id": "bbe8af57",
   "metadata": {},
   "outputs": [
    {
     "name": "stdout",
     "output_type": "stream",
     "text": [
      "['welcome', 'to', 'programming']\n"
     ]
    }
   ],
   "source": [
    "# split() -> returns a list where string has been split at each match\n",
    "\n",
    "st=\"welcome to programming\"\n",
    "x=re.split('\\s',st)  # pattern,data\n",
    "print(x)"
   ]
  },
  {
   "cell_type": "code",
   "execution_count": 23,
   "id": "0ab444e1",
   "metadata": {},
   "outputs": [
    {
     "name": "stdout",
     "output_type": "stream",
     "text": [
      "['welcome', 'to programming']\n"
     ]
    }
   ],
   "source": [
    "# split( pattern,data,maxsplit)\n",
    "\n",
    "st=\"welcome to programming\"\n",
    "x=re.split('\\s',st,1)  \n",
    "print(x)"
   ]
  },
  {
   "cell_type": "code",
   "execution_count": null,
   "id": "3889b976",
   "metadata": {},
   "outputs": [],
   "source": [
    " # st=\"ra!n!ng@out$ide\"\n",
    "# task -> split this with!"
   ]
  },
  {
   "cell_type": "markdown",
   "id": "c455675a",
   "metadata": {},
   "source": [
    "### sub() \n",
    "* replaces the matches with the given text\n",
    "* re.sub(sub_str,replaced_str,data)"
   ]
  },
  {
   "cell_type": "code",
   "execution_count": 24,
   "id": "f064cbe9",
   "metadata": {},
   "outputs": [
    {
     "data": {
      "text/plain": [
       "'he@@o'"
      ]
     },
     "execution_count": 24,
     "metadata": {},
     "output_type": "execute_result"
    }
   ],
   "source": [
    "re.sub('l','@','hello')"
   ]
  },
  {
   "cell_type": "code",
   "execution_count": 25,
   "id": "5f00326e",
   "metadata": {},
   "outputs": [
    {
     "data": {
      "text/plain": [
       "'$ython $rogramming'"
      ]
     },
     "execution_count": 25,
     "metadata": {},
     "output_type": "execute_result"
    }
   ],
   "source": [
    "txt=\"python programming\"\n",
    "# replace 'p' with '$'\n",
    "\n",
    "a=re.sub('p','$',txt)\n",
    "a"
   ]
  },
  {
   "cell_type": "code",
   "execution_count": 26,
   "id": "905f55b3",
   "metadata": {},
   "outputs": [
    {
     "data": {
      "text/plain": [
       "'$ython programming'"
      ]
     },
     "execution_count": 26,
     "metadata": {},
     "output_type": "execute_result"
    }
   ],
   "source": [
    "# sub() -> prev ,new,data,max replace\n",
    "\n",
    "txt=\"python programming\"\n",
    "b=re.sub('p','$',txt,1)\n",
    "b"
   ]
  },
  {
   "cell_type": "code",
   "execution_count": 27,
   "id": "22baf269",
   "metadata": {},
   "outputs": [
    {
     "name": "stdout",
     "output_type": "stream",
     "text": [
      "786hg6t5\n",
      "65tfghyu5\n"
     ]
    }
   ],
   "source": [
    "# $ ends with\n",
    "\n",
    "l=[\"786hg6t5\",\"fdhthgg454\",\"65tfghyu5\",\"fghgghgy6\"]\n",
    "for i in l:\n",
    "    if re.search(\"5$\",i):\n",
    "        print(i)"
   ]
  },
  {
   "cell_type": "code",
   "execution_count": 31,
   "id": "19d5edb1",
   "metadata": {},
   "outputs": [
    {
     "name": "stdout",
     "output_type": "stream",
     "text": [
      "maha\n",
      "ramu\n"
     ]
    }
   ],
   "source": [
    "# . - unknown char\n",
    "# ^ - starts with\n",
    "\n",
    "l=[\"sri\",\"lasya\",\"ramyasri\",\"maha\",\"ramu\"]\n",
    "for name in l:\n",
    "     if re.search(\"^....$\",name):\n",
    "            print(name)"
   ]
  },
  {
   "cell_type": "code",
   "execution_count": 32,
   "id": "18e9e215",
   "metadata": {},
   "outputs": [
    {
     "data": {
      "text/plain": [
       "<re.Match object; span=(0, 5), match='54678'>"
      ]
     },
     "execution_count": 32,
     "metadata": {},
     "output_type": "execute_result"
    }
   ],
   "source": [
    "# [] - sequence of chars\n",
    "# {} - range of chars\n",
    "\n",
    "re.search(\"[0-9]{5}\",\"54678\")"
   ]
  },
  {
   "cell_type": "code",
   "execution_count": 33,
   "id": "4c257a0f",
   "metadata": {},
   "outputs": [],
   "source": [
    "# [0-9] -> any digit\n",
    "# [a-z]  -> lower case alphabets\n",
    "# [2468] -> all single digit multiple of 2\n",
    " "
   ]
  },
  {
   "cell_type": "code",
   "execution_count": null,
   "id": "ce72b4ec",
   "metadata": {},
   "outputs": [],
   "source": [
    "# (9876)"
   ]
  },
  {
   "cell_type": "code",
   "execution_count": 36,
   "id": "11a2cb7a",
   "metadata": {},
   "outputs": [
    {
     "name": "stdout",
     "output_type": "stream",
     "text": [
      "True\n",
      "False\n"
     ]
    }
   ],
   "source": [
    "# Function to validate a phone number\n",
    "\n",
    "def phoneValidator(number):\n",
    "    pattern='^[6-9][0-9]{9}$|[+][9][1][6-9][0-9]{9}$'\n",
    "    if re.match(pattern,str(number)):\n",
    "        return True\n",
    "    return False\n",
    "\n",
    "print(phoneValidator(9554571558))\n",
    "print(phoneValidator(95545715588565))"
   ]
  },
  {
   "cell_type": "code",
   "execution_count": null,
   "id": "051513d3",
   "metadata": {},
   "outputs": [],
   "source": [
    "# function to validate email id"
   ]
  }
 ],
 "metadata": {
  "kernelspec": {
   "display_name": "Python 3 (ipykernel)",
   "language": "python",
   "name": "python3"
  },
  "language_info": {
   "codemirror_mode": {
    "name": "ipython",
    "version": 3
   },
   "file_extension": ".py",
   "mimetype": "text/x-python",
   "name": "python",
   "nbconvert_exporter": "python",
   "pygments_lexer": "ipython3",
   "version": "3.9.13"
  }
 },
 "nbformat": 4,
 "nbformat_minor": 5
}
