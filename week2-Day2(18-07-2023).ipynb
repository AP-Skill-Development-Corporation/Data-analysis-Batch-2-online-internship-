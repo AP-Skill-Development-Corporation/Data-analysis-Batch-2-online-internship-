{
 "cells": [
  {
   "cell_type": "markdown",
   "id": "1fde64f1",
   "metadata": {},
   "source": [
    "### Python Data Structures:\n",
    "        - TO organize the data\n",
    "- 4 types of Data Structures:\n",
    "- 1. List -> []\n",
    "- 2. Tuple -> ()\n",
    "- 3. Diciotnary -> {keyname:value}\n",
    "- 4. set -> {}"
   ]
  },
  {
   "cell_type": "markdown",
   "id": "2c4a0db5",
   "metadata": {},
   "source": [
    "- 1. List:\n",
    "- It is a collection of different data types in a single variable.\n",
    "- By using square brackets we can write the list i.e [].\n",
    "- List index position starts from 0 to size-1.\n",
    "- List is mutable(it is changable).\n",
    "- To access list values by using index position."
   ]
  },
  {
   "cell_type": "code",
   "execution_count": 1,
   "id": "a4afe745",
   "metadata": {},
   "outputs": [
    {
     "name": "stdout",
     "output_type": "stream",
     "text": [
      "[10, 20, 'apssdc', 34.5]\n",
      "<class 'list'>\n"
     ]
    }
   ],
   "source": [
    "# To create the list with different data types values..\n",
    "L1 = [10,20,'apssdc',34.5]\n",
    "print(L1)\n",
    "print(type(L1))"
   ]
  },
  {
   "cell_type": "code",
   "execution_count": 4,
   "id": "d2601dea",
   "metadata": {},
   "outputs": [
    {
     "name": "stdout",
     "output_type": "stream",
     "text": [
      "[10, 20, 30, 11, 22, 33]\n",
      "[10, 20, 30]\n",
      "[11, 22, 33]\n"
     ]
    }
   ],
   "source": [
    "# To join the two lists..\n",
    "L2 = [10,20,30]\n",
    "L3 = [11,22,33]\n",
    "print(L2+L3)\n",
    "print(L2)\n",
    "print(L3)"
   ]
  },
  {
   "cell_type": "code",
   "execution_count": 5,
   "id": "b2e81fa3",
   "metadata": {},
   "outputs": [
    {
     "name": "stdout",
     "output_type": "stream",
     "text": [
      "60\n"
     ]
    }
   ],
   "source": [
    "# To find the sum elements from a list..\n",
    "L1 = [10,20,30]\n",
    "print(sum(L1))"
   ]
  },
  {
   "cell_type": "code",
   "execution_count": 6,
   "id": "d9e68450",
   "metadata": {},
   "outputs": [
    {
     "name": "stdout",
     "output_type": "stream",
     "text": [
      "90\n"
     ]
    }
   ],
   "source": [
    "# TO print the maximum element from a list.\n",
    "L1 =[10,20,12,78,34,90]\n",
    "print(max(L1))"
   ]
  },
  {
   "cell_type": "code",
   "execution_count": 7,
   "id": "82653859",
   "metadata": {},
   "outputs": [
    {
     "ename": "TypeError",
     "evalue": "'>' not supported between instances of 'int' and 'str'",
     "output_type": "error",
     "traceback": [
      "\u001b[1;31m---------------------------------------------------------------------------\u001b[0m",
      "\u001b[1;31mTypeError\u001b[0m                                 Traceback (most recent call last)",
      "\u001b[1;32m<ipython-input-7-2f384f3e16ce>\u001b[0m in \u001b[0;36m<module>\u001b[1;34m\u001b[0m\n\u001b[0;32m      1\u001b[0m \u001b[0mL1\u001b[0m\u001b[1;33m=\u001b[0m\u001b[1;33m[\u001b[0m\u001b[1;34m'apssdc'\u001b[0m\u001b[1;33m,\u001b[0m\u001b[1;36m10\u001b[0m\u001b[1;33m,\u001b[0m\u001b[1;36m20\u001b[0m\u001b[1;33m,\u001b[0m\u001b[1;34m'python'\u001b[0m\u001b[1;33m,\u001b[0m\u001b[1;36m45.6\u001b[0m\u001b[1;33m]\u001b[0m\u001b[1;33m\u001b[0m\u001b[1;33m\u001b[0m\u001b[0m\n\u001b[1;32m----> 2\u001b[1;33m \u001b[0mprint\u001b[0m\u001b[1;33m(\u001b[0m\u001b[0mmax\u001b[0m\u001b[1;33m(\u001b[0m\u001b[0mL1\u001b[0m\u001b[1;33m)\u001b[0m\u001b[1;33m)\u001b[0m\u001b[1;33m\u001b[0m\u001b[1;33m\u001b[0m\u001b[0m\n\u001b[0m",
      "\u001b[1;31mTypeError\u001b[0m: '>' not supported between instances of 'int' and 'str'"
     ]
    }
   ],
   "source": [
    "L1=['apssdc',10,20,'python',45.6]\n",
    "print(max(L1))"
   ]
  },
  {
   "cell_type": "code",
   "execution_count": 8,
   "id": "7a2565c7",
   "metadata": {},
   "outputs": [
    {
     "name": "stdout",
     "output_type": "stream",
     "text": [
      "python\n"
     ]
    }
   ],
   "source": [
    "L1=['python','java','apssdc']\n",
    "print(max(L1))"
   ]
  },
  {
   "cell_type": "code",
   "execution_count": 9,
   "id": "e67f8943",
   "metadata": {},
   "outputs": [
    {
     "name": "stdout",
     "output_type": "stream",
     "text": [
      "7\n"
     ]
    }
   ],
   "source": [
    "# TO find the minimum from a list?\n",
    "L1 = [20,45,7,90]\n",
    "print(min(L1))"
   ]
  },
  {
   "cell_type": "code",
   "execution_count": 10,
   "id": "a6470ceb",
   "metadata": {},
   "outputs": [
    {
     "name": "stdout",
     "output_type": "stream",
     "text": [
      "4\n"
     ]
    }
   ],
   "source": [
    "# To find the length of a list?\n",
    "L1=[10,'apssdc',34.5,89] # To get the number of elements\n",
    "print(len(L1))"
   ]
  },
  {
   "cell_type": "markdown",
   "id": "c4467a87",
   "metadata": {},
   "source": [
    "### Indexing and Slicing:\n",
    "- TO get the single element -> indexing\n",
    "- To get the two or more elements -> slicing ->[start:stop:step]"
   ]
  },
  {
   "cell_type": "code",
   "execution_count": 16,
   "id": "949286e3",
   "metadata": {},
   "outputs": [
    {
     "name": "stdout",
     "output_type": "stream",
     "text": [
      "Python\n",
      "45\n",
      "[45, 'apssdc', 23.4, 'Python', 20, 10]\n",
      "[23.4, 'apssdc', 45]\n",
      "[10, 20, 'Python', 23.4, 'apssdc', 45]\n"
     ]
    }
   ],
   "source": [
    "L1=[10,20,'Python',23.4,'apssdc',45]\n",
    "print(L1[2])\n",
    "print(L1[-1])\n",
    "print(L1[::-1])\n",
    "print(L1[3:])"
   ]
  },
  {
   "cell_type": "code",
   "execution_count": 17,
   "id": "0f53c1d3",
   "metadata": {},
   "outputs": [
    {
     "name": "stdout",
     "output_type": "stream",
     "text": [
      "100\n",
      "200\n",
      "300\n",
      "apssdc\n"
     ]
    }
   ],
   "source": [
    "# TO print the each element using forloop?\n",
    "L2 = [100,200,300,'apssdc']\n",
    "for i in L2:\n",
    "    print(i)"
   ]
  },
  {
   "cell_type": "markdown",
   "id": "7664aaf4",
   "metadata": {},
   "source": [
    "- List methods"
   ]
  },
  {
   "cell_type": "code",
   "execution_count": 18,
   "id": "d0084b76",
   "metadata": {},
   "outputs": [
    {
     "name": "stdout",
     "output_type": "stream",
     "text": [
      "['__add__', '__class__', '__contains__', '__delattr__', '__delitem__', '__dir__', '__doc__', '__eq__', '__format__', '__ge__', '__getattribute__', '__getitem__', '__gt__', '__hash__', '__iadd__', '__imul__', '__init__', '__init_subclass__', '__iter__', '__le__', '__len__', '__lt__', '__mul__', '__ne__', '__new__', '__reduce__', '__reduce_ex__', '__repr__', '__reversed__', '__rmul__', '__setattr__', '__setitem__', '__sizeof__', '__str__', '__subclasshook__', 'append', 'clear', 'copy', 'count', 'extend', 'index', 'insert', 'pop', 'remove', 'reverse', 'sort']\n"
     ]
    }
   ],
   "source": [
    "# To print the list methods?\n",
    "print(dir(list))"
   ]
  },
  {
   "cell_type": "code",
   "execution_count": 20,
   "id": "f43dfca2",
   "metadata": {},
   "outputs": [
    {
     "name": "stdout",
     "output_type": "stream",
     "text": [
      "[10, 20, 30]\n"
     ]
    }
   ],
   "source": [
    "L1=[10,20,30]\n",
    "print(L1)"
   ]
  },
  {
   "cell_type": "code",
   "execution_count": 22,
   "id": "4fc34f5b",
   "metadata": {},
   "outputs": [
    {
     "name": "stdout",
     "output_type": "stream",
     "text": [
      "[10, 20, 30, 100, 100]\n"
     ]
    }
   ],
   "source": [
    "# append():\n",
    "# TO add the single element to end of the list.\n",
    "# syntax: Listname.append(element)\n",
    "L1.append(100)\n",
    "print(L1)"
   ]
  },
  {
   "cell_type": "code",
   "execution_count": 24,
   "id": "b4941e6b",
   "metadata": {},
   "outputs": [
    {
     "name": "stdout",
     "output_type": "stream",
     "text": [
      "[10, 20, 30, 100, 100]\n",
      "[10, 20, 30, 100, 100, 'python', 34.5]\n"
     ]
    }
   ],
   "source": [
    "# extend():\n",
    "# To add more number of elements.\n",
    "# syntax: listname.extend([ele1,ele2,ele3...])\n",
    "print(L1)\n",
    "L1.extend(['python',34.5])\n",
    "print(L1)"
   ]
  },
  {
   "cell_type": "code",
   "execution_count": 26,
   "id": "ac9c3a75",
   "metadata": {},
   "outputs": [
    {
     "name": "stdout",
     "output_type": "stream",
     "text": [
      "[10, 20, 30, 100, 100, 'python', 34.5]\n",
      "[10, 200, 20, 30, 100, 100, 'python', 34.5]\n"
     ]
    }
   ],
   "source": [
    "# insert():\n",
    "# To add new element in a specific position.\n",
    "# syntax: listname.insert(index_position,element)\n",
    "print(L1)\n",
    "L1.insert(1,200)\n",
    "print(L1)"
   ]
  },
  {
   "cell_type": "code",
   "execution_count": 28,
   "id": "d9ccaf86",
   "metadata": {},
   "outputs": [
    {
     "name": "stdout",
     "output_type": "stream",
     "text": [
      "[10, 200, 20, 30, 100, 100, 'python', 34.5]\n",
      "[10, 200, 20, 30, 100, 100, 'python', 34.5]\n"
     ]
    }
   ],
   "source": [
    "#copy():\n",
    "# To copy the data from one list to another list.\n",
    "# syntax: newlist=oldlstname.copy()\n",
    "print(L1)\n",
    "L3 = L1.copy()\n",
    "print(L3)"
   ]
  },
  {
   "cell_type": "code",
   "execution_count": 30,
   "id": "daeaa450",
   "metadata": {},
   "outputs": [
    {
     "name": "stdout",
     "output_type": "stream",
     "text": [
      "2\n",
      "0\n"
     ]
    }
   ],
   "source": [
    "# count()\n",
    "# number of occurences..\n",
    "L1=[10,20,10,20,30]\n",
    "print(L1.count(10))\n",
    "print(L1.count(100))"
   ]
  },
  {
   "cell_type": "code",
   "execution_count": 33,
   "id": "5faa63d2",
   "metadata": {},
   "outputs": [
    {
     "name": "stdout",
     "output_type": "stream",
     "text": [
      "[10, 20, 10, 20, 30]\n",
      "0\n"
     ]
    }
   ],
   "source": [
    "# index()\n",
    "# It returns the index position of specific element.\n",
    "print(L1)\n",
    "print(L1.index(10))"
   ]
  },
  {
   "cell_type": "code",
   "execution_count": 34,
   "id": "d42b1ca2",
   "metadata": {},
   "outputs": [
    {
     "name": "stdout",
     "output_type": "stream",
     "text": [
      "['__add__', '__class__', '__contains__', '__delattr__', '__delitem__', '__dir__', '__doc__', '__eq__', '__format__', '__ge__', '__getattribute__', '__getitem__', '__gt__', '__hash__', '__iadd__', '__imul__', '__init__', '__init_subclass__', '__iter__', '__le__', '__len__', '__lt__', '__mul__', '__ne__', '__new__', '__reduce__', '__reduce_ex__', '__repr__', '__reversed__', '__rmul__', '__setattr__', '__setitem__', '__sizeof__', '__str__', '__subclasshook__', 'append', 'clear', 'copy', 'count', 'extend', 'index', 'insert', 'pop', 'remove', 'reverse', 'sort']\n"
     ]
    }
   ],
   "source": [
    "print(dir(list))"
   ]
  },
  {
   "cell_type": "code",
   "execution_count": 39,
   "id": "ea7a4cbe",
   "metadata": {},
   "outputs": [
    {
     "name": "stdout",
     "output_type": "stream",
     "text": [
      "[10, 20]\n"
     ]
    },
    {
     "ename": "IndexError",
     "evalue": "pop index out of range",
     "output_type": "error",
     "traceback": [
      "\u001b[1;31m---------------------------------------------------------------------------\u001b[0m",
      "\u001b[1;31mIndexError\u001b[0m                                Traceback (most recent call last)",
      "\u001b[1;32m<ipython-input-39-53e80507a416>\u001b[0m in \u001b[0;36m<module>\u001b[1;34m\u001b[0m\n\u001b[0;32m      2\u001b[0m \u001b[1;31m# It remove the element from a list using index position.\u001b[0m\u001b[1;33m\u001b[0m\u001b[1;33m\u001b[0m\u001b[1;33m\u001b[0m\u001b[0m\n\u001b[0;32m      3\u001b[0m \u001b[0mprint\u001b[0m\u001b[1;33m(\u001b[0m\u001b[0mL1\u001b[0m\u001b[1;33m)\u001b[0m\u001b[1;33m\u001b[0m\u001b[1;33m\u001b[0m\u001b[0m\n\u001b[1;32m----> 4\u001b[1;33m \u001b[0mL1\u001b[0m\u001b[1;33m.\u001b[0m\u001b[0mpop\u001b[0m\u001b[1;33m(\u001b[0m\u001b[1;36m2\u001b[0m\u001b[1;33m)\u001b[0m\u001b[1;33m\u001b[0m\u001b[1;33m\u001b[0m\u001b[0m\n\u001b[0m\u001b[0;32m      5\u001b[0m \u001b[0mprint\u001b[0m\u001b[1;33m(\u001b[0m\u001b[0mL1\u001b[0m\u001b[1;33m)\u001b[0m\u001b[1;33m\u001b[0m\u001b[1;33m\u001b[0m\u001b[0m\n\u001b[0;32m      6\u001b[0m \u001b[0mL1\u001b[0m\u001b[1;33m.\u001b[0m\u001b[0mpop\u001b[0m\u001b[1;33m(\u001b[0m\u001b[1;33m)\u001b[0m \u001b[1;31m# It removes the last element.\u001b[0m\u001b[1;33m\u001b[0m\u001b[1;33m\u001b[0m\u001b[0m\n",
      "\u001b[1;31mIndexError\u001b[0m: pop index out of range"
     ]
    }
   ],
   "source": [
    "# pop():\n",
    "# It remove the element from a list using index position.\n",
    "print(L1)\n",
    "L1.pop(2)\n",
    "print(L1)\n",
    "L1.pop() # It removes the last element."
   ]
  },
  {
   "cell_type": "code",
   "execution_count": 41,
   "id": "259a5d79",
   "metadata": {},
   "outputs": [
    {
     "name": "stdout",
     "output_type": "stream",
     "text": [
      "[10, 20]\n",
      "[20]\n"
     ]
    }
   ],
   "source": [
    "# remove():\n",
    "# delete the element from alist.\n",
    "print(L1)\n",
    "L1.remove(10)\n",
    "print(L1)"
   ]
  },
  {
   "cell_type": "code",
   "execution_count": 43,
   "id": "f9e62ccb",
   "metadata": {},
   "outputs": [
    {
     "name": "stdout",
     "output_type": "stream",
     "text": [
      "[10, 200, 20, 30, 100, 100, 'python', 34.5]\n",
      "[34.5, 'python', 100, 100, 30, 20, 200, 10]\n"
     ]
    }
   ],
   "source": [
    "# reverse()\n",
    "# Print the list in reverse order.\n",
    "print(L3)\n",
    "L3.reverse()\n",
    "print(L3)"
   ]
  },
  {
   "cell_type": "code",
   "execution_count": 46,
   "id": "046886d3",
   "metadata": {},
   "outputs": [
    {
     "name": "stdout",
     "output_type": "stream",
     "text": [
      "[2, 8, 9, 23, 56, 67, 100]\n"
     ]
    }
   ],
   "source": [
    "# sort()\n",
    "# To print the list in order either ascending or descending order.\n",
    "L3 = [23,56,8,67,9,2,100]\n",
    "L3.sort() # In ascending order\n",
    "print(L3)"
   ]
  },
  {
   "cell_type": "code",
   "execution_count": 47,
   "id": "b56ac707",
   "metadata": {},
   "outputs": [
    {
     "data": {
      "text/plain": [
       "[100, 67, 56, 23, 9, 8, 2]"
      ]
     },
     "execution_count": 47,
     "metadata": {},
     "output_type": "execute_result"
    }
   ],
   "source": [
    "# TO print the list in descending order?\n",
    "L3.sort(reverse=True)\n",
    "L3"
   ]
  },
  {
   "cell_type": "code",
   "execution_count": 49,
   "id": "ea5ae3e7",
   "metadata": {
    "scrolled": true
   },
   "outputs": [
    {
     "name": "stdout",
     "output_type": "stream",
     "text": [
      "[100, 67, 56, 23, 9, 8, 2]\n",
      "[]\n"
     ]
    }
   ],
   "source": [
    "# clear():\n",
    "# clear the data from a list?\n",
    "print(L3)\n",
    "L3.clear()\n",
    "print(L3)"
   ]
  },
  {
   "cell_type": "code",
   "execution_count": 51,
   "id": "b7ee3e54",
   "metadata": {},
   "outputs": [
    {
     "name": "stdout",
     "output_type": "stream",
     "text": [
      "[1, 2, 10, 34, 45, 98]\n",
      "second largest is:  45\n",
      "seocnd smallest is: 2\n"
     ]
    }
   ],
   "source": [
    "# To print the second largest and second smalest element from alist?\n",
    "L3=[34,10,45,2,98,1]\n",
    "L3.sort()\n",
    "print(L3)\n",
    "print('second largest is: ',L3[-2])\n",
    "print('seocnd smallest is:',L3[1])"
   ]
  },
  {
   "cell_type": "code",
   "execution_count": 54,
   "id": "16296bd3",
   "metadata": {},
   "outputs": [
    {
     "name": "stdout",
     "output_type": "stream",
     "text": [
      "10 20 30\n",
      "[10, 20, 30]\n"
     ]
    }
   ],
   "source": [
    "# TO read the list elements in dynamic method?\n",
    "L1 = list(map(int,input().split()))\n",
    "print(L1)"
   ]
  },
  {
   "cell_type": "code",
   "execution_count": 57,
   "id": "c7b1ffcb",
   "metadata": {},
   "outputs": [
    {
     "name": "stdout",
     "output_type": "stream",
     "text": [
      "10 --> 3\n",
      "20 --> 2\n",
      "30 --> 2\n",
      "40 --> 1\n"
     ]
    }
   ],
   "source": [
    "# To print the element frequency from a list?\n",
    "L1=[10,20,30,10,20,30,40,10]\n",
    "# output: 10 -> \n",
    "L4 = []\n",
    "for i in L1:\n",
    "    if i not in L4:\n",
    "        L4.append(i)\n",
    "for i in L4:\n",
    "    print(i,'-->',L1.count(i))"
   ]
  },
  {
   "cell_type": "markdown",
   "id": "17d22db3",
   "metadata": {},
   "source": [
    "- 1. To print the even elements from a list?\n",
    "- 2. To print the index position of a particular element?\n",
    "- 3. To remove the first element and last element from alist?\n",
    "- 4. To read the string elements to list, and then find the length of each string element?\n",
    "L1=['python','apssdc','tcs','wipro']\n",
    "output: python -> 6,\n",
    "        apssdc -> 6"
   ]
  },
  {
   "cell_type": "code",
   "execution_count": null,
   "id": "cdc396ac",
   "metadata": {},
   "outputs": [],
   "source": []
  }
 ],
 "metadata": {
  "kernelspec": {
   "display_name": "Python 3",
   "language": "python",
   "name": "python3"
  },
  "language_info": {
   "codemirror_mode": {
    "name": "ipython",
    "version": 3
   },
   "file_extension": ".py",
   "mimetype": "text/x-python",
   "name": "python",
   "nbconvert_exporter": "python",
   "pygments_lexer": "ipython3",
   "version": "3.8.8"
  }
 },
 "nbformat": 4,
 "nbformat_minor": 5
}
