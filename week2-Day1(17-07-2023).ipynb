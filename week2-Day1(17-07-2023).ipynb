{
 "cells": [
  {
   "cell_type": "code",
   "execution_count": 1,
   "id": "8aac92ec",
   "metadata": {},
   "outputs": [
    {
     "name": "stdout",
     "output_type": "stream",
     "text": [
      "2\n"
     ]
    }
   ],
   "source": [
    "#count():\n",
    "# The number of times a specified value occurs in a string.\n",
    "s1 = 'python programming'\n",
    "print(s1.count('p'))"
   ]
  },
  {
   "cell_type": "code",
   "execution_count": 2,
   "id": "dd1f6bab",
   "metadata": {},
   "outputs": [
    {
     "name": "stdout",
     "output_type": "stream",
     "text": [
      "2\n"
     ]
    }
   ],
   "source": [
    "# To count the sub string..\n",
    "s2 ='apssdc data analysis apssdc programs'\n",
    "print(s2.count('sdc'))"
   ]
  },
  {
   "cell_type": "code",
   "execution_count": 7,
   "id": "4d6278d1",
   "metadata": {},
   "outputs": [
    {
     "name": "stdout",
     "output_type": "stream",
     "text": [
      "1\n",
      "2\n",
      "3\n"
     ]
    }
   ],
   "source": [
    "# index():\n",
    "# It returns the index position of a specific character.\n",
    "s1='apssdc'\n",
    "print(s1.index('p'))\n",
    "#print(s1.index('z'))\n",
    "print(s1.index('s')) # first occurences index position\n",
    "print(s1.rindex('s')) # Last occurences index position"
   ]
  },
  {
   "cell_type": "code",
   "execution_count": 11,
   "id": "14c8a302",
   "metadata": {},
   "outputs": [
    {
     "name": "stdout",
     "output_type": "stream",
     "text": [
      "ypssdc\n"
     ]
    }
   ],
   "source": [
    "# replace():\n",
    "# To replace the any character.\n",
    "s1 = 'apssdc'\n",
    "print(s1.replace('a','y'))"
   ]
  },
  {
   "cell_type": "code",
   "execution_count": 14,
   "id": "3eaa5f83",
   "metadata": {},
   "outputs": [
    {
     "name": "stdout",
     "output_type": "stream",
     "text": [
      "DA internship\n",
      "DA internship    \n",
      "    DA internship\n"
     ]
    }
   ],
   "source": [
    "#strip():\n",
    "# It removes the white spaces.. right side and left side\n",
    "s1='    DA internship    '\n",
    "print(s1.strip())\n",
    "print(s1.lstrip()) # Remove the left side space\n",
    "print(s1.rstrip()) # remove the right side space"
   ]
  },
  {
   "cell_type": "code",
   "execution_count": 16,
   "id": "915c3d66",
   "metadata": {},
   "outputs": [
    {
     "name": "stdout",
     "output_type": "stream",
     "text": [
      "apttdc\n",
      "apstcs\n"
     ]
    }
   ],
   "source": [
    "s1='apssdc'\n",
    "s2='t'\n",
    "print(s1.replace('s',s2))\n",
    "print(s1.replace('sdc','tcs'))"
   ]
  },
  {
   "cell_type": "code",
   "execution_count": 17,
   "id": "1e40bf20",
   "metadata": {},
   "outputs": [
    {
     "name": "stdout",
     "output_type": "stream",
     "text": [
      "['welcome', 'to', 'data', 'analysis', 'internship', 'program', 'for', 'batch2', 'students']\n"
     ]
    }
   ],
   "source": [
    "# spilt():\n",
    "# Spilt the string at the specified separator.\n",
    "# and it returns data in the format of list.\n",
    "# To convert the string data into words.\n",
    "s1 ='welcome to data analysis internship program for batch2 students'\n",
    "print(s1.split()) # "
   ]
  },
  {
   "cell_type": "code",
   "execution_count": 21,
   "id": "a05f0da0",
   "metadata": {},
   "outputs": [
    {
     "name": "stdout",
     "output_type": "stream",
     "text": [
      "['welcome', 'to', 'data', 'analysis', 'internship', 'program', 'for', 'batch2', 'students']\n",
      "9\n"
     ]
    }
   ],
   "source": [
    "s1 ='welcome,to,data,analysis,internship,program,for,batch2,students'\n",
    "print(s1.split(','))\n",
    "print(len(s1.split(',')))"
   ]
  },
  {
   "cell_type": "code",
   "execution_count": 23,
   "id": "a2a1c4c7",
   "metadata": {},
   "outputs": [
    {
     "data": {
      "text/plain": [
       "'apythonppythonspythonspythondpythonc'"
      ]
     },
     "execution_count": 23,
     "metadata": {},
     "output_type": "execute_result"
    }
   ],
   "source": [
    "#join():\n",
    "# To join the data to given string.\n",
    "s1 = 'apssdc'\n",
    "s2='python'\n",
    "s2.join(s1)"
   ]
  },
  {
   "cell_type": "code",
   "execution_count": 24,
   "id": "3a9d5ff5",
   "metadata": {},
   "outputs": [
    {
     "name": "stdout",
     "output_type": "stream",
     "text": [
      "s#d#c\n"
     ]
    }
   ],
   "source": [
    "print('#'.join('sdc'))"
   ]
  },
  {
   "cell_type": "code",
   "execution_count": 28,
   "id": "09b065af",
   "metadata": {},
   "outputs": [
    {
     "name": "stdout",
     "output_type": "stream",
     "text": [
      "True\n",
      "False\n"
     ]
    }
   ],
   "source": [
    "# isalpha():\n",
    "# It will check the given string having all characters alphebets or not?\n",
    "# It returns the True or False.\n",
    "s1='apssdc'\n",
    "print(s1.isalpha())\n",
    "print('apsdc@123'.isalpha())"
   ]
  },
  {
   "cell_type": "code",
   "execution_count": 30,
   "id": "3c4b0df6",
   "metadata": {},
   "outputs": [
    {
     "name": "stdout",
     "output_type": "stream",
     "text": [
      "True\n",
      "False\n"
     ]
    }
   ],
   "source": [
    "#isdigit():\n",
    "# only string having digits\n",
    "s1='1234'\n",
    "print(s1.isdigit())\n",
    "print('sdc123 python'.isdigit())"
   ]
  },
  {
   "cell_type": "code",
   "execution_count": 32,
   "id": "3db2919d",
   "metadata": {},
   "outputs": [
    {
     "name": "stdout",
     "output_type": "stream",
     "text": [
      "True\n",
      "False\n"
     ]
    }
   ],
   "source": [
    "#isalnum():\n",
    "# combination of alphabets and digits.\n",
    "s1='sdc123'\n",
    "print(s1.isalnum())\n",
    "print('sdc 123'.isalnum())"
   ]
  },
  {
   "cell_type": "code",
   "execution_count": 38,
   "id": "fc0b5722",
   "metadata": {},
   "outputs": [
    {
     "name": "stdout",
     "output_type": "stream",
     "text": [
      "True\n",
      "True\n"
     ]
    }
   ],
   "source": [
    "#islower():\n",
    "# only small alphabets\n",
    "s1='apssdc @123'\n",
    "print(s1.islower())\n",
    "print(' sdc123'.islower())"
   ]
  },
  {
   "cell_type": "code",
   "execution_count": 39,
   "id": "ff83f85d",
   "metadata": {},
   "outputs": [
    {
     "name": "stdout",
     "output_type": "stream",
     "text": [
      "True\n"
     ]
    }
   ],
   "source": [
    "#isupper():\n",
    "s1 ='PYTHON SDC123@'\n",
    "print(s1.isupper())"
   ]
  },
  {
   "cell_type": "code",
   "execution_count": 42,
   "id": "0ee4666d",
   "metadata": {},
   "outputs": [
    {
     "name": "stdout",
     "output_type": "stream",
     "text": [
      "True\n"
     ]
    }
   ],
   "source": [
    "#isspace()\n",
    "s1='   '\n",
    "print(s1.isspace())"
   ]
  },
  {
   "cell_type": "code",
   "execution_count": 44,
   "id": "aa579b35",
   "metadata": {},
   "outputs": [
    {
     "name": "stdout",
     "output_type": "stream",
     "text": [
      "True\n",
      "False\n"
     ]
    }
   ],
   "source": [
    "# startswith()\n",
    "s1='python programming'\n",
    "print(s1.startswith('p'))\n",
    "print(s1.startswith('k'))"
   ]
  },
  {
   "cell_type": "code",
   "execution_count": 45,
   "id": "6cb7f630",
   "metadata": {},
   "outputs": [
    {
     "name": "stdout",
     "output_type": "stream",
     "text": [
      "True\n"
     ]
    }
   ],
   "source": [
    "#endswith()\n",
    "s1='python'\n",
    "print(s1.endswith('n'))"
   ]
  },
  {
   "cell_type": "code",
   "execution_count": 47,
   "id": "1480c48c",
   "metadata": {},
   "outputs": [
    {
     "name": "stdout",
     "output_type": "stream",
     "text": [
      "['aadyan', 'nani', 'rajesh', 'nethra', 'gopi', 'nandu']\n",
      "nani nethra nandu "
     ]
    }
   ],
   "source": [
    "s1='aadyan nani rajesh nethra gopi nandu'.split()\n",
    "# To print the names only starts with 'n'\n",
    "print(s1)\n",
    "for i in s1:\n",
    "    if i.startswith('n'):\n",
    "        print(i,end=\" \")"
   ]
  },
  {
   "cell_type": "code",
   "execution_count": 48,
   "id": "35577cff",
   "metadata": {},
   "outputs": [
    {
     "name": "stdout",
     "output_type": "stream",
     "text": [
      "nani gopi "
     ]
    }
   ],
   "source": [
    "s1='aadyan nani rajesh nethra gopi nandu'.split()\n",
    "# To print the names ends with a character is 'i'\n",
    "for i in s1:\n",
    "    if i.endswith('i'):\n",
    "        print(i,end=\" \")"
   ]
  },
  {
   "cell_type": "code",
   "execution_count": 49,
   "id": "e9d6fdfc",
   "metadata": {},
   "outputs": [
    {
     "name": "stdout",
     "output_type": "stream",
     "text": [
      "enter a string: apssdc@123\n",
      "digit count is:  3\n"
     ]
    }
   ],
   "source": [
    "# To print the number of digits of a given string..\n",
    "s1 = input(\"enter a string: \")\n",
    "d1 = 0\n",
    "for i in s1:\n",
    "    if i.isdigit():\n",
    "        d1 = d1+1\n",
    "print('digit count is: ',d1)     "
   ]
  },
  {
   "cell_type": "code",
   "execution_count": 50,
   "id": "ec21b0ce",
   "metadata": {},
   "outputs": [
    {
     "name": "stdout",
     "output_type": "stream",
     "text": [
      "nythop\n"
     ]
    }
   ],
   "source": [
    "# To swap the first and last character from astring.\n",
    "# input: s1='python'\n",
    "# output: nythop\n",
    "s1 = 'python'\n",
    "x=list(s1)\n",
    "temp=x[0]\n",
    "x[0]=x[-1]\n",
    "x[-1]=temp\n",
    "print(\"\".join(x))"
   ]
  },
  {
   "cell_type": "code",
   "execution_count": 53,
   "id": "443433a5",
   "metadata": {},
   "outputs": [
    {
     "name": "stdout",
     "output_type": "stream",
     "text": [
      "Enter s1 string: welcome python\n",
      "nelcome pythow\n"
     ]
    }
   ],
   "source": [
    "# To swap the first and last character from astring.\n",
    "# input: s1='python'\n",
    "# output: nythop\n",
    "s1=input(\"Enter s1 string: \")\n",
    "print(s1[-1]+s1[1:len(s1)-1]+s1[0])"
   ]
  },
  {
   "cell_type": "markdown",
   "id": "d3d34785",
   "metadata": {},
   "source": [
    "- 1. TO count the number of alphabets,digits,spaces,special characters of a given string?\n",
    "- 2. To Remove the first and last character of a given string?\n",
    "- 3. To read the stirng of names to print only startswith 's' and ends with 'a'?\n",
    "sample input: 'nethra rajesh aadyan siva narmada aadyan sandhya'\n",
    "sample output: siva sandhya"
   ]
  }
 ],
 "metadata": {
  "kernelspec": {
   "display_name": "Python 3",
   "language": "python",
   "name": "python3"
  },
  "language_info": {
   "codemirror_mode": {
    "name": "ipython",
    "version": 3
   },
   "file_extension": ".py",
   "mimetype": "text/x-python",
   "name": "python",
   "nbconvert_exporter": "python",
   "pygments_lexer": "ipython3",
   "version": "3.8.8"
  }
 },
 "nbformat": 4,
 "nbformat_minor": 5
}
