{
 "cells": [
  {
   "cell_type": "markdown",
   "id": "6005ad8a",
   "metadata": {},
   "source": [
    "- code mode: To write the python code\n",
    "- markdown mode: To write the description about the concept\n",
    "- To run the cell: shift+enter\n",
    "- To change the cell into code mode to markdown mode: esc+m+enter\n",
    "- To change the cell into markdown mode to code mode: esc+y+enter\n",
    "- To add the new cell: esc+a+enter (above)\n",
    "- To add the new cell in below: esc+b+enter\n",
    "- To delete the cell: esc+d+d"
   ]
  },
  {
   "cell_type": "markdown",
   "id": "3fddd6ef",
   "metadata": {},
   "source": [
    "using '#' symbol we can write the headings:\n",
    "- we have 6 types of headings:\n",
    "\n",
    "# heading1\n",
    "## heading2\n",
    "### heading3\n",
    "#### heading4\n",
    "##### heading5\n",
    "###### heading6\n",
    "# welcome to Data Analysis internship program"
   ]
  },
  {
   "cell_type": "markdown",
   "id": "38cf9c47",
   "metadata": {},
   "source": [
    "### Python Introduction:\n",
    "- It is a high level programming language.\n",
    "- Python is very simple and easy to learn.\n",
    "- Python support the object oriented programming.\n",
    "- Python is platform independent.\n",
    "- Python is case sensitive programming language.\n",
    "- By using python we can develop the data science, machine learning ,AI projects.\n",
    "- Python support the dynamic programming.\n",
    "- It is similar to english language.\n",
    "- it is developed by 'Guido Van Rossum' in the year of 1991."
   ]
  },
  {
   "cell_type": "markdown",
   "id": "f85bf163",
   "metadata": {},
   "source": [
    "### Python Basics:"
   ]
  },
  {
   "cell_type": "code",
   "execution_count": 1,
   "id": "d1adc75b",
   "metadata": {},
   "outputs": [
    {
     "name": "stdout",
     "output_type": "stream",
     "text": [
      "100\n"
     ]
    }
   ],
   "source": [
    "# Variable initialization.\n",
    "# comment: Compiler will not execute the comment line code\n",
    "# It just human readable.\n",
    "a = 100\n",
    "print(a)"
   ]
  },
  {
   "cell_type": "code",
   "execution_count": 4,
   "id": "b1b9fae9",
   "metadata": {},
   "outputs": [
    {
     "name": "stdout",
     "output_type": "stream",
     "text": [
      "apssdcpython\n"
     ]
    }
   ],
   "source": [
    "# To join two strings we can use '+' symbol\n",
    "s1='apssdc'\n",
    "s2 = 'python'\n",
    "print(s1+s2)"
   ]
  },
  {
   "cell_type": "code",
   "execution_count": 7,
   "id": "9dd5c7f6",
   "metadata": {},
   "outputs": [
    {
     "name": "stdout",
     "output_type": "stream",
     "text": [
      "python 100\n"
     ]
    }
   ],
   "source": [
    "# To join the string and integer we can use ','\n",
    "a='python'\n",
    "b=100\n",
    "print(a,b)"
   ]
  },
  {
   "cell_type": "code",
   "execution_count": 9,
   "id": "56eaad20",
   "metadata": {},
   "outputs": [
    {
     "name": "stdout",
     "output_type": "stream",
     "text": [
      "345\n",
      "<class 'int'>\n"
     ]
    }
   ],
   "source": [
    "n=345\n",
    "print(n)\n",
    "# To know the data type of the data..\n",
    "print(type(n))"
   ]
  },
  {
   "cell_type": "code",
   "execution_count": 10,
   "id": "582b373b",
   "metadata": {},
   "outputs": [
    {
     "name": "stdout",
     "output_type": "stream",
     "text": [
      "<class 'str'>\n"
     ]
    }
   ],
   "source": [
    "s = 'hello world'\n",
    "print(type(s))"
   ]
  },
  {
   "cell_type": "code",
   "execution_count": 11,
   "id": "21dded3a",
   "metadata": {},
   "outputs": [
    {
     "name": "stdout",
     "output_type": "stream",
     "text": [
      "<class 'float'>\n"
     ]
    }
   ],
   "source": [
    "f = 23.4\n",
    "print(type(f))"
   ]
  },
  {
   "cell_type": "markdown",
   "id": "4951c4f6",
   "metadata": {},
   "source": [
    "#### To read the input the from the user?\n",
    "- By using input() method we can read the data.\n",
    "- syntax:\n",
    "variable_name = data_type(input(\"prompt message\"))"
   ]
  },
  {
   "cell_type": "code",
   "execution_count": 12,
   "id": "db1151ce",
   "metadata": {},
   "outputs": [
    {
     "name": "stdout",
     "output_type": "stream",
     "text": [
      "Enter n1 value: 123\n",
      "123\n",
      "<class 'int'>\n"
     ]
    }
   ],
   "source": [
    "# To read the integer data?\n",
    "n1 = int(input(\"Enter n1 value: \"))\n",
    "print(n1)\n",
    "print(type(n1))"
   ]
  },
  {
   "cell_type": "code",
   "execution_count": null,
   "id": "e45027b3",
   "metadata": {},
   "outputs": [],
   "source": []
  }
 ],
 "metadata": {
  "kernelspec": {
   "display_name": "Python 3",
   "language": "python",
   "name": "python3"
  },
  "language_info": {
   "codemirror_mode": {
    "name": "ipython",
    "version": 3
   },
   "file_extension": ".py",
   "mimetype": "text/x-python",
   "name": "python",
   "nbconvert_exporter": "python",
   "pygments_lexer": "ipython3",
   "version": "3.8.8"
  }
 },
 "nbformat": 4,
 "nbformat_minor": 5
}
